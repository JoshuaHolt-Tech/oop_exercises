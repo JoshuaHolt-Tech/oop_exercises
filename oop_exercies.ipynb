{
 "cells": [
  {
   "cell_type": "markdown",
   "id": "ed725870-15cc-4cf4-8ab5-0991733f0a63",
   "metadata": {},
   "source": [
    "Create a class called Car with attributes for the make, model, year, and color."
   ]
  },
  {
   "cell_type": "markdown",
   "id": "c7862cab-50c7-48ff-aab4-a1270e714b7f",
   "metadata": {},
   "source": [
    "Create a method on the Car class called drive() that prints out a message saying the car is driving."
   ]
  },
  {
   "cell_type": "code",
   "execution_count": 1,
   "id": "71480216-1814-44a5-a902-4083b00e112a",
   "metadata": {},
   "outputs": [],
   "source": [
    "class Car:\n",
    "    def __init__(self, make, model, year, color):\n",
    "        self.make = make\n",
    "        self.model = model\n",
    "        self.year = year\n",
    "        self.color = color\n",
    "        \n",
    "    #Method\n",
    "    def driving(self):\n",
    "        return f\"The {self.make} {self.model} is now driving.\"\n",
    "        "
   ]
  },
  {
   "cell_type": "code",
   "execution_count": 2,
   "id": "789e87f3-d20f-42ce-93e7-4419aee224de",
   "metadata": {},
   "outputs": [],
   "source": [
    "fast_car = Car(\"Ford\", \"Pinto\", 1983, \"red\")"
   ]
  },
  {
   "cell_type": "code",
   "execution_count": 3,
   "id": "38ff7e03-2765-4322-b355-8081fec7847c",
   "metadata": {},
   "outputs": [
    {
     "data": {
      "text/plain": [
       "'Ford'"
      ]
     },
     "execution_count": 3,
     "metadata": {},
     "output_type": "execute_result"
    }
   ],
   "source": [
    "fast_car.make"
   ]
  },
  {
   "cell_type": "code",
   "execution_count": 4,
   "id": "38ddba6b-97e2-4a8c-9ea5-a6088f0a902d",
   "metadata": {},
   "outputs": [
    {
     "data": {
      "text/plain": [
       "'The Ford Pinto is now driving.'"
      ]
     },
     "execution_count": 4,
     "metadata": {},
     "output_type": "execute_result"
    }
   ],
   "source": [
    "fast_car.driving()"
   ]
  },
  {
   "cell_type": "markdown",
   "id": "8ae73741-75a1-4509-8783-9579b71c81ec",
   "metadata": {},
   "source": [
    "Create a class called Person with attributes for the name, age, and gender."
   ]
  },
  {
   "cell_type": "markdown",
   "id": "8eaacadb-9358-4c1a-b7f7-74250877067b",
   "metadata": {},
   "source": [
    "Create a method on the Person class called speak() that prints out a message saying the person is speaking."
   ]
  },
  {
   "cell_type": "code",
   "execution_count": 5,
   "id": "9844290d-67f3-47e7-98b1-ccc7a08b8797",
   "metadata": {},
   "outputs": [],
   "source": [
    "class Person:\n",
    "    def __init__(self, name, age, gender):\n",
    "        self.name = name\n",
    "        self.age = age\n",
    "        self.gender = gender\n",
    "    \n",
    "    def speak(self):\n",
    "        return f\"{self.name} is now speaking.\""
   ]
  },
  {
   "cell_type": "code",
   "execution_count": 6,
   "id": "f78457e8-8a1d-46d6-b47b-3b907351659d",
   "metadata": {},
   "outputs": [],
   "source": [
    "jim = Person(\"Jimmy P\", 35, \"male\")"
   ]
  },
  {
   "cell_type": "code",
   "execution_count": 7,
   "id": "843b88f4-158c-462f-a49f-3b8920f82e2b",
   "metadata": {},
   "outputs": [
    {
     "data": {
      "text/plain": [
       "'Jimmy P is now speaking.'"
      ]
     },
     "execution_count": 7,
     "metadata": {},
     "output_type": "execute_result"
    }
   ],
   "source": [
    "jim.speak()"
   ]
  },
  {
   "cell_type": "markdown",
   "id": "b0053509-5183-4df0-9bac-c6440e5ef1c4",
   "metadata": {},
   "source": [
    "Create a class called BankAccount with attributes for the name, balance, and account number."
   ]
  },
  {
   "cell_type": "markdown",
   "id": "a7dd50a7-78fa-4604-ad0a-60bfff38ca7f",
   "metadata": {},
   "source": [
    "Create a method on the BankAccount class called deposit() that deposits money into the account."
   ]
  },
  {
   "cell_type": "markdown",
   "id": "ad43fca9-17b6-4749-9cf4-eaeb2eaf4163",
   "metadata": {},
   "source": [
    "Create a method on the BankAccount class called withdraw() that withdraws money from the account."
   ]
  },
  {
   "cell_type": "code",
   "execution_count": 8,
   "id": "beacd27a-4775-4477-a765-5660921e52ec",
   "metadata": {},
   "outputs": [],
   "source": [
    "class BankAccount:\n",
    "    def __init__(self, name, balance, acc_num):\n",
    "        self.name = name\n",
    "        self.balance = balance\n",
    "        self.acc_num = acc_num\n",
    "        \n",
    "    def deposit(self, amount=0.0):\n",
    "        if amount > 0.0:\n",
    "            self.balance += float(amount)\n",
    "            return f\"You have deposited: ${float(amount)} and have a new balance of ${self.balance}\"\n",
    "        else:\n",
    "            return \"Please enter a positive number.\"\n",
    "        \n",
    "    def withdraw(self, amount=0.0):\n",
    "        if self.balance < amount:\n",
    "            return f\"Insufficient funds. Only ${self.balance} available.\"\n",
    "        else:\n",
    "            self.balance -= amount\n",
    "            return f\"You have withdrawn ${float(amount)} and have ${self.balance} left.\""
   ]
  },
  {
   "cell_type": "code",
   "execution_count": 9,
   "id": "f68c6288-acc3-4b0a-b250-13495518a2c4",
   "metadata": {},
   "outputs": [],
   "source": [
    "jims_account = BankAccount(\"Jimmy P\", 50.0, 3244324)"
   ]
  },
  {
   "cell_type": "code",
   "execution_count": 10,
   "id": "0be2ac7e-f001-491b-bd78-9507e35a3326",
   "metadata": {},
   "outputs": [
    {
     "data": {
      "text/plain": [
       "'You have deposited: $25.0 and have a new balance of $75.0'"
      ]
     },
     "execution_count": 10,
     "metadata": {},
     "output_type": "execute_result"
    }
   ],
   "source": [
    "jims_account.deposit(25)"
   ]
  },
  {
   "cell_type": "code",
   "execution_count": 11,
   "id": "b9a7c5d9-c8ed-49ec-9aee-13955ec2d341",
   "metadata": {},
   "outputs": [
    {
     "data": {
      "text/plain": [
       "'You have withdrawn $22.0 and have $53.0 left.'"
      ]
     },
     "execution_count": 11,
     "metadata": {},
     "output_type": "execute_result"
    }
   ],
   "source": [
    "jims_account.withdraw(22)"
   ]
  },
  {
   "cell_type": "markdown",
   "id": "2f7a7eb4-726b-4040-8706-ab00dffde34c",
   "metadata": {},
   "source": [
    "Create a class called Pizza with attributes for the size, toppings, and price."
   ]
  },
  {
   "cell_type": "markdown",
   "id": "659f00f5-7c29-471d-830d-894913c3cd0c",
   "metadata": {},
   "source": [
    "Create a method on the Pizza class called cut() that cuts the pizza into slices."
   ]
  },
  {
   "cell_type": "markdown",
   "id": "4c5ce145-4682-48ab-a47a-242f4f556a2d",
   "metadata": {},
   "source": [
    "Create a method on the Pizza class called serve() that serves the pizza to a customer."
   ]
  },
  {
   "cell_type": "code",
   "execution_count": 12,
   "id": "bc27317f-c6b8-4b12-b15e-4787d7f0e8c7",
   "metadata": {},
   "outputs": [],
   "source": [
    "class Pizza:\n",
    "    def __init__(self, size, toppings, price):\n",
    "        self.size = size\n",
    "        self.toppings = toppings\n",
    "        self.price = price\n",
    "    \n",
    "    def cut(self):\n",
    "        return f\"Your pizza is in 8 slices.\"\n",
    "    \n",
    "    def serve(self):\n",
    "        return f\"Your pizza is now served.\""
   ]
  },
  {
   "cell_type": "code",
   "execution_count": 13,
   "id": "a807eb21-3ac7-4c14-8839-4a9131464852",
   "metadata": {},
   "outputs": [],
   "source": [
    "pizza_1 = Pizza(\"Large\", \"sausage\", 15.25)"
   ]
  },
  {
   "cell_type": "code",
   "execution_count": 14,
   "id": "a21812ea-e66d-4865-b7ba-ce4c6794fba8",
   "metadata": {},
   "outputs": [
    {
     "data": {
      "text/plain": [
       "'Your pizza is in 8 slices.'"
      ]
     },
     "execution_count": 14,
     "metadata": {},
     "output_type": "execute_result"
    }
   ],
   "source": [
    "pizza_1.cut()"
   ]
  },
  {
   "cell_type": "code",
   "execution_count": 15,
   "id": "fb3eaee5-1fd5-4853-9136-665f1a810849",
   "metadata": {},
   "outputs": [
    {
     "data": {
      "text/plain": [
       "'Your pizza is now served.'"
      ]
     },
     "execution_count": 15,
     "metadata": {},
     "output_type": "execute_result"
    }
   ],
   "source": [
    "pizza_1.serve()"
   ]
  },
  {
   "cell_type": "markdown",
   "id": "2b236c99-8a2c-4cf5-b339-a03004ef7b86",
   "metadata": {},
   "source": [
    "Plot the trajectory of a rocket"
   ]
  },
  {
   "cell_type": "code",
   "execution_count": 16,
   "id": "c4e6acd4-37e9-4d9c-a796-7a1344e758d9",
   "metadata": {},
   "outputs": [],
   "source": [
    "import numpy as np\n",
    "import matplotlib.pyplot as plt"
   ]
  },
  {
   "cell_type": "code",
   "execution_count": 17,
   "id": "3d29e12e-5cde-444b-b7ea-7a44e824c407",
   "metadata": {},
   "outputs": [],
   "source": [
    "#Initial conditions\n",
    "class Rocket:\n",
    "    def __init__(self, init_position, init_velocity, init_mass, burn_time, delta_t = 0.01):\n",
    "        self.position = init_position\n",
    "        self.velocity = init_velocity\n",
    "        self.mass = init_mass\n",
    "        self.burn_time = burn_time\n",
    "        self.dt = delta_t\n",
    "        \n",
    "    def update_vx(self, x_acceleration):\n",
    "        self.velocity[0] += x_acceleration\n",
    "        \n",
    "    def update_vy(self, y_acceleration):\n",
    "        self.velocity[1] += y_acceleration\n",
    "\n",
    "    def update_vz(self, z_acceleration):\n",
    "        self.velocity[2] += z_acceleration\n",
    "    \n",
    "    def update_position(self):\n",
    "        self.position[0] += self.velocity[0]\n",
    "        self.position[1] += self.velocity[1]\n",
    "        self.position[2] += self.velocity[2]\n",
    "    \n",
    "    def update_mass(self, mass_change):\n",
    "        self.mass += mass_change\n",
    "        \n",
    "    def launch(self):\n",
    "        t = np.arange(0, self.burn_time, self.dt)\n",
    "        main_engine_thrust = 1000\n",
    "        for i in range(len(t)):\n",
    "            self.update_vy(main_engine_thrust)\n",
    "            self.update_position()\n",
    "            print(f\"Position: {self.position}\")\n",
    "            print(f\"Velocity: {self.velocity}\")\n",
    "            print(\"-----------------------------\")\n",
    "\n",
    "        \n",
    "        \n",
    "            "
   ]
  },
  {
   "cell_type": "code",
   "execution_count": 18,
   "id": "0ab0b356-8278-4388-bd60-f5fd9de99cff",
   "metadata": {},
   "outputs": [],
   "source": [
    "sparky_mcsparks = Rocket([0,0,0],[0,0,0],1000,1)"
   ]
  },
  {
   "cell_type": "code",
   "execution_count": 19,
   "id": "f8be649c-6c92-4374-93ea-4a2bb1cd2986",
   "metadata": {},
   "outputs": [
    {
     "name": "stdout",
     "output_type": "stream",
     "text": [
      "Position: [0, 1000, 0]\n",
      "Velocity: [0, 1000, 0]\n",
      "-----------------------------\n",
      "Position: [0, 3000, 0]\n",
      "Velocity: [0, 2000, 0]\n",
      "-----------------------------\n",
      "Position: [0, 6000, 0]\n",
      "Velocity: [0, 3000, 0]\n",
      "-----------------------------\n",
      "Position: [0, 10000, 0]\n",
      "Velocity: [0, 4000, 0]\n",
      "-----------------------------\n",
      "Position: [0, 15000, 0]\n",
      "Velocity: [0, 5000, 0]\n",
      "-----------------------------\n",
      "Position: [0, 21000, 0]\n",
      "Velocity: [0, 6000, 0]\n",
      "-----------------------------\n",
      "Position: [0, 28000, 0]\n",
      "Velocity: [0, 7000, 0]\n",
      "-----------------------------\n",
      "Position: [0, 36000, 0]\n",
      "Velocity: [0, 8000, 0]\n",
      "-----------------------------\n",
      "Position: [0, 45000, 0]\n",
      "Velocity: [0, 9000, 0]\n",
      "-----------------------------\n",
      "Position: [0, 55000, 0]\n",
      "Velocity: [0, 10000, 0]\n",
      "-----------------------------\n",
      "Position: [0, 66000, 0]\n",
      "Velocity: [0, 11000, 0]\n",
      "-----------------------------\n",
      "Position: [0, 78000, 0]\n",
      "Velocity: [0, 12000, 0]\n",
      "-----------------------------\n",
      "Position: [0, 91000, 0]\n",
      "Velocity: [0, 13000, 0]\n",
      "-----------------------------\n",
      "Position: [0, 105000, 0]\n",
      "Velocity: [0, 14000, 0]\n",
      "-----------------------------\n",
      "Position: [0, 120000, 0]\n",
      "Velocity: [0, 15000, 0]\n",
      "-----------------------------\n",
      "Position: [0, 136000, 0]\n",
      "Velocity: [0, 16000, 0]\n",
      "-----------------------------\n",
      "Position: [0, 153000, 0]\n",
      "Velocity: [0, 17000, 0]\n",
      "-----------------------------\n",
      "Position: [0, 171000, 0]\n",
      "Velocity: [0, 18000, 0]\n",
      "-----------------------------\n",
      "Position: [0, 190000, 0]\n",
      "Velocity: [0, 19000, 0]\n",
      "-----------------------------\n",
      "Position: [0, 210000, 0]\n",
      "Velocity: [0, 20000, 0]\n",
      "-----------------------------\n",
      "Position: [0, 231000, 0]\n",
      "Velocity: [0, 21000, 0]\n",
      "-----------------------------\n",
      "Position: [0, 253000, 0]\n",
      "Velocity: [0, 22000, 0]\n",
      "-----------------------------\n",
      "Position: [0, 276000, 0]\n",
      "Velocity: [0, 23000, 0]\n",
      "-----------------------------\n",
      "Position: [0, 300000, 0]\n",
      "Velocity: [0, 24000, 0]\n",
      "-----------------------------\n",
      "Position: [0, 325000, 0]\n",
      "Velocity: [0, 25000, 0]\n",
      "-----------------------------\n",
      "Position: [0, 351000, 0]\n",
      "Velocity: [0, 26000, 0]\n",
      "-----------------------------\n",
      "Position: [0, 378000, 0]\n",
      "Velocity: [0, 27000, 0]\n",
      "-----------------------------\n",
      "Position: [0, 406000, 0]\n",
      "Velocity: [0, 28000, 0]\n",
      "-----------------------------\n",
      "Position: [0, 435000, 0]\n",
      "Velocity: [0, 29000, 0]\n",
      "-----------------------------\n",
      "Position: [0, 465000, 0]\n",
      "Velocity: [0, 30000, 0]\n",
      "-----------------------------\n",
      "Position: [0, 496000, 0]\n",
      "Velocity: [0, 31000, 0]\n",
      "-----------------------------\n",
      "Position: [0, 528000, 0]\n",
      "Velocity: [0, 32000, 0]\n",
      "-----------------------------\n",
      "Position: [0, 561000, 0]\n",
      "Velocity: [0, 33000, 0]\n",
      "-----------------------------\n",
      "Position: [0, 595000, 0]\n",
      "Velocity: [0, 34000, 0]\n",
      "-----------------------------\n",
      "Position: [0, 630000, 0]\n",
      "Velocity: [0, 35000, 0]\n",
      "-----------------------------\n",
      "Position: [0, 666000, 0]\n",
      "Velocity: [0, 36000, 0]\n",
      "-----------------------------\n",
      "Position: [0, 703000, 0]\n",
      "Velocity: [0, 37000, 0]\n",
      "-----------------------------\n",
      "Position: [0, 741000, 0]\n",
      "Velocity: [0, 38000, 0]\n",
      "-----------------------------\n",
      "Position: [0, 780000, 0]\n",
      "Velocity: [0, 39000, 0]\n",
      "-----------------------------\n",
      "Position: [0, 820000, 0]\n",
      "Velocity: [0, 40000, 0]\n",
      "-----------------------------\n",
      "Position: [0, 861000, 0]\n",
      "Velocity: [0, 41000, 0]\n",
      "-----------------------------\n",
      "Position: [0, 903000, 0]\n",
      "Velocity: [0, 42000, 0]\n",
      "-----------------------------\n",
      "Position: [0, 946000, 0]\n",
      "Velocity: [0, 43000, 0]\n",
      "-----------------------------\n",
      "Position: [0, 990000, 0]\n",
      "Velocity: [0, 44000, 0]\n",
      "-----------------------------\n",
      "Position: [0, 1035000, 0]\n",
      "Velocity: [0, 45000, 0]\n",
      "-----------------------------\n",
      "Position: [0, 1081000, 0]\n",
      "Velocity: [0, 46000, 0]\n",
      "-----------------------------\n",
      "Position: [0, 1128000, 0]\n",
      "Velocity: [0, 47000, 0]\n",
      "-----------------------------\n",
      "Position: [0, 1176000, 0]\n",
      "Velocity: [0, 48000, 0]\n",
      "-----------------------------\n",
      "Position: [0, 1225000, 0]\n",
      "Velocity: [0, 49000, 0]\n",
      "-----------------------------\n",
      "Position: [0, 1275000, 0]\n",
      "Velocity: [0, 50000, 0]\n",
      "-----------------------------\n",
      "Position: [0, 1326000, 0]\n",
      "Velocity: [0, 51000, 0]\n",
      "-----------------------------\n",
      "Position: [0, 1378000, 0]\n",
      "Velocity: [0, 52000, 0]\n",
      "-----------------------------\n",
      "Position: [0, 1431000, 0]\n",
      "Velocity: [0, 53000, 0]\n",
      "-----------------------------\n",
      "Position: [0, 1485000, 0]\n",
      "Velocity: [0, 54000, 0]\n",
      "-----------------------------\n",
      "Position: [0, 1540000, 0]\n",
      "Velocity: [0, 55000, 0]\n",
      "-----------------------------\n",
      "Position: [0, 1596000, 0]\n",
      "Velocity: [0, 56000, 0]\n",
      "-----------------------------\n",
      "Position: [0, 1653000, 0]\n",
      "Velocity: [0, 57000, 0]\n",
      "-----------------------------\n",
      "Position: [0, 1711000, 0]\n",
      "Velocity: [0, 58000, 0]\n",
      "-----------------------------\n",
      "Position: [0, 1770000, 0]\n",
      "Velocity: [0, 59000, 0]\n",
      "-----------------------------\n",
      "Position: [0, 1830000, 0]\n",
      "Velocity: [0, 60000, 0]\n",
      "-----------------------------\n",
      "Position: [0, 1891000, 0]\n",
      "Velocity: [0, 61000, 0]\n",
      "-----------------------------\n",
      "Position: [0, 1953000, 0]\n",
      "Velocity: [0, 62000, 0]\n",
      "-----------------------------\n",
      "Position: [0, 2016000, 0]\n",
      "Velocity: [0, 63000, 0]\n",
      "-----------------------------\n",
      "Position: [0, 2080000, 0]\n",
      "Velocity: [0, 64000, 0]\n",
      "-----------------------------\n",
      "Position: [0, 2145000, 0]\n",
      "Velocity: [0, 65000, 0]\n",
      "-----------------------------\n",
      "Position: [0, 2211000, 0]\n",
      "Velocity: [0, 66000, 0]\n",
      "-----------------------------\n",
      "Position: [0, 2278000, 0]\n",
      "Velocity: [0, 67000, 0]\n",
      "-----------------------------\n",
      "Position: [0, 2346000, 0]\n",
      "Velocity: [0, 68000, 0]\n",
      "-----------------------------\n",
      "Position: [0, 2415000, 0]\n",
      "Velocity: [0, 69000, 0]\n",
      "-----------------------------\n",
      "Position: [0, 2485000, 0]\n",
      "Velocity: [0, 70000, 0]\n",
      "-----------------------------\n",
      "Position: [0, 2556000, 0]\n",
      "Velocity: [0, 71000, 0]\n",
      "-----------------------------\n",
      "Position: [0, 2628000, 0]\n",
      "Velocity: [0, 72000, 0]\n",
      "-----------------------------\n",
      "Position: [0, 2701000, 0]\n",
      "Velocity: [0, 73000, 0]\n",
      "-----------------------------\n",
      "Position: [0, 2775000, 0]\n",
      "Velocity: [0, 74000, 0]\n",
      "-----------------------------\n",
      "Position: [0, 2850000, 0]\n",
      "Velocity: [0, 75000, 0]\n",
      "-----------------------------\n",
      "Position: [0, 2926000, 0]\n",
      "Velocity: [0, 76000, 0]\n",
      "-----------------------------\n",
      "Position: [0, 3003000, 0]\n",
      "Velocity: [0, 77000, 0]\n",
      "-----------------------------\n",
      "Position: [0, 3081000, 0]\n",
      "Velocity: [0, 78000, 0]\n",
      "-----------------------------\n",
      "Position: [0, 3160000, 0]\n",
      "Velocity: [0, 79000, 0]\n",
      "-----------------------------\n",
      "Position: [0, 3240000, 0]\n",
      "Velocity: [0, 80000, 0]\n",
      "-----------------------------\n",
      "Position: [0, 3321000, 0]\n",
      "Velocity: [0, 81000, 0]\n",
      "-----------------------------\n",
      "Position: [0, 3403000, 0]\n",
      "Velocity: [0, 82000, 0]\n",
      "-----------------------------\n",
      "Position: [0, 3486000, 0]\n",
      "Velocity: [0, 83000, 0]\n",
      "-----------------------------\n",
      "Position: [0, 3570000, 0]\n",
      "Velocity: [0, 84000, 0]\n",
      "-----------------------------\n",
      "Position: [0, 3655000, 0]\n",
      "Velocity: [0, 85000, 0]\n",
      "-----------------------------\n",
      "Position: [0, 3741000, 0]\n",
      "Velocity: [0, 86000, 0]\n",
      "-----------------------------\n",
      "Position: [0, 3828000, 0]\n",
      "Velocity: [0, 87000, 0]\n",
      "-----------------------------\n",
      "Position: [0, 3916000, 0]\n",
      "Velocity: [0, 88000, 0]\n",
      "-----------------------------\n",
      "Position: [0, 4005000, 0]\n",
      "Velocity: [0, 89000, 0]\n",
      "-----------------------------\n",
      "Position: [0, 4095000, 0]\n",
      "Velocity: [0, 90000, 0]\n",
      "-----------------------------\n",
      "Position: [0, 4186000, 0]\n",
      "Velocity: [0, 91000, 0]\n",
      "-----------------------------\n",
      "Position: [0, 4278000, 0]\n",
      "Velocity: [0, 92000, 0]\n",
      "-----------------------------\n",
      "Position: [0, 4371000, 0]\n",
      "Velocity: [0, 93000, 0]\n",
      "-----------------------------\n",
      "Position: [0, 4465000, 0]\n",
      "Velocity: [0, 94000, 0]\n",
      "-----------------------------\n",
      "Position: [0, 4560000, 0]\n",
      "Velocity: [0, 95000, 0]\n",
      "-----------------------------\n",
      "Position: [0, 4656000, 0]\n",
      "Velocity: [0, 96000, 0]\n",
      "-----------------------------\n",
      "Position: [0, 4753000, 0]\n",
      "Velocity: [0, 97000, 0]\n",
      "-----------------------------\n",
      "Position: [0, 4851000, 0]\n",
      "Velocity: [0, 98000, 0]\n",
      "-----------------------------\n",
      "Position: [0, 4950000, 0]\n",
      "Velocity: [0, 99000, 0]\n",
      "-----------------------------\n",
      "Position: [0, 5050000, 0]\n",
      "Velocity: [0, 100000, 0]\n",
      "-----------------------------\n"
     ]
    }
   ],
   "source": [
    "sparky_mcsparks.launch()"
   ]
  },
  {
   "cell_type": "code",
   "execution_count": null,
   "id": "d5da5392-e9d0-4642-9bf2-7959abf5b2b4",
   "metadata": {},
   "outputs": [],
   "source": []
  },
  {
   "cell_type": "code",
   "execution_count": null,
   "id": "b7af194f-79a0-4c2b-947f-9b641320efa0",
   "metadata": {},
   "outputs": [],
   "source": []
  }
 ],
 "metadata": {
  "kernelspec": {
   "display_name": "Python 3 (ipykernel)",
   "language": "python",
   "name": "python3"
  },
  "language_info": {
   "codemirror_mode": {
    "name": "ipython",
    "version": 3
   },
   "file_extension": ".py",
   "mimetype": "text/x-python",
   "name": "python",
   "nbconvert_exporter": "python",
   "pygments_lexer": "ipython3",
   "version": "3.10.9"
  }
 },
 "nbformat": 4,
 "nbformat_minor": 5
}
