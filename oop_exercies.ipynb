{
 "cells": [
  {
   "cell_type": "markdown",
   "id": "ed725870-15cc-4cf4-8ab5-0991733f0a63",
   "metadata": {},
   "source": [
    "Create a class called Car with attributes for the make, model, year, and color."
   ]
  },
  {
   "cell_type": "markdown",
   "id": "c7862cab-50c7-48ff-aab4-a1270e714b7f",
   "metadata": {},
   "source": [
    "Create a method on the Car class called drive() that prints out a message saying the car is driving."
   ]
  },
  {
   "cell_type": "code",
   "execution_count": 9,
   "id": "71480216-1814-44a5-a902-4083b00e112a",
   "metadata": {},
   "outputs": [],
   "source": [
    "class Car:\n",
    "    def __init__(self, make, model, year, color):\n",
    "        self.make = make\n",
    "        self.model = model\n",
    "        self.year = year\n",
    "        self.color = color\n",
    "        \n",
    "    #Method\n",
    "    def driving(self):\n",
    "        return f\"The {self.make} {self.model} is now driving.\"\n",
    "        "
   ]
  },
  {
   "cell_type": "code",
   "execution_count": 10,
   "id": "789e87f3-d20f-42ce-93e7-4419aee224de",
   "metadata": {},
   "outputs": [],
   "source": [
    "fast_car = Car(\"Ford\", \"Pinto\", 1983, \"red\")"
   ]
  },
  {
   "cell_type": "code",
   "execution_count": 11,
   "id": "38ff7e03-2765-4322-b355-8081fec7847c",
   "metadata": {},
   "outputs": [
    {
     "data": {
      "text/plain": [
       "'Ford'"
      ]
     },
     "execution_count": 11,
     "metadata": {},
     "output_type": "execute_result"
    }
   ],
   "source": [
    "fast_car.make"
   ]
  },
  {
   "cell_type": "code",
   "execution_count": 12,
   "id": "38ddba6b-97e2-4a8c-9ea5-a6088f0a902d",
   "metadata": {},
   "outputs": [
    {
     "data": {
      "text/plain": [
       "'The Ford Pinto is now driving.'"
      ]
     },
     "execution_count": 12,
     "metadata": {},
     "output_type": "execute_result"
    }
   ],
   "source": [
    "fast_car.driving()"
   ]
  },
  {
   "cell_type": "markdown",
   "id": "8ae73741-75a1-4509-8783-9579b71c81ec",
   "metadata": {},
   "source": [
    "Create a class called Person with attributes for the name, age, and gender."
   ]
  },
  {
   "cell_type": "markdown",
   "id": "8eaacadb-9358-4c1a-b7f7-74250877067b",
   "metadata": {},
   "source": [
    "Create a method on the Person class called speak() that prints out a message saying the person is speaking."
   ]
  },
  {
   "cell_type": "code",
   "execution_count": 17,
   "id": "9844290d-67f3-47e7-98b1-ccc7a08b8797",
   "metadata": {},
   "outputs": [],
   "source": [
    "class Person:\n",
    "    def __init__(self, name, age, gender):\n",
    "        self.name = name\n",
    "        self.age = age\n",
    "        self.gender = gender\n",
    "    \n",
    "    def speak(self):\n",
    "        return f\"{self.name} is now speaking.\""
   ]
  },
  {
   "cell_type": "code",
   "execution_count": 18,
   "id": "f78457e8-8a1d-46d6-b47b-3b907351659d",
   "metadata": {},
   "outputs": [],
   "source": [
    "jim = Person(\"Jimmy P\", 35, \"male\")"
   ]
  },
  {
   "cell_type": "code",
   "execution_count": 19,
   "id": "843b88f4-158c-462f-a49f-3b8920f82e2b",
   "metadata": {},
   "outputs": [
    {
     "data": {
      "text/plain": [
       "'Jimmy P is now speaking.'"
      ]
     },
     "execution_count": 19,
     "metadata": {},
     "output_type": "execute_result"
    }
   ],
   "source": [
    "jim.speak()"
   ]
  },
  {
   "cell_type": "markdown",
   "id": "b0053509-5183-4df0-9bac-c6440e5ef1c4",
   "metadata": {},
   "source": [
    "Create a class called BankAccount with attributes for the name, balance, and account number."
   ]
  },
  {
   "cell_type": "markdown",
   "id": "a7dd50a7-78fa-4604-ad0a-60bfff38ca7f",
   "metadata": {},
   "source": [
    "Create a method on the BankAccount class called deposit() that deposits money into the account."
   ]
  },
  {
   "cell_type": "markdown",
   "id": "ad43fca9-17b6-4749-9cf4-eaeb2eaf4163",
   "metadata": {},
   "source": [
    "Create a method on the BankAccount class called withdraw() that withdraws money from the account."
   ]
  },
  {
   "cell_type": "code",
   "execution_count": 35,
   "id": "beacd27a-4775-4477-a765-5660921e52ec",
   "metadata": {},
   "outputs": [],
   "source": [
    "class BankAccount:\n",
    "    def __init__(self, name, balance, acc_num):\n",
    "        self.name = name\n",
    "        self.balance = balance\n",
    "        self.acc_num = acc_num\n",
    "        \n",
    "    def deposit(self, amount=0.0):\n",
    "        if amount > 0.0:\n",
    "            self.balance += float(amount)\n",
    "            return f\"You have deposited: ${float(amount)} and have a new balance of ${self.balance}\"\n",
    "        else:\n",
    "            return \"Please enter a positive number.\"\n",
    "        \n",
    "    def withdraw(self, amount=0.0):\n",
    "        if self.balance < amount:\n",
    "            return f\"Insufficient funds. Only ${self.balance} available.\"\n",
    "        else:\n",
    "            self.balance -= amount\n",
    "            return f\"You have withdrawn ${float(amount)} and have ${self.balance} left.\""
   ]
  },
  {
   "cell_type": "code",
   "execution_count": 36,
   "id": "f68c6288-acc3-4b0a-b250-13495518a2c4",
   "metadata": {},
   "outputs": [],
   "source": [
    "jims_account = BankAccount(\"Jimmy P\", 50.0, 3244324)"
   ]
  },
  {
   "cell_type": "code",
   "execution_count": 37,
   "id": "0be2ac7e-f001-491b-bd78-9507e35a3326",
   "metadata": {},
   "outputs": [
    {
     "data": {
      "text/plain": [
       "'You have deposited: $25.0 and have a new balance of $75.0'"
      ]
     },
     "execution_count": 37,
     "metadata": {},
     "output_type": "execute_result"
    }
   ],
   "source": [
    "jims_account.deposit(25)"
   ]
  },
  {
   "cell_type": "code",
   "execution_count": 38,
   "id": "b9a7c5d9-c8ed-49ec-9aee-13955ec2d341",
   "metadata": {},
   "outputs": [
    {
     "data": {
      "text/plain": [
       "'You have withdrawn $22 and have $53.0 left.'"
      ]
     },
     "execution_count": 38,
     "metadata": {},
     "output_type": "execute_result"
    }
   ],
   "source": [
    "jims_account.withdraw(22)"
   ]
  },
  {
   "cell_type": "markdown",
   "id": "2f7a7eb4-726b-4040-8706-ab00dffde34c",
   "metadata": {},
   "source": [
    "Create a class called Pizza with attributes for the size, toppings, and price."
   ]
  },
  {
   "cell_type": "markdown",
   "id": "659f00f5-7c29-471d-830d-894913c3cd0c",
   "metadata": {},
   "source": [
    "Create a method on the Pizza class called cut() that cuts the pizza into slices."
   ]
  },
  {
   "cell_type": "markdown",
   "id": "4c5ce145-4682-48ab-a47a-242f4f556a2d",
   "metadata": {},
   "source": [
    "Create a method on the Pizza class called serve() that serves the pizza to a customer."
   ]
  },
  {
   "cell_type": "code",
   "execution_count": 39,
   "id": "bc27317f-c6b8-4b12-b15e-4787d7f0e8c7",
   "metadata": {},
   "outputs": [],
   "source": [
    "class Pizza:\n",
    "    def __init__(self, size, toppings, price):\n",
    "        self.size = size\n",
    "        self.toppings = toppings\n",
    "        self.price = price\n",
    "    \n",
    "    def cut(self):\n",
    "        return f\"Your pizza is in 8 slices.\"\n",
    "    \n",
    "    def serve(self):\n",
    "        return f\"Your pizza is now served.\""
   ]
  },
  {
   "cell_type": "code",
   "execution_count": 40,
   "id": "a807eb21-3ac7-4c14-8839-4a9131464852",
   "metadata": {},
   "outputs": [],
   "source": [
    "pizza_1 = Pizza(\"Large\", \"sausage\", 15.25)"
   ]
  },
  {
   "cell_type": "code",
   "execution_count": 41,
   "id": "a21812ea-e66d-4865-b7ba-ce4c6794fba8",
   "metadata": {},
   "outputs": [
    {
     "data": {
      "text/plain": [
       "'Your pizza is in 8 slices.'"
      ]
     },
     "execution_count": 41,
     "metadata": {},
     "output_type": "execute_result"
    }
   ],
   "source": [
    "pizza_1.cut()"
   ]
  },
  {
   "cell_type": "code",
   "execution_count": 42,
   "id": "fb3eaee5-1fd5-4853-9136-665f1a810849",
   "metadata": {},
   "outputs": [
    {
     "data": {
      "text/plain": [
       "'Your pizza is now served.'"
      ]
     },
     "execution_count": 42,
     "metadata": {},
     "output_type": "execute_result"
    }
   ],
   "source": [
    "pizza_1.serve()"
   ]
  },
  {
   "cell_type": "code",
   "execution_count": null,
   "id": "c4e6acd4-37e9-4d9c-a796-7a1344e758d9",
   "metadata": {},
   "outputs": [],
   "source": []
  }
 ],
 "metadata": {
  "kernelspec": {
   "display_name": "Python 3 (ipykernel)",
   "language": "python",
   "name": "python3"
  },
  "language_info": {
   "codemirror_mode": {
    "name": "ipython",
    "version": 3
   },
   "file_extension": ".py",
   "mimetype": "text/x-python",
   "name": "python",
   "nbconvert_exporter": "python",
   "pygments_lexer": "ipython3",
   "version": "3.10.9"
  }
 },
 "nbformat": 4,
 "nbformat_minor": 5
}
