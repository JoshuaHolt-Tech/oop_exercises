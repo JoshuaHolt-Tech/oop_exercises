{
 "cells": [
  {
   "cell_type": "markdown",
   "id": "e3b09749-a0c0-4c05-810c-09597a785b90",
   "metadata": {},
   "source": [
    "### 1. Understanding Digital Twins\n",
    "Definition of digital twins\n",
    "Importance of digital twins in various industries\n",
    "Examples of digital twin applications"
   ]
  },
  {
   "cell_type": "markdown",
   "id": "c4535952-1876-47df-84c9-e6f9da860ce8",
   "metadata": {},
   "source": [
    "### 2. Modeling Digital Twins with Python"
   ]
  },
  {
   "cell_type": "markdown",
   "id": "07c6b6d7-652c-478a-a89d-42c2a3fb49a4",
   "metadata": {},
   "source": [
    "#### Choosing the right programming paradigm for digital twin modeling:\n",
    "When it comes to digital twin modeling, the two most common programming paradigms are Object-Oriented Programming (OOP) and Functional Programming (FP). OOP is a programming paradigm that is centered around objects, which are instances of classes that encapsulate data and behavior. On the other hand, FP is a programming paradigm that is centered around functions and emphasizes immutability and the avoidance of side effects. Both paradigms have their pros and cons, and the choice ultimately depends on the specific needs of the project. "
   ]
  },
  {
   "cell_type": "markdown",
   "id": "9f52a8b3-04c6-44c2-a1cd-331b7d25259a",
   "metadata": {},
   "source": [
    "#### Object-Oriented Programming (OOP) vs. Functional Programming (FP) for digital twin modeling:\n",
    "OOP is often the preferred paradigm for digital twin modeling because it allows for the creation of objects that represent physical entities in the real world. For example, a digital twin of an airplane could be represented as an object that has attributes such as altitude, speed, and fuel level, as well as methods for changing these attributes. FP, on the other hand, is often used for more mathematical and algorithmic tasks that don't involve physical entities."
   ]
  },
  {
   "cell_type": "markdown",
   "id": "20e664a5-1504-42cb-bb57-11cd7308877b",
   "metadata": {},
   "source": [
    "#### Creating digital twin classes with OOP:\n",
    "To create a digital twin with OOP, you'll need to define a class that represents the physical entity you want to model. For example, here's a class that represents a simple digital twin of a car:"
   ]
  },
  {
   "cell_type": "code",
   "execution_count": 1,
   "id": "0153db5f-b24b-4637-996e-c2be05c280e1",
   "metadata": {},
   "outputs": [],
   "source": [
    "class Car:\n",
    "    def __init__(self, make, model, year, color):\n",
    "        self.make = make\n",
    "        self.model = model\n",
    "        self.year = year\n",
    "        self.color = color\n",
    "        self.speed = 0\n",
    "\n",
    "    def accelerate(self, mph):\n",
    "        self.speed += mph\n",
    "\n",
    "    def brake(self, mph):\n",
    "        self.speed -= mph\n",
    "\n",
    "    def __str__(self):\n",
    "        return f\"{self.color} {self.year} {self.make} {self.model}\"\n"
   ]
  },
  {
   "cell_type": "markdown",
   "id": "ee30cfb8-d6ed-43b2-9f79-e6ee8eaaa46a",
   "metadata": {},
   "source": [
    "In this example, the Car class has attributes such as make, model, year, and color, as well as methods for changing the car's speed. The __str__ method is a special method that returns a string representation of the object."
   ]
  },
  {
   "cell_type": "markdown",
   "id": "d2825dd8-ba9b-4595-970e-6f1f3db748b8",
   "metadata": {},
   "source": [
    "#### Defining attributes and methods for digital twin classes:"
   ]
  },
  {
   "cell_type": "markdown",
   "id": "3316896c-9f52-4efc-aed9-84849e3c77c5",
   "metadata": {},
   "source": [
    "When defining attributes and methods for digital twin classes, it's important to think about the real-world entity you're modeling and what attributes and behaviors are relevant to that entity. For example, a digital twin of a wind turbine might have attributes such as `rotational_speed`, `blade_length`, and `generator_power`, as well as methods for changing these attributes. Here's an exercise to help you practice defining attributes and methods for a digital twin class:"
   ]
  },
  {
   "cell_type": "markdown",
   "id": "243d5068-95fc-4ce1-b32f-ec73dab9c1dc",
   "metadata": {},
   "source": [
    "##### Exercise: \n",
    "\n",
    "- Define a class called Robot that represents a simple digital twin of a robot. The Robot class should have the following attributes:\n",
    "    - `x:` the robot's x position\n",
    "    - `y:` the robot's y position\n",
    "    - `orientation:` the robot's orientation (in degrees)\n",
    "    - `speed:` the robot's speed (in units per second)\n",
    "\n",
    "- The Robot class should also have the following methods:\n",
    "    - `move(distance):` moves the robot distance units in the direction of its current orientation\n",
    "    - `turn(angle):` turns the robot by angle degrees\n",
    "    - `__str__():` returns a string representation of the robot in the format \"Robot at (x, y) facing (orientation) degrees with speed (speed) units/sec\"."
   ]
  },
  {
   "cell_type": "code",
   "execution_count": 2,
   "id": "0a013b68-7d80-4973-bdfe-e439068b1b5e",
   "metadata": {},
   "outputs": [],
   "source": [
    "import math\n",
    "\n",
    "class Robot:\n",
    "    def __init__(self, x, y, orientation, speed):\n",
    "        self.x = x\n",
    "        self.y = y\n",
    "        self.orientation = orientation\n",
    "        self.speed = speed\n",
    "        \n",
    "    def move(self, distance):\n",
    "        self.x += (distance * math.cos(self.orientation))\n",
    "        self.y += (distance * math.sin(self.orientation))\n",
    "        print(f\"It will take {distance/self.speed} seconds to reach our destination.\")\n",
    "              \n",
    "    def turn(self, degrees):\n",
    "        self.orientation += degrees\n",
    "        \n",
    "    def stop(self):\n",
    "        self.speed = 0\n",
    "        \n",
    "    def __str__(self):\n",
    "        return f\"Robot at {self.x, self.y} is facing {self.orientation} degrees and traveling at {self.speed} units/sec.\"\n"
   ]
  },
  {
   "cell_type": "code",
   "execution_count": 3,
   "id": "31c0ce55-66c6-49e9-9a9b-6ba2f35bb372",
   "metadata": {},
   "outputs": [],
   "source": [
    "rover = Robot(6,6, 240, 12)"
   ]
  },
  {
   "cell_type": "code",
   "execution_count": 4,
   "id": "0105b9b2-c025-43d6-b0e8-ffc040ca9956",
   "metadata": {},
   "outputs": [
    {
     "name": "stdout",
     "output_type": "stream",
     "text": [
      "It will take 1.25 seconds to reach our destination.\n"
     ]
    }
   ],
   "source": [
    "rover.move(15)"
   ]
  },
  {
   "cell_type": "code",
   "execution_count": 5,
   "id": "304b8697-adaa-4fbc-8a97-4fa6b70184c7",
   "metadata": {},
   "outputs": [
    {
     "data": {
      "text/plain": [
       "10.88671958302722"
      ]
     },
     "execution_count": 5,
     "metadata": {},
     "output_type": "execute_result"
    }
   ],
   "source": [
    "rover.x"
   ]
  },
  {
   "cell_type": "markdown",
   "id": "9cf662a5-16ed-4bd3-a867-6cb6e78c608f",
   "metadata": {},
   "source": [
    "### 3. Simulating Digital Twins with Python\n",
    "#### Integrating simulation engines with digital twin models\n",
    "- Digital twins are often used to simulate real-world systems, and Python provides many libraries for simulation modeling, such as SimPy and PyDDES.\n",
    "- These libraries allow for the creation of complex simulations of physical systems.\n",
    "- Integrating these simulation engines with digital twin models involves defining the inputs and outputs of the simulation, as well as any necessary interfaces for communication between the twin and the simulation engine."
   ]
  },
  {
   "cell_type": "markdown",
   "id": "046e9f8c-b28a-4123-b64a-5771b1a86386",
   "metadata": {},
   "source": [
    "#### Implementing simulation algorithms for digital twins\n",
    "- Simulation algorithms are used to compute the behavior of a system over time.\n",
    "- For digital twins, these algorithms need to be implemented in a way that is consistent with the twin's underlying physical model.\n",
    "- Common simulation algorithms include Euler's method and Runge-Kutta methods.\n",
    "- Python provides many libraries for scientific computing, such as NumPy and SciPy, that can be used to implement simulation algorithms."
   ]
  },
  {
   "cell_type": "markdown",
   "id": "a5fabccc-b8a9-4763-ab78-7794b999bb0d",
   "metadata": {},
   "source": [
    "#### Interpreting simulation results and optimizing digital twin models\n",
    "- Once a simulation has been run, the results need to be interpreted in order to gain insight into the behavior of the system.\n",
    "- This can involve analyzing the data generated by the simulation, as well as visualizing the results.\n",
    "- If the results are not consistent with the expected behavior of the system, the digital twin model may need to be optimized or refined.\n",
    "- Optimization can involve adjusting the parameters of the twin's model, or modifying the simulation algorithm to better capture the behavior of the system."
   ]
  },
  {
   "cell_type": "markdown",
   "id": "6e29f954-c88d-4db2-8a1c-81ccdc5e93e6",
   "metadata": {},
   "source": [
    "#### Introduction to SimPy:"
   ]
  },
  {
   "cell_type": "markdown",
   "id": "d66a59d8-7be0-4125-953c-0ddd97c27158",
   "metadata": {},
   "source": [
    "SimPy is a discrete-event simulation library used to simulate complex systems that involve interactions between components or entities. It is particularly useful in simulating real-world problems that require complex scheduling, resource allocation, and event handling.\n",
    "\n",
    "Some of the key features of SimPy include:\n",
    "\n",
    "- Processes and events are discrete, meaning they happen at specific points in time.\n",
    "- Resources can be defined and allocated to processes, and released when no longer needed.\n",
    "- Multiple processes can run concurrently and interact with each other.\n",
    "- Simulation results can be easily analyzed and visualized.\n",
    "- SimPy can be used to model and simulate a wide range of systems, including traffic flow, manufacturing processes, supply chains, and more."
   ]
  },
  {
   "cell_type": "markdown",
   "id": "3173186a-43a5-41dd-bd43-62be00011d75",
   "metadata": {},
   "source": [
    "Example 1: Rocket Launch Simulation\n",
    "\n",
    "Suppose we want to simulate the launch of a rocket. We can model the rocket as a process, and the launch sequence as a series of events. We can also model the fuel as a resource, which is allocated to the rocket process until it is depleted. Here's an example code:"
   ]
  },
  {
   "cell_type": "code",
   "execution_count": 6,
   "id": "1ae836be-5cb9-4a7e-b868-14a82a531d35",
   "metadata": {},
   "outputs": [
    {
     "name": "stdout",
     "output_type": "stream",
     "text": [
      "Rocket launched at time 0\n",
      "Rocket is running on 900 units of fuel at time 0\n",
      "Rocket launched at time 1\n",
      "Rocket is running on 800 units of fuel at time 1\n",
      "Rocket launched at time 2\n",
      "Rocket is running on 700 units of fuel at time 2\n",
      "Rocket launched at time 3\n",
      "Rocket is running on 600 units of fuel at time 3\n",
      "Rocket launched at time 4\n",
      "Rocket is running on 500 units of fuel at time 4\n",
      "Rocket launched at time 5\n",
      "Rocket is running on 400 units of fuel at time 5\n",
      "Rocket launched at time 6\n",
      "Rocket is running on 300 units of fuel at time 6\n",
      "Rocket launched at time 7\n",
      "Rocket is running on 200 units of fuel at time 7\n",
      "Rocket launched at time 8\n",
      "Rocket is running on 100 units of fuel at time 8\n",
      "Rocket launched at time 9\n",
      "Rocket is running on 0 units of fuel at time 9\n",
      "Rocket ran out of fuel and crashed at time 10\n"
     ]
    }
   ],
   "source": [
    "import simpy\n",
    "\n",
    "def rocket(env, fuel, burn_rate):\n",
    "    while fuel.level > 0:\n",
    "        print(f\"Rocket launched at time {env.now}\")\n",
    "        yield fuel.get(burn_rate)  # Burn fuel at the specified rate\n",
    "        print(f\"Rocket is running on {fuel.level} units of fuel at time {env.now}\")\n",
    "        env.timeout(1)  # Wait for one time unit\n",
    "        env.step()\n",
    "\n",
    "    print(f\"Rocket ran out of fuel and crashed at time {env.now}\")\n",
    "\n",
    "env = simpy.Environment()\n",
    "fuel = simpy.Container(env, init=1000, capacity=1000)  # Initialize 1000 units of fuel\n",
    "env.process(rocket(env, fuel, 100))  # Launch the rocket with a burn rate of 100 units per second\n",
    "env.run(until=100)  # Run the simulation for 100 time units"
   ]
  },
  {
   "cell_type": "markdown",
   "id": "a49cfbc7-1b91-45c7-a1f1-abe7f556062b",
   "metadata": {},
   "source": [
    "This simulation launches the rocket and then repeatedly burns fuel at a specified rate (100 units per second in this case) until the fuel runs out. The `timeout` function is used to wait for one time unit between each fuel burn. The simulation runs for 100 time units, after which the simulation terminates."
   ]
  },
  {
   "cell_type": "markdown",
   "id": "89e01cc9-79c5-4a02-a828-0a696cf16ca8",
   "metadata": {},
   "source": [
    "Example 2: Robot Navigation Simulation"
   ]
  },
  {
   "cell_type": "markdown",
   "id": "5ace7af8-bfff-44d0-bd73-1ecb421ca0f0",
   "metadata": {},
   "source": [
    "Suppose we want to simulate the navigation of a robot through a space station. We can model the robot as a process that moves through the station, and the station as a resource that the robot can occupy. Here's an example code:"
   ]
  },
  {
   "cell_type": "code",
   "execution_count": 7,
   "id": "2d3c305c-cdd6-4b3c-b55e-afdc02c42a31",
   "metadata": {},
   "outputs": [
    {
     "name": "stdout",
     "output_type": "stream",
     "text": [
      "Starting exploration\n",
      "Found a rock\n",
      "Analyzing rock\n",
      "Continuing exploration\n",
      "Found another rock\n",
      "Analyzing rock\n",
      "Exploration complete\n"
     ]
    }
   ],
   "source": [
    "import simpy\n",
    "\n",
    "class Robot:\n",
    "    def __init__(self, env):\n",
    "        self.env = env\n",
    "        self.action = env.process(self.explore())\n",
    "\n",
    "    def explore(self):\n",
    "        print('Starting exploration')\n",
    "        yield self.env.timeout(5)\n",
    "        print('Found a rock')\n",
    "        yield self.env.timeout(2)\n",
    "        print('Analyzing rock')\n",
    "        yield self.env.timeout(3)\n",
    "        print('Continuing exploration')\n",
    "        yield self.env.timeout(10)\n",
    "        print('Found another rock')\n",
    "        yield self.env.timeout(2)\n",
    "        print('Analyzing rock')\n",
    "        yield self.env.timeout(3)\n",
    "        print('Exploration complete')\n",
    "\n",
    "env = simpy.Environment()\n",
    "robot = Robot(env)\n",
    "env.run(until=30)\n"
   ]
  },
  {
   "cell_type": "markdown",
   "id": "1ac80f6f-ba7b-49a1-97a2-f790e5c73bd3",
   "metadata": {},
   "source": [
    "In this example, we define a `Robot` class with a method called `explore` that represents the robot's movements and actions on the planet. We use the `yield env.timeout()` statement to simulate time passing, and then print out messages at different stages of the exploration. Finally, we create an environment object, create a `Robot` object, and run the simulation for a total of 30 time units."
   ]
  },
  {
   "cell_type": "markdown",
   "id": "8e6539c1-356a-4d4f-90b6-95cd7dbdfb0b",
   "metadata": {},
   "source": [
    "Example:"
   ]
  },
  {
   "cell_type": "code",
   "execution_count": 8,
   "id": "55e2f55a-a1e9-4d5c-ba03-dd9ec5f076d4",
   "metadata": {},
   "outputs": [
    {
     "name": "stdout",
     "output_type": "stream",
     "text": [
      "Customer arrives at time 0\n",
      "Serving customer at time 0\n",
      "No customers to serve at time 1\n",
      "No customers to serve at time 2\n",
      "No customers to serve at time 3\n",
      "Customer arrives at time 4\n",
      "Serving customer at time 4\n",
      "No customers to serve at time 5\n",
      "No customers to serve at time 6\n",
      "No customers to serve at time 7\n",
      "No customers to serve at time 8\n",
      "Customer arrives at time 9\n",
      "Serving customer at time 9\n",
      "No customers to serve at time 12\n",
      "No customers to serve at time 13\n",
      "Customer arrives at time 14\n",
      "Serving customer at time 14\n",
      "Customer arrives at time 15\n",
      "Customer arrives at time 16\n",
      "Serving customer at time 17\n",
      "Customer arrives at time 19\n",
      "Serving customer at time 19\n"
     ]
    }
   ],
   "source": [
    "import random\n",
    "import simpy\n",
    "\n",
    "class Queue:\n",
    "    def __init__(self, env):\n",
    "        self.env = env\n",
    "        self.queue = simpy.Store(env)\n",
    "\n",
    "    def add_customer(self, customer):\n",
    "        self.queue.put(customer)\n",
    "\n",
    "    def serve_customer(self):\n",
    "        return self.queue.get()\n",
    "\n",
    "    def queue_size(self):\n",
    "        return len(self.queue.items)\n",
    "\n",
    "def customer(env, queue):\n",
    "    while True:\n",
    "        print(f\"Customer arrives at time {env.now}\")\n",
    "        queue.add_customer(env.now)\n",
    "        yield env.timeout(random.randint(1, 5))\n",
    "\n",
    "def cashier(env, queue):\n",
    "    while True:\n",
    "        if queue.queue_size() > 0:\n",
    "            customer = queue.serve_customer()\n",
    "            print(f\"Serving customer at time {env.now}\")\n",
    "            yield env.timeout(random.randint(1, 3))\n",
    "        else:\n",
    "            print(f\"No customers to serve at time {env.now}\")\n",
    "            yield env.timeout(1)\n",
    "\n",
    "env = simpy.Environment()\n",
    "queue = Queue(env)\n",
    "env.process(customer(env, queue))\n",
    "env.process(cashier(env, queue))\n",
    "env.run(until=20)"
   ]
  },
  {
   "cell_type": "markdown",
   "id": "9805d0a2-6d2b-45ce-be83-7f33fbc9cfa3",
   "metadata": {},
   "source": [
    "How the example works:\n",
    "\n",
    "In this example, we define a Queue class which has methods for adding customers to the queue, serving customers, and checking the size of the queue. We also define two processes, customer and cashier, which are both infinite loops that run in parallel in the simulation environment.\n",
    "\n",
    "The customer process generates new customers at random intervals and adds them to the queue. The cashier process serves customers from the queue if there are any customers waiting, or waits for new customers to arrive. Both processes use the yield statement to pause the simulation for a certain amount of time, specified by timeout.\n",
    "\n",
    "Finally, we create a simpy.Environment object to manage the simulation, and add the customer and cashier processes to the environment using the env.process method. We also specify the duration of the simulation by calling env.run with the until parameter set to the maximum time to run the simulation."
   ]
  },
  {
   "cell_type": "markdown",
   "id": "618cf352-99bb-436d-a5e9-ca62483748bc",
   "metadata": {},
   "source": [
    "Exercises:\n",
    "\n",
    "Use the SimPy library to create a simulation of a traffic intersection. Define a digital twin for the intersection that can receive data from sensors and control the traffic lights. Run the simulation for a given amount of time and analyze the results to see how well the twin is able to manage traffic flow.\n",
    "\n",
    "Implement Euler's method in Python to simulate the behavior of a simple harmonic oscillator. Define a digital twin for the oscillator and run the simulation for a given number of iterations. Visualize the results using Matplotlib and compare the simulated behavior to the expected behavior of the system.\n",
    "\n",
    "Create a digital twin for a heat exchanger system. Use SciPy to implement a simulation algorithm for the twin, and run the simulation with various input parameters to study the behavior of the system under different conditions. Use the results of the simulation to optimize the digital twin model by adjusting its parameters."
   ]
  },
  {
   "cell_type": "markdown",
   "id": "561a48e4-4a89-4825-bdd9-c0a53aa46072",
   "metadata": {},
   "source": [
    "### 4. Visualizing Digital Twins with Python\n",
    "#### Using Python libraries for data visualization and analysis: \n",
    "Python has several libraries for data visualization and analysis, such as Matplotlib, Plotly, Seaborn, and Bokeh. These libraries can be used to create various types of plots, charts, and graphs, such as line plots, scatter plots, bar charts, histograms, heatmaps, and more.\n",
    "- Example: Let's say you have a digital twin that generates data on temperature and humidity readings in a greenhouse. You can use the Matplotlib library to create a line plot of temperature and humidity over time, which can help you visualize any trends or patterns in the data.\n",
    "\n",
    "\n",
    "#### Creating dashboards and interactive interfaces for digital twins: \n",
    "Dashboards and interfaces provide a user-friendly way to interact with digital twins and visualize their data in real-time. Python has several libraries for creating interactive dashboards and interfaces, such as Dash, Streamlit, and Bokeh. These libraries can be used to create interactive widgets, sliders, buttons, and more.\n",
    "- Example: Let's say you have a digital twin that monitors the energy consumption of a building. You can use the Dash library to create an interactive dashboard that displays real-time data on energy usage, costs, and savings. The dashboard can include various widgets, such as sliders to adjust the temperature and lighting, buttons to turn appliances on and off, and graphs to display energy usage over time.\n",
    "    \n",
    "#### Generating real-time reports and alerts based on digital twin data: \n",
    "Reports and alerts provide a way to notify users of any changes or anomalies in the data generated by digital twins. Python has several libraries for generating reports and alerts, such as Pandas, NumPy, and SciPy. These libraries can be used to analyze and process data in real-time and generate reports and alerts based on certain conditions or thresholds.\n",
    "- Example: Let's say you have a digital twin that monitors the air quality of a city. You can use the Pandas library to analyze the data and generate a report on the current air quality index (AQI) and any potential health risks. You can also set up alerts to notify users when the AQI exceeds a certain threshold or when there is a sudden increase in pollution levels."
   ]
  },
  {
   "cell_type": "markdown",
   "id": "bc4d2cc5-2bf3-4a10-80a8-5313f4052039",
   "metadata": {},
   "source": [
    "### 5. Integrating Digital Twins with IoT and AI\n",
    "Integrating digital twins with IoT sensors and devices\n",
    "Implementing AI algorithms for predictive maintenance and anomaly detection\n",
    "Building scalable and secure architectures for digital twin integration"
   ]
  },
  {
   "cell_type": "markdown",
   "id": "211e6284-e023-48d7-ba75-09685b2013a5",
   "metadata": {},
   "source": [
    "### 6. Case Studies and Best Practices\n",
    "Analyzing real-world examples of digital twin implementations\n",
    "Identifying best practices for digital twin development and deployment\n",
    "Addressing challenges and limitations in digital twin modeling and simulation"
   ]
  },
  {
   "cell_type": "markdown",
   "id": "246a6ff4-dd83-4a64-8efc-11ffa55b8818",
   "metadata": {},
   "source": [
    "### 7. Exercises and Projects\n",
    "Implementing simple digital twin models and simulations using Python\n",
    "Developing advanced digital twin applications for industry-specific use cases\n",
    "Participating in hackathons and challenges focused on digital twin innovation"
   ]
  }
 ],
 "metadata": {
  "kernelspec": {
   "display_name": "Python 3 (ipykernel)",
   "language": "python",
   "name": "python3"
  },
  "language_info": {
   "codemirror_mode": {
    "name": "ipython",
    "version": 3
   },
   "file_extension": ".py",
   "mimetype": "text/x-python",
   "name": "python",
   "nbconvert_exporter": "python",
   "pygments_lexer": "ipython3",
   "version": "3.10.9"
  }
 },
 "nbformat": 4,
 "nbformat_minor": 5
}
