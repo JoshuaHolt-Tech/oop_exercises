{
 "cells": [
  {
   "cell_type": "markdown",
   "id": "2dfdb4da-6709-4aa2-a067-c56d39c9c2ca",
   "metadata": {},
   "source": [
    "# Learning about the Python Standar Library:"
   ]
  },
  {
   "cell_type": "markdown",
   "id": "a8279a57-486f-49bd-929d-e49a6d2268ed",
   "metadata": {
    "tags": []
   },
   "source": [
    "## Package `os`:\n",
    "This package provides a way to interface with the underlying operating system. It can be used to perform a wide variety of tasks, such as navigating directories, working with files, and executing external programs."
   ]
  },
  {
   "cell_type": "markdown",
   "id": "e989217f-f460-4991-8f5d-91ca7e51788f",
   "metadata": {},
   "source": [
    "os.getcwd(): Returns the current working directory.\n",
    "\n",
    "#### Exercises:\n",
    "\n",
    "Print the current working directory to the console.\n",
    "Change the current working directory to a new directory and print the new working directory to the console.\n",
    "Use the os.path module to manipulate paths within the current working directory."
   ]
  },
  {
   "cell_type": "code",
   "execution_count": null,
   "id": "57848655-2ae7-46f3-b8df-adf138e1c4d6",
   "metadata": {},
   "outputs": [],
   "source": []
  },
  {
   "cell_type": "markdown",
   "id": "253346aa-316d-47cf-9892-1a56b84664bb",
   "metadata": {
    "tags": []
   },
   "source": [
    "os.listdir(): Returns a list of the files and directories in the specified path.\n",
    "\n",
    "#### Exercises:\n",
    "\n",
    "Print a list of the files and directories in the current working directory.\n",
    "Write a function that takes a directory path as input and returns the number of files in the directory.\n",
    "Use the os.path module to filter the list of files and directories by a specified file extension."
   ]
  },
  {
   "cell_type": "code",
   "execution_count": null,
   "id": "cf005bfd-de68-4ee3-814c-4b2ee6045eb5",
   "metadata": {},
   "outputs": [],
   "source": []
  },
  {
   "cell_type": "markdown",
   "id": "4dfcb237-ac4f-4e44-914b-53897fa8afe7",
   "metadata": {},
   "source": [
    "os.mkdir(): Creates a new directory at the specified path.\n",
    "\n",
    "#### Exercises:\n",
    "\n",
    "Write a script that creates a new directory with a specified name in the current working directory.\n",
    "Use the os.path module to check if a directory already exists before creating it.\n",
    "Write a function that takes a directory path as input and creates all of the necessary directories in the path."
   ]
  },
  {
   "cell_type": "code",
   "execution_count": null,
   "id": "7c9be7a1-8e59-48a8-afd9-bd3613efef3f",
   "metadata": {},
   "outputs": [],
   "source": []
  },
  {
   "cell_type": "markdown",
   "id": "47405803-f8b1-4f3e-8700-118717b7c952",
   "metadata": {},
   "source": [
    "os.makedirs(): Creates a new directory and all of its parent directories at the specified path.\n",
    "\n",
    "#### Exercises:\n",
    "\n",
    "Write a script that creates a new directory with a specified name and nested subdirectories in the current working directory.\n",
    "Use the os.path module to check if a directory already exists before creating it.\n",
    "Write a function that takes a directory path as input and creates all of the necessary directories in the path."
   ]
  },
  {
   "cell_type": "code",
   "execution_count": null,
   "id": "20ef11d5-c24a-4cac-8cf3-54cfb8af03af",
   "metadata": {},
   "outputs": [],
   "source": []
  },
  {
   "cell_type": "markdown",
   "id": "2eafe6fb-1c1a-4034-8c00-e54f5e220e22",
   "metadata": {},
   "source": [
    "os.path.join(): Joins one or more path components into a single path.\n",
    "\n",
    "#### Exercises:\n",
    "\n",
    "Write a script that uses os.path.join() to construct a file path from separate directory and file name variables.\n",
    "Use os.path.join() to construct a platform-independent path for a file that is included in your project.\n",
    "Write a function that takes a list of path components as input and joins them into a single path."
   ]
  },
  {
   "cell_type": "code",
   "execution_count": null,
   "id": "67d5dabd-58d9-4cc0-9a7d-21c4c3bd7246",
   "metadata": {},
   "outputs": [],
   "source": []
  },
  {
   "cell_type": "markdown",
   "id": "459dca90-dba9-4e18-8b92-b5b00ffa0943",
   "metadata": {},
   "source": [
    "os.remove(): Deletes a file at the specified path.\n",
    "\n",
    "#### Exercises:\n",
    "\n",
    "Write a script that deletes a specified file in the current working directory.\n",
    "Use the os.path module to check if a file exists before deleting it.\n",
    "Write a function that takes a file path as input and deletes the file."
   ]
  },
  {
   "cell_type": "code",
   "execution_count": null,
   "id": "d8d43c26-d6f7-42e7-bdac-5477be156f03",
   "metadata": {},
   "outputs": [],
   "source": []
  },
  {
   "cell_type": "markdown",
   "id": "f3631e11-64af-4b54-8f76-f521437e5e99",
   "metadata": {},
   "source": [
    "os.rename(): Renames a file or directory at the specified path.\n",
    "\n",
    "#### Exercises:\n",
    "\n",
    "Write a script that renames a specified file in the current working directory.\n",
    "Use the os.path module to check if a file exists before renaming it.\n",
    "Write a function that takes a file path and a new name as input and renames the file."
   ]
  },
  {
   "cell_type": "code",
   "execution_count": null,
   "id": "f289e1fa-d5e4-4739-9eca-87c9d79b8474",
   "metadata": {},
   "outputs": [],
   "source": []
  },
  {
   "cell_type": "markdown",
   "id": "b25b9b47-7bb2-4223-8493-8a07d5127a87",
   "metadata": {},
   "source": [
    "os.path.isfile(): Returns True if the specified path is a file.\n",
    "\n",
    "#### Exercises:\n",
    "\n",
    "Write a script that checks if a specified file exists in the current working directory.\n",
    "Use os.path.isfile() to filter a list of files by file extension.\n",
    "Write a function that takes a file path as input and returns True if the file exists and is a file."
   ]
  },
  {
   "cell_type": "code",
   "execution_count": null,
   "id": "8364c8a0-02a1-4883-b5c8-753ea11d9e46",
   "metadata": {},
   "outputs": [],
   "source": []
  },
  {
   "cell_type": "markdown",
   "id": "bd4fc362-a7f1-48cf-b8b7-d77a17c4ee74",
   "metadata": {},
   "source": [
    "os.path.isdir(): Returns True if the specified path is a directory.\n",
    "\n",
    "#### Exercises:\n",
    "\n",
    "Write a script that checks if a specified directory exists in the current working directory.\n",
    "Use os.path.isdir() to filter a list of directories by a specified name.\n",
    "Write a function that takes a directory path"
   ]
  },
  {
   "cell_type": "code",
   "execution_count": null,
   "id": "f5ce3e74-1399-4bcf-b5fd-586028bfc63e",
   "metadata": {},
   "outputs": [],
   "source": []
  },
  {
   "cell_type": "markdown",
   "id": "a5566580-e74e-4f99-b025-6768d065cb13",
   "metadata": {
    "tags": []
   },
   "source": [
    "os.path.exists(): Returns True if the specified path exists.\n",
    "\n",
    "#### Exercises:\n",
    "\n",
    "Write a script that checks if a specified file or directory exists in the current working directory.\n",
    "Use os.path.exists() to determine if a file or directory exists before attempting to manipulate it.\n",
    "Write a function that takes a path as input and returns True if the path exists."
   ]
  },
  {
   "cell_type": "code",
   "execution_count": null,
   "id": "53b7aa78-fda1-4d03-87e0-769a1d10706f",
   "metadata": {},
   "outputs": [],
   "source": []
  },
  {
   "cell_type": "markdown",
   "id": "52c36d55-29d0-4222-bf43-f0c448ee80fb",
   "metadata": {},
   "source": [
    "## Package `sys`:\n",
    "This package provides access to system-specific parameters and functions, such as the Python interpreter version and the command-line arguments passed to the program."
   ]
  },
  {
   "cell_type": "code",
   "execution_count": null,
   "id": "3d94934b-84fa-4172-9b66-d7fbb39678c1",
   "metadata": {},
   "outputs": [],
   "source": []
  },
  {
   "cell_type": "markdown",
   "id": "f43327f5-bf2d-46c8-b9db-d88a04d8bbed",
   "metadata": {},
   "source": [
    "## Package `datetime`:\n",
    "This package provides classes for working with dates and times. It includes functions for parsing and formatting dates and times, as well as for performing arithmetic on dates and times."
   ]
  },
  {
   "cell_type": "code",
   "execution_count": null,
   "id": "0707435a-d313-4afa-a68e-2e1d1c253240",
   "metadata": {},
   "outputs": [],
   "source": []
  },
  {
   "cell_type": "markdown",
   "id": "46bac849-3393-4147-9f69-43f51018934f",
   "metadata": {},
   "source": [
    "## Package `re`:\n",
    "This package provides support for regular expressions. It includes functions for searching and manipulating strings based on patterns."
   ]
  },
  {
   "cell_type": "code",
   "execution_count": null,
   "id": "4957aba0-8a73-4f71-87d0-38d871cd7523",
   "metadata": {},
   "outputs": [],
   "source": []
  },
  {
   "cell_type": "markdown",
   "id": "3fbe4b14-6d19-4e41-95d2-ad750b729826",
   "metadata": {},
   "source": [
    "## Package `json`:\n",
    "This package provides support for working with JSON (JavaScript Object Notation) data. It includes functions for encoding and decoding JSON data."
   ]
  },
  {
   "cell_type": "code",
   "execution_count": null,
   "id": "cab4232e-dbf8-4ebb-af39-47181208b0b0",
   "metadata": {},
   "outputs": [],
   "source": []
  },
  {
   "cell_type": "markdown",
   "id": "94945e2a-7a5e-4b88-b657-9a4f12ac290b",
   "metadata": {},
   "source": [
    "## Package `urllib`:\n",
    "This package provides a way to interact with URLs. It can be used to retrieve data from web pages, as well as to post data to web forms."
   ]
  },
  {
   "cell_type": "code",
   "execution_count": null,
   "id": "fee34593-f5a4-47e2-9319-a9f4849a50a5",
   "metadata": {},
   "outputs": [],
   "source": []
  },
  {
   "cell_type": "markdown",
   "id": "f05802fd-4567-4e31-b8ed-96bb26e2c38f",
   "metadata": {},
   "source": [
    "## Package `sqlite3`:\n",
    "This package provides support for working with SQLite databases. It includes functions for connecting to databases, executing SQL statements, and retrieving results."
   ]
  },
  {
   "cell_type": "code",
   "execution_count": null,
   "id": "55a98519-d5ad-4313-9d2f-6166889d3e58",
   "metadata": {},
   "outputs": [],
   "source": []
  },
  {
   "cell_type": "markdown",
   "id": "7dca0db6-99d5-45e5-81c3-5b485bc2af48",
   "metadata": {},
   "source": [
    "## Package `csv`:\n",
    "This package provides support for working with CSV (Comma-Separated Values) files. It includes functions for reading and writing CSV files."
   ]
  },
  {
   "cell_type": "code",
   "execution_count": null,
   "id": "ab27af2c-477d-413a-bf89-df6d183ada79",
   "metadata": {},
   "outputs": [],
   "source": []
  },
  {
   "cell_type": "markdown",
   "id": "ad2545e4-63ad-467c-970b-e6fa400a00a1",
   "metadata": {},
   "source": [
    "## Package `math`:\n",
    "This package provides support for mathematical functions and constants. It includes functions for working with trigonometric functions, logarithms, and more."
   ]
  },
  {
   "cell_type": "code",
   "execution_count": null,
   "id": "a1200035-4455-4480-85cf-a9a7c981c605",
   "metadata": {},
   "outputs": [],
   "source": []
  },
  {
   "cell_type": "markdown",
   "id": "a83843c5-bf80-4981-9c90-13702f138e7a",
   "metadata": {},
   "source": [
    "## Package `random`:\n",
    "This package provides support for generating random numbers and sequences. It includes functions for generating random integers, floats, and more."
   ]
  },
  {
   "cell_type": "code",
   "execution_count": null,
   "id": "fc6562bd-a994-499b-9dad-2ee24d4f028e",
   "metadata": {},
   "outputs": [],
   "source": []
  },
  {
   "cell_type": "markdown",
   "id": "7685c050-79ef-4c4f-9a3a-d93f2a8ef8be",
   "metadata": {},
   "source": [
    "## Package `pickle`:\n",
    "This package provides support for object serialization. It can be used to convert Python objects to a binary format that can be stored or transmitted, and then to convert the binary data back into Python objects."
   ]
  },
  {
   "cell_type": "code",
   "execution_count": null,
   "id": "ed07cba4-4dcc-4808-b459-46f698241558",
   "metadata": {},
   "outputs": [],
   "source": []
  },
  {
   "cell_type": "markdown",
   "id": "5760a977-28ae-4fc9-9618-a7f4ba0a993c",
   "metadata": {},
   "source": [
    "## Package `subprocess`:\n",
    "This package provides support for spawning new processes. It can be used to execute external programs and capture their output."
   ]
  },
  {
   "cell_type": "code",
   "execution_count": null,
   "id": "1bb8b99c-7bef-44d0-a422-e162855ed886",
   "metadata": {},
   "outputs": [],
   "source": []
  },
  {
   "cell_type": "markdown",
   "id": "6736aef6-d6ec-43b8-be09-1db508ee376b",
   "metadata": {},
   "source": [
    "## Package `argparse`: \n",
    "This package provides support for parsing command-line arguments. It includes functions for defining and parsing command-line arguments."
   ]
  },
  {
   "cell_type": "code",
   "execution_count": null,
   "id": "3430d94f-fdef-440f-ae7e-36c8e519de77",
   "metadata": {},
   "outputs": [],
   "source": []
  },
  {
   "cell_type": "markdown",
   "id": "f1eabfd2-68a0-44af-8b74-b0ab9977ab81",
   "metadata": {},
   "source": [
    "## Package `collections`:\n",
    "This package provides specialized container datatypes. It includes classes for working with ordered dictionaries, default dictionaries, and more."
   ]
  },
  {
   "cell_type": "code",
   "execution_count": null,
   "id": "bbd2f120-1c2a-486d-a1e4-c326795607b3",
   "metadata": {},
   "outputs": [],
   "source": []
  },
  {
   "cell_type": "markdown",
   "id": "99f26459-e811-4ea3-a9d8-6c40d9e40444",
   "metadata": {},
   "source": [
    "## Package `itertools`:\n",
    "This package provides functions for working with iterators. It includes functions for generating iterators, combining iterators, and more."
   ]
  },
  {
   "cell_type": "code",
   "execution_count": null,
   "id": "00195cf9-56e1-4f28-8b1c-5495c6499327",
   "metadata": {},
   "outputs": [],
   "source": []
  },
  {
   "cell_type": "markdown",
   "id": "82f773db-dd21-4ad7-86cb-f7753ca98ad2",
   "metadata": {},
   "source": [
    "## Package `logging`:\n",
    "This package provides support for logging messages from Python programs. It includes functions for configuring the logging system and writing log messages."
   ]
  },
  {
   "cell_type": "code",
   "execution_count": null,
   "id": "2fcb4478-d821-450e-a1b7-87ab9e6f8959",
   "metadata": {},
   "outputs": [],
   "source": []
  },
  {
   "cell_type": "markdown",
   "id": "e9652204-1118-4a46-87ee-cb2fbaac41d1",
   "metadata": {},
   "source": [
    "## Package `gzip`:\n",
    "This package provides support for working with gzip-compressed files. It includes functions for reading and writing compressed files."
   ]
  },
  {
   "cell_type": "code",
   "execution_count": null,
   "id": "30eb8e5f-9b6b-42e3-bcb0-58d7ed38d27e",
   "metadata": {},
   "outputs": [],
   "source": []
  },
  {
   "cell_type": "markdown",
   "id": "fcd59f27-8536-4fc8-8b34-64ef3c562f66",
   "metadata": {},
   "source": [
    "## Package `zipfile`:\n",
    "This package provides support for working with ZIP files. It includes functions for creating, reading, and extracting files from ZIP archives."
   ]
  },
  {
   "cell_type": "code",
   "execution_count": null,
   "id": "0cc317e1-c8aa-4145-8983-70d71c8da01d",
   "metadata": {},
   "outputs": [],
   "source": []
  },
  {
   "cell_type": "markdown",
   "id": "ef13c9f9-d7b3-4988-9388-aa962c331965",
   "metadata": {},
   "source": [
    "## Package `socket`:\n",
    "This package provides support for working with sockets. It can be used to create network connections, send and receive data over a network, and more."
   ]
  },
  {
   "cell_type": "code",
   "execution_count": null,
   "id": "7df2ea53-8089-4dd2-adb7-2c97783d2c33",
   "metadata": {},
   "outputs": [],
   "source": []
  },
  {
   "cell_type": "markdown",
   "id": "37738101-ad1a-43ab-a705-c352a67b11a1",
   "metadata": {},
   "source": [
    "## Package `threading`:\n",
    "This package provides support for threading. It includes classes for creating and managing threads, as well as functions for synchronizing access to shared resources."
   ]
  },
  {
   "cell_type": "code",
   "execution_count": null,
   "id": "2f3eac24-c6bd-49cd-8c05-39ebb4f719f1",
   "metadata": {},
   "outputs": [],
   "source": []
  }
 ],
 "metadata": {
  "kernelspec": {
   "display_name": "Python 3 (ipykernel)",
   "language": "python",
   "name": "python3"
  },
  "language_info": {
   "codemirror_mode": {
    "name": "ipython",
    "version": 3
   },
   "file_extension": ".py",
   "mimetype": "text/x-python",
   "name": "python",
   "nbconvert_exporter": "python",
   "pygments_lexer": "ipython3",
   "version": "3.10.9"
  }
 },
 "nbformat": 4,
 "nbformat_minor": 5
}
