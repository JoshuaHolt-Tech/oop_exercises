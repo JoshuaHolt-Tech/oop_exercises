{
 "cells": [
  {
   "cell_type": "markdown",
   "id": "8aac3875-6578-4eab-8c70-370f454feccc",
   "metadata": {},
   "source": [
    "### Encapsulation and information hiding:\n",
    "\n",
    "Encapsulation is the practice of hiding the internal workings of an object from the outside world, while information hiding is the principle of restricting access to certain parts of an object.\n",
    "\n",
    "Example:"
   ]
  },
  {
   "cell_type": "code",
   "execution_count": 1,
   "id": "7f381dc3-45d9-46ad-9271-0d2f493a9525",
   "metadata": {},
   "outputs": [],
   "source": [
    "class BankAccount:\n",
    "    def __init__(self, account_number, balance):\n",
    "        self.__account_number = account_number\n",
    "        self.__balance = balance\n",
    "\n",
    "    def deposit(self, amount):\n",
    "        self.__balance += amount\n",
    "\n",
    "    def withdraw(self, amount):\n",
    "        if amount > self.__balance:\n",
    "            raise ValueError(\"Insufficient balance\")\n",
    "        self.__balance -= amount\n",
    "\n",
    "    def get_balance(self):\n",
    "        return self.__balance\n"
   ]
  },
  {
   "cell_type": "markdown",
   "id": "9831e52e-c679-40f0-9e47-8609f423330a",
   "metadata": {},
   "source": [
    "#### Exercises:\n",
    "\n",
    "- Create a class that encapsulates a person's name and age information and provides methods to update and retrieve that information."
   ]
  },
  {
   "cell_type": "code",
   "execution_count": 2,
   "id": "49d40760-99b5-411c-9222-4dc2898e6f10",
   "metadata": {},
   "outputs": [],
   "source": [
    "class Human:\n",
    "    def __init__(self, name, age):\n",
    "        self.__name = name\n",
    "        self.__age = age\n",
    "    \n",
    "    def update_name(self, new_name):\n",
    "        self.__name = new_name\n",
    "        return f\"Human name updated to: {self.__name}\"\n",
    "        \n",
    "    def update_age(self, new_age):\n",
    "        self.__age = new_age\n",
    "        return f\"{self.__name} is {self.__age} years old.\""
   ]
  },
  {
   "cell_type": "code",
   "execution_count": 3,
   "id": "5c0e81eb-2c94-4688-a50c-c597417bce4b",
   "metadata": {},
   "outputs": [],
   "source": [
    "jimmy_john = Human(\"Jimmy John\", 22)"
   ]
  },
  {
   "cell_type": "code",
   "execution_count": 4,
   "id": "1e7001bd-1bb0-44d3-9d64-9bac37503674",
   "metadata": {},
   "outputs": [
    {
     "data": {
      "text/plain": [
       "'Jimmy John is 23 years old.'"
      ]
     },
     "execution_count": 4,
     "metadata": {},
     "output_type": "execute_result"
    }
   ],
   "source": [
    "jimmy_john.update_age(23)"
   ]
  },
  {
   "cell_type": "code",
   "execution_count": 5,
   "id": "41403869-c05a-4048-8fc2-42d9c582f69d",
   "metadata": {},
   "outputs": [
    {
     "data": {
      "text/plain": [
       "__main__.Human"
      ]
     },
     "execution_count": 5,
     "metadata": {},
     "output_type": "execute_result"
    }
   ],
   "source": [
    "type(jimmy_john)"
   ]
  },
  {
   "cell_type": "markdown",
   "id": "339517d7-5090-40cc-bac7-f77d5528f189",
   "metadata": {},
   "source": [
    "- Implement a class that represents a car and encapsulates its make, model, and year information."
   ]
  },
  {
   "cell_type": "code",
   "execution_count": 6,
   "id": "4781ea2d-35a3-461b-a20c-9fcacc88d58a",
   "metadata": {},
   "outputs": [],
   "source": [
    "class Car:\n",
    "    def __init__(self, make, model, year):\n",
    "        self.__make = make\n",
    "        self.__model = model\n",
    "        self.__year = year"
   ]
  },
  {
   "cell_type": "markdown",
   "id": "9590c6f5-5012-4769-8358-f3031c04ed93",
   "metadata": {},
   "source": [
    "- Create a class that represents a phone and hides its IMEI number from the outside world."
   ]
  },
  {
   "cell_type": "code",
   "execution_count": 7,
   "id": "f46932e5-6959-4f02-a4c0-6978b1fc9675",
   "metadata": {},
   "outputs": [],
   "source": [
    "class CellularPhone:\n",
    "    def __init__(self, owner, number, imei):\n",
    "        self.owner = owner\n",
    "        self._number = number\n",
    "        self.__imei = imei"
   ]
  },
  {
   "cell_type": "code",
   "execution_count": 8,
   "id": "4c06398b-d45b-444a-ba61-f012096d54cf",
   "metadata": {},
   "outputs": [],
   "source": [
    "darleens_phone = CellularPhone(\"Darleen\",\"8675309\", 8791138)"
   ]
  },
  {
   "cell_type": "code",
   "execution_count": 9,
   "id": "603dac5c-13fc-4ce0-835e-fe46c3c2f65a",
   "metadata": {},
   "outputs": [
    {
     "data": {
      "text/plain": [
       "'Darleen'"
      ]
     },
     "execution_count": 9,
     "metadata": {},
     "output_type": "execute_result"
    }
   ],
   "source": [
    "darleens_phone.owner"
   ]
  },
  {
   "cell_type": "code",
   "execution_count": 10,
   "id": "8fd84b97-5063-41d7-9a42-14d438578731",
   "metadata": {},
   "outputs": [
    {
     "data": {
      "text/plain": [
       "['_CellularPhone__imei',\n",
       " '__class__',\n",
       " '__delattr__',\n",
       " '__dict__',\n",
       " '__dir__',\n",
       " '__doc__',\n",
       " '__eq__',\n",
       " '__format__',\n",
       " '__ge__',\n",
       " '__getattribute__',\n",
       " '__gt__',\n",
       " '__hash__',\n",
       " '__init__',\n",
       " '__init_subclass__',\n",
       " '__le__',\n",
       " '__lt__',\n",
       " '__module__',\n",
       " '__ne__',\n",
       " '__new__',\n",
       " '__reduce__',\n",
       " '__reduce_ex__',\n",
       " '__repr__',\n",
       " '__setattr__',\n",
       " '__sizeof__',\n",
       " '__str__',\n",
       " '__subclasshook__',\n",
       " '__weakref__',\n",
       " '_number',\n",
       " 'owner']"
      ]
     },
     "execution_count": 10,
     "metadata": {},
     "output_type": "execute_result"
    }
   ],
   "source": [
    "dir(darleens_phone) #Shows that a private object exists."
   ]
  },
  {
   "cell_type": "markdown",
   "id": "7c182c50-5da8-4fac-878d-0101876c2d3f",
   "metadata": {},
   "source": [
    "### Access modifiers: public, protected, and private:\n",
    "\n",
    "Access modifiers determine the level of visibility of an object's attributes and methods.\n",
    "\n",
    "Eaxample:"
   ]
  },
  {
   "cell_type": "code",
   "execution_count": 11,
   "id": "832a16e1-588c-4340-b49d-da51ac3a26c3",
   "metadata": {},
   "outputs": [],
   "source": [
    "class Animal:\n",
    "    def __init__(self, name, age):\n",
    "        self.name = name\n",
    "        self._age = age\n",
    "        self.__weight = 0\n",
    "\n",
    "    def eat(self, food):\n",
    "        self.__weight += food.weight\n",
    "\n",
    "class Cat(Animal):\n",
    "    def play(self, toy):\n",
    "        print(f\"{self.name} is playing with {toy}\")\n"
   ]
  },
  {
   "cell_type": "markdown",
   "id": "f7126f44-8f20-4558-ac2a-18e6944bf8e5",
   "metadata": {},
   "source": [
    "In this example, the Animal class has a public attribute 'name', a protected attribute '_age', and a private attribute '__weight'. \n",
    "\n",
    "The Cat class inherits from the Animal class and can access the protected and public attributes."
   ]
  },
  {
   "cell_type": "markdown",
   "id": "1ede2e46-08c2-4675-8f88-8be9637193ce",
   "metadata": {
    "tags": []
   },
   "source": [
    "#### Exercises:\n",
    "\n",
    "- Create a class that has a private attribute and a public method to retrieve that attribute."
   ]
  },
  {
   "cell_type": "code",
   "execution_count": 12,
   "id": "e707fdbc-b29e-42f9-b89a-44154fb47db0",
   "metadata": {},
   "outputs": [],
   "source": [
    "class Dog:\n",
    "    def __init__(self, name, age, weight):\n",
    "        self.name = name\n",
    "        self.age = age\n",
    "        self.__weight = weight\n",
    "        \n",
    "    def eat(self, food):\n",
    "        self.__weight += food.weight\n",
    "        \n",
    "    def drool(self, food):\n",
    "        print(f\"{self.name} is drooling.\")"
   ]
  },
  {
   "cell_type": "code",
   "execution_count": 13,
   "id": "7f51a812-c61d-4457-90da-3aa8cbb1acf6",
   "metadata": {},
   "outputs": [],
   "source": [
    "bruno = Dog(\"Bruno da Dog\", 3, 155)"
   ]
  },
  {
   "cell_type": "code",
   "execution_count": 14,
   "id": "ce42fc1d-b956-43e4-8864-c4871d03c1dd",
   "metadata": {},
   "outputs": [
    {
     "name": "stdout",
     "output_type": "stream",
     "text": [
      "Bruno da Dog is drooling.\n"
     ]
    }
   ],
   "source": [
    "bruno.drool(\"Pizza\")"
   ]
  },
  {
   "cell_type": "markdown",
   "id": "949472c9-0b23-4acc-b691-e811707f805b",
   "metadata": {},
   "source": [
    "- Implement a class hierarchy that uses access modifiers to control access to attributes and methods."
   ]
  },
  {
   "cell_type": "code",
   "execution_count": 15,
   "id": "5fea80ac-eb9d-47cc-b658-e3c592ab76cc",
   "metadata": {},
   "outputs": [],
   "source": [
    "class Coffee:\n",
    "    def __(self, roast, grind, bean, secrets):\n",
    "        self.roast = roast\n",
    "        self._grind = grind\n",
    "        self.__bean = bean\n",
    "        self.__secrets = secrets\n",
    "        \n",
    "    def add_secrets(self, more_secrets):\n",
    "        self.__secrets += more_secrets\n",
    "        \n",
    "    def change_grind(self, new_grind):\n",
    "        self._grind = new_grind"
   ]
  },
  {
   "cell_type": "markdown",
   "id": "194511e4-e4d9-4069-ab4d-7594e6ef4ddf",
   "metadata": {},
   "source": [
    "- Create a class that has a protected attribute and a public method to update that attribute"
   ]
  },
  {
   "cell_type": "code",
   "execution_count": 16,
   "id": "56ec1f6c-3a83-4447-933b-ba4206ca584f",
   "metadata": {},
   "outputs": [],
   "source": [
    "class Coffee:\n",
    "    def __(self, roast, grind, bean, secrets):\n",
    "        self.roast = roast\n",
    "        self._grind = grind\n",
    "        self.__bean = bean\n",
    "        self.__secrets = secrets\n",
    "        \n",
    "    def add_secrets(self, more_secrets):\n",
    "        self.__secrets += more_secrets\n",
    "        \n",
    "    def __change_grind(self, new_grind):\n",
    "        self._grind = new_grind"
   ]
  },
  {
   "cell_type": "code",
   "execution_count": null,
   "id": "5a3e51a8-37b5-4295-b714-5f9bd29d0b47",
   "metadata": {},
   "outputs": [],
   "source": []
  },
  {
   "cell_type": "markdown",
   "id": "ab4afe04-1450-430a-a501-31710d05c2ac",
   "metadata": {},
   "source": [
    "### Using getters and setters to access attributes:\n",
    "\n",
    "Getters and setters are public methods that retrieve or update the values of private attributes.\n",
    "\n",
    "Example:"
   ]
  },
  {
   "cell_type": "code",
   "execution_count": 17,
   "id": "0df26009-bcb4-4d20-bde3-b0a78f1a34e0",
   "metadata": {},
   "outputs": [],
   "source": [
    "class Person:\n",
    "    def __init__(self, name, age):\n",
    "        self.__name = name\n",
    "        self.__age = age\n",
    "\n",
    "    def get_name(self):\n",
    "        return self.__name\n",
    "\n",
    "    def set_name(self, name):\n",
    "        self.__name = name\n",
    "\n",
    "    def get_age(self):\n",
    "        return self.__age\n",
    "\n",
    "    def set_age(self, age):\n",
    "        self.__age = age\n"
   ]
  },
  {
   "cell_type": "markdown",
   "id": "33ca9f0b-33a3-4ec0-b03f-3e2ce1309692",
   "metadata": {},
   "source": [
    "In this example, the Person class encapsulates name and age information using private attributes, and provides getter and setter methods to access and update them."
   ]
  },
  {
   "cell_type": "markdown",
   "id": "3c944c25-30b4-4b0a-bfa7-7639b2a98e97",
   "metadata": {},
   "source": [
    "#### Exercises:\n",
    "\n",
    "- Create a class that encapsulates a person's address information using private attributes and getter/setter methods."
   ]
  },
  {
   "cell_type": "code",
   "execution_count": 18,
   "id": "6abe8745-857f-45d4-a968-cbadabfd6426",
   "metadata": {},
   "outputs": [],
   "source": [
    "class Person:\n",
    "    def __init__(self, name, age, address):\n",
    "        self.name = name #Public\n",
    "        self._age = age #Private\n",
    "        self.__address = address #Protected\n",
    "        \n",
    "    def change_addy(self, new_addy):\n",
    "        self.__address = new_addy"
   ]
  },
  {
   "cell_type": "code",
   "execution_count": 19,
   "id": "259e40af-0afc-4e3b-be22-6c0734dd59ac",
   "metadata": {},
   "outputs": [],
   "source": [
    "sara = Person(\"Sara\", 45, \"1 Round Here Way\")"
   ]
  },
  {
   "cell_type": "code",
   "execution_count": 20,
   "id": "9ba3462e-3402-46c6-8bc0-7036636592b3",
   "metadata": {},
   "outputs": [],
   "source": [
    "sara.change_addy(\"3 Round Here Way\")"
   ]
  },
  {
   "cell_type": "code",
   "execution_count": 21,
   "id": "2800d5c3-dcbd-4267-b67d-d16c3d1d09c5",
   "metadata": {},
   "outputs": [
    {
     "name": "stdout",
     "output_type": "stream",
     "text": [
      "45\n"
     ]
    }
   ],
   "source": [
    "print(sara._age)"
   ]
  },
  {
   "cell_type": "code",
   "execution_count": 22,
   "id": "e6b506f8-f12a-4883-8e80-fab04179786e",
   "metadata": {},
   "outputs": [
    {
     "name": "stdout",
     "output_type": "stream",
     "text": [
      "That might be private, leave it allon buddy!\n"
     ]
    }
   ],
   "source": [
    "try:\n",
    "    print(sara.__address)\n",
    "    \n",
    "except AttributeError:\n",
    "    print(\"That might be private, leave it allon buddy!\")"
   ]
  },
  {
   "cell_type": "markdown",
   "id": "e4df90cf-6483-40b4-8137-c6367cf8677f",
   "metadata": {},
   "source": [
    "- Implement a class that represents a product and encapsulates its price information using a private attribute and getter/setter methods."
   ]
  },
  {
   "cell_type": "code",
   "execution_count": 23,
   "id": "a5ab4097-f525-4cf7-9788-bacfe72798f6",
   "metadata": {},
   "outputs": [],
   "source": [
    "class Widget:\n",
    "    def __init__(self, sku, price):\n",
    "        self.sku = sku\n",
    "        self._price = price\n",
    "        \n",
    "    def change_price(self, new_price):\n",
    "        self._price = new_price"
   ]
  },
  {
   "cell_type": "code",
   "execution_count": 24,
   "id": "048ba055-ed6a-4a67-8e39-7bf15fff7141",
   "metadata": {},
   "outputs": [],
   "source": [
    "thingy_ma_bob = Widget(349433, 4.99)"
   ]
  },
  {
   "cell_type": "code",
   "execution_count": 25,
   "id": "c7800a8d-7da4-499d-a296-364c9b3b8ac6",
   "metadata": {},
   "outputs": [
    {
     "data": {
      "text/plain": [
       "4.99"
      ]
     },
     "execution_count": 25,
     "metadata": {},
     "output_type": "execute_result"
    }
   ],
   "source": [
    "thingy_ma_bob._price"
   ]
  },
  {
   "cell_type": "markdown",
   "id": "7dd2bb60-0ac1-4a00-b314-85ff5215a475",
   "metadata": {},
   "source": [
    "- Create a class that represents a student and encapsulates their grade information using private attributes and getter/setter methods."
   ]
  },
  {
   "cell_type": "code",
   "execution_count": 26,
   "id": "b2af3fcb-b783-4b56-af7c-ba362b0711ce",
   "metadata": {},
   "outputs": [],
   "source": [
    "class Student:\n",
    "    def __init__(self, grade):\n",
    "        self._grade = grade\n",
    "        \n",
    "    def change_grade(self, new_grade):\n",
    "        self._grade = new_grade"
   ]
  },
  {
   "cell_type": "markdown",
   "id": "fc3e067d-9000-4157-a4d6-42ec3a41a7a5",
   "metadata": {},
   "source": [
    "### Abstraction and abstract classes:\n",
    "\n",
    "Abstraction is the process of simplifying complex systems by modeling them at a higher level of abstraction. Abstract classes define a set of methods that must be implemented by any concrete subclass.\n",
    "\n",
    "Example:"
   ]
  },
  {
   "cell_type": "code",
   "execution_count": 27,
   "id": "ca4a68a4-aae6-4662-81fd-84f9f7171ad0",
   "metadata": {},
   "outputs": [
    {
     "name": "stdout",
     "output_type": "stream",
     "text": [
      "Cant make a cow without the speak method.\n",
      "Meow\n",
      "Woof\n",
      "There is no cow without adding the speak method.\n"
     ]
    }
   ],
   "source": [
    "from abc import ABC, abstractmethod\n",
    "\n",
    "class Animal(ABC):\n",
    "    @abstractmethod\n",
    "    def speak(self):\n",
    "        pass\n",
    "\n",
    "class Cat(Animal):\n",
    "    def speak(self):\n",
    "        print(\"Meow\")\n",
    "\n",
    "class Dog(Animal):\n",
    "    def speak(self):\n",
    "        print(\"Woof\")\n",
    "\n",
    "class Cow(Animal):\n",
    "    pass\n",
    "\n",
    "def make_animal_speak(animal):\n",
    "    animal.speak()\n",
    "\n",
    "cat = Cat()\n",
    "dog = Dog()\n",
    "try:\n",
    "    cow = Cow()\n",
    "except TypeError:\n",
    "    print(\"Cant make a cow without the speak method.\")\n",
    "\n",
    "make_animal_speak(cat)  # Output: Meow\n",
    "make_animal_speak(dog)  # Output: Woof\n",
    "try:\n",
    "    make_animal_speak(cow)  # TypeError: Can't instantiate abstract class Cow with abstract methods speak\n",
    "except NameError:\n",
    "    print(\"There is no cow without adding the speak method.\")"
   ]
  },
  {
   "cell_type": "markdown",
   "id": "04d6c777-db09-4aad-a5dd-5d3b6c0b8335",
   "metadata": {},
   "source": [
    "In this example, the Animal class is an abstract class that defines a single abstract method 'speak'. The Cat and Dog classes are concrete subclasses of the Animal class that implement the 'speak' method. The Cow class is also a subclass of Animal but does not implement the 'speak' method and thus cannot be instantiated. The make_animal_speak function takes an Animal object and calls its 'speak' method, regardless of the specific subclass."
   ]
  },
  {
   "cell_type": "markdown",
   "id": "d5de4f00-90ad-4cb5-a547-1d6ce8409a3b",
   "metadata": {},
   "source": [
    "#### Exercises:\n",
    "\n",
    "- Create an abstract class that defines a set of methods that must be implemented by any concrete subclass."
   ]
  },
  {
   "cell_type": "code",
   "execution_count": 28,
   "id": "e6b1ce0a-94c5-49f5-bb5b-738ab87f230d",
   "metadata": {
    "tags": []
   },
   "outputs": [],
   "source": [
    "class Stone(ABC):\n",
    "    @abstractmethod\n",
    "    def hardness_test(self, impact_force):\n",
    "        self.impact_force = impact_force\n",
    "        \n",
    "    def impact_test(self, force):\n",
    "        self.force = force\n",
    "    \n",
    "class Quartz(Stone):\n",
    "    def transparentness(self, opacity):\n",
    "        self.opacity = opacity\n",
    "    \n",
    "    def impact_test(self, force):\n",
    "        self.force = force\n",
    "        \n",
    "class Opal(Stone):\n",
    "    def __init__(self):\n",
    "        pass\n",
    "    \n",
    "    def nothing(self):\n",
    "        pass\n",
    "        "
   ]
  },
  {
   "cell_type": "code",
   "execution_count": 29,
   "id": "75092928-8be4-41ba-9562-fbb799e131e0",
   "metadata": {},
   "outputs": [
    {
     "name": "stdout",
     "output_type": "stream",
     "text": [
      "Error, error, needs abstract method\n"
     ]
    }
   ],
   "source": [
    "try:\n",
    "    rock = Opal()\n",
    "    \n",
    "except TypeError:\n",
    "    print(\"Error, error, needs abstract method\")"
   ]
  },
  {
   "cell_type": "markdown",
   "id": "720c583f-acf4-4c5f-81ac-0c3865a075c9",
   "metadata": {},
   "source": [
    "- Implement a concrete subclass of an abstract class and override its abstract methods."
   ]
  },
  {
   "cell_type": "code",
   "execution_count": 30,
   "id": "cdc61790-6f40-4cd8-887a-5d3db835af3d",
   "metadata": {},
   "outputs": [],
   "source": [
    "class Stone(ABC):\n",
    "    @abstractmethod\n",
    "    def hardness_test(self, impact_force):\n",
    "        self.impact_force = impact_force\n",
    "        \n",
    "    def impact_test(self, force):\n",
    "        self.force = force\n",
    "        "
   ]
  },
  {
   "cell_type": "code",
   "execution_count": 31,
   "id": "3f1c80eb-64e3-41c6-a24c-dde6c27f749d",
   "metadata": {},
   "outputs": [],
   "source": [
    "class Stone(ABC):\n",
    "    def hardness_test(self, impact_force):\n",
    "        self.impact_force = impact_force\n",
    "        \n",
    "    def impact_test(self, force):\n",
    "        self.force = force"
   ]
  },
  {
   "cell_type": "code",
   "execution_count": 32,
   "id": "c891bb91-43fc-40b4-8245-fb596bad3d11",
   "metadata": {},
   "outputs": [],
   "source": [
    "class Opal(Stone):\n",
    "    def __init__(self):\n",
    "        pass\n",
    "    \n",
    "    def nothing(self):\n",
    "        pass"
   ]
  },
  {
   "cell_type": "code",
   "execution_count": 33,
   "id": "08b0daa0-1d7a-4c7c-a3d9-57cfa4363cc1",
   "metadata": {},
   "outputs": [],
   "source": [
    "try:\n",
    "    rock = Opal()\n",
    "    \n",
    "except TypeError:\n",
    "    print(\"Error, error, needs abstract method\")"
   ]
  },
  {
   "cell_type": "code",
   "execution_count": 34,
   "id": "de272e10-d6ab-41a1-b0b4-61c0f2bd5471",
   "metadata": {},
   "outputs": [
    {
     "data": {
      "text/plain": [
       "__main__.Opal"
      ]
     },
     "execution_count": 34,
     "metadata": {},
     "output_type": "execute_result"
    }
   ],
   "source": [
    "type(rock)"
   ]
  },
  {
   "cell_type": "markdown",
   "id": "1f504aff-c120-40c9-b35d-c7a72bf56d6c",
   "metadata": {},
   "source": [
    "- Write a function that takes an object of an abstract class and calls its abstract methods."
   ]
  },
  {
   "cell_type": "code",
   "execution_count": 35,
   "id": "24f8859a-4366-4e8a-9a35-d82ea2675ab3",
   "metadata": {},
   "outputs": [],
   "source": [
    "class Stone(ABC):\n",
    "    @abstractmethod\n",
    "    def hardness_test(self, impact_force):\n",
    "        self.impact_test = impact_force\n",
    "        \n",
    "        if impact_force > 20:\n",
    "            print(\"KABOOM..... I'm broken\")\n",
    "            \n",
    "class Granit(Stone):\n",
    "    def hardness_test(self, impact_force):\n",
    "        self.impact_test = impact_force\n",
    "        \n",
    "        if impact_force > 20:\n",
    "            print(\"KABOOM..... I'm broken\")"
   ]
  },
  {
   "cell_type": "code",
   "execution_count": 36,
   "id": "82e06b48-0fb1-445a-b990-6753a5ebcf30",
   "metadata": {},
   "outputs": [],
   "source": [
    "odd_looking_rock = Granit()"
   ]
  },
  {
   "cell_type": "code",
   "execution_count": 37,
   "id": "ca36eedc-9306-4b96-8d8f-94b6fd6f15e7",
   "metadata": {},
   "outputs": [
    {
     "name": "stdout",
     "output_type": "stream",
     "text": [
      "KABOOM..... I'm broken\n"
     ]
    }
   ],
   "source": [
    "odd_looking_rock.hardness_test(22)"
   ]
  },
  {
   "cell_type": "markdown",
   "id": "732eb476-94e3-41e3-8a78-d2be92ad90c5",
   "metadata": {
    "tags": []
   },
   "source": [
    "### Class Methods and Static Methods:"
   ]
  },
  {
   "cell_type": "markdown",
   "id": "e96b4f08-5a63-421d-a9a1-3cc20af886f2",
   "metadata": {},
   "source": [
    "Class methods and static methods are special types of methods in Python that allow you to define behavior that is associated with a class rather than an instance of that class."
   ]
  },
  {
   "cell_type": "markdown",
   "id": "13699671-d429-4262-affd-3c9c6a18d022",
   "metadata": {},
   "source": [
    "A class method is a method that is bound to the class and not the instance of the class. You can use the @classmethod decorator to define a class method."
   ]
  },
  {
   "cell_type": "markdown",
   "id": "7857d8ea-ebac-4e1f-8768-a8a142a04da8",
   "metadata": {},
   "source": [
    "A static method is a method that does not depend on the state of the object or the class. You can use the @staticmethod decorator to define a static method."
   ]
  },
  {
   "cell_type": "code",
   "execution_count": 38,
   "id": "6fe26e61-8b95-4348-947d-cffa3a8708c9",
   "metadata": {},
   "outputs": [],
   "source": [
    "class MyClass:\n",
    "    class_variable = \"Hello\"\n",
    "    \n",
    "    @classmethod\n",
    "    def class_method(cls):\n",
    "        print(cls.class_variable)\n",
    "        \n",
    "    @staticmethod\n",
    "    def static_method():\n",
    "        print(\"This is a static method\")\n",
    "\n"
   ]
  },
  {
   "cell_type": "markdown",
   "id": "4eafeff5-93df-4161-84e8-97843c718577",
   "metadata": {
    "tags": []
   },
   "source": [
    "##### Class Methods:\n",
    "\n",
    "Class methods are methods which are bound to the class and not the instance of the class. They are defined using the @classmethod decorator. The first parameter of the class method is always the class itself, which is conventionally called cls."
   ]
  },
  {
   "cell_type": "code",
   "execution_count": 39,
   "id": "b27320a8-5fde-4517-8f63-1adb8ac6d5bd",
   "metadata": {},
   "outputs": [],
   "source": [
    "class MyClass:\n",
    "    class_variable = \"Hello\"\n",
    "\n",
    "    @classmethod\n",
    "    def class_method(cls):\n",
    "        print(cls.class_variable)\n"
   ]
  },
  {
   "cell_type": "markdown",
   "id": "1b56fae2-dbb2-446c-be25-974ca3af8995",
   "metadata": {},
   "source": [
    "In this example, `class_method` is a class method because it has the `@classmethod` decorator. When we call `MyClass.class_method()`, the `cls` parameter is automatically set to `MyClass`, and we can access the class variable `class_variable` using `cls.class_variable`."
   ]
  },
  {
   "cell_type": "markdown",
   "id": "dcf14413-6007-47ce-bc39-5740f0704d12",
   "metadata": {},
   "source": [
    "##### Static Methods:\n",
    "\n",
    "Static methods are methods that are bound to the class and not the instance of the class. They are defined using the `@staticmethod` decorator. Unlike class methods, they do not take any special first parameter.\n",
    "\n",
    "Here's an example:"
   ]
  },
  {
   "cell_type": "code",
   "execution_count": 40,
   "id": "647e40b8-2a0f-485b-9b62-13079df6e0b2",
   "metadata": {},
   "outputs": [],
   "source": [
    "class MyClass:\n",
    "    @staticmethod\n",
    "    def static_method():\n",
    "        print(\"This is a static method\")\n"
   ]
  },
  {
   "cell_type": "markdown",
   "id": "b480c93b-9df9-4b22-922d-65bf10620ca7",
   "metadata": {},
   "source": [
    "In this example, `static_method` is a static method because it has the `@staticmethod` decorator. We can call it using `MyClass.static_method()`, and it will execute like any other method, but it doesn't take any special first parameter like `cls`."
   ]
  },
  {
   "cell_type": "markdown",
   "id": "a51f8418-dc35-4eba-9da8-dc0f3d0791e5",
   "metadata": {},
   "source": [
    "#### Exercises:\n",
    "\n",
    "- Create a class method that returns the number of instances of a class."
   ]
  },
  {
   "cell_type": "code",
   "execution_count": null,
   "id": "acfae573-2587-4ceb-8395-004ad1840823",
   "metadata": {},
   "outputs": [],
   "source": []
  },
  {
   "cell_type": "markdown",
   "id": "cd07228c-edaa-4eae-9a9a-844f60cf9565",
   "metadata": {},
   "source": [
    "- Create a static method that generates a random number."
   ]
  },
  {
   "cell_type": "code",
   "execution_count": null,
   "id": "5b690c8f-d6de-478a-8a1c-a52dd51e3d49",
   "metadata": {},
   "outputs": [],
   "source": []
  },
  {
   "cell_type": "markdown",
   "id": "f340c05b-1322-49a1-beb5-4439753bab21",
   "metadata": {},
   "source": [
    "- Create a class method that returns the name of the class."
   ]
  },
  {
   "cell_type": "code",
   "execution_count": null,
   "id": "f972a74e-2f8b-4a94-851e-685891f4134f",
   "metadata": {},
   "outputs": [],
   "source": []
  },
  {
   "cell_type": "markdown",
   "id": "2c03f16e-2ef9-461f-89e0-fec8fc9ea7e0",
   "metadata": {},
   "source": [
    "- Create a static method that checks if a given string is a palindrome."
   ]
  },
  {
   "cell_type": "code",
   "execution_count": null,
   "id": "4d82374e-e967-47c1-9471-0e625c101bf5",
   "metadata": {},
   "outputs": [],
   "source": []
  },
  {
   "cell_type": "markdown",
   "id": "0fd47e50-7921-4e32-8c4c-d77260e8a625",
   "metadata": {},
   "source": [
    "- Create a class method that takes a string as input and returns the string in reverse order."
   ]
  },
  {
   "cell_type": "code",
   "execution_count": null,
   "id": "88994baf-593e-41f6-8e91-a9cab04168a6",
   "metadata": {},
   "outputs": [],
   "source": []
  },
  {
   "cell_type": "markdown",
   "id": "02429438-4d6f-465d-b23d-799181683526",
   "metadata": {},
   "source": [
    "- Create a static method that converts a given temperature in Celsius to Fahrenheit."
   ]
  },
  {
   "cell_type": "code",
   "execution_count": null,
   "id": "ccf9a7fe-74c0-4c82-ab76-9fda9e6cec96",
   "metadata": {},
   "outputs": [],
   "source": []
  },
  {
   "cell_type": "markdown",
   "id": "8ce497cb-c442-4aeb-b0f6-6eb9b4bc3c37",
   "metadata": {},
   "source": [
    "- Create a class method that takes a list of integers and returns the sum of all the integers."
   ]
  },
  {
   "cell_type": "code",
   "execution_count": null,
   "id": "68364705-e10f-40ac-94ef-4d7f5d4e2317",
   "metadata": {},
   "outputs": [],
   "source": []
  },
  {
   "cell_type": "markdown",
   "id": "bd6659ae-de51-4559-ab94-475051437d3e",
   "metadata": {},
   "source": [
    "- Create a static method that checks if a given number is prime."
   ]
  },
  {
   "cell_type": "code",
   "execution_count": null,
   "id": "9794fa67-d84a-46b2-a04e-0ed82cdfb5f7",
   "metadata": {},
   "outputs": [],
   "source": []
  },
  {
   "cell_type": "markdown",
   "id": "95a153ac-097c-4119-834d-b6e82f393732",
   "metadata": {},
   "source": [
    "- Create a class method that takes a list of strings and returns the concatenation of all the strings."
   ]
  },
  {
   "cell_type": "code",
   "execution_count": null,
   "id": "52bcd1ec-b708-49c1-8c5a-ce7610df971f",
   "metadata": {},
   "outputs": [],
   "source": []
  },
  {
   "cell_type": "markdown",
   "id": "97da09b9-6e56-4b3c-8f85-eb2a9ef0f6ee",
   "metadata": {},
   "source": [
    "- Create a static method that calculates the area of a circle given the radius."
   ]
  },
  {
   "cell_type": "code",
   "execution_count": null,
   "id": "877aed5c-5105-491b-b212-efe6ee33aeda",
   "metadata": {},
   "outputs": [],
   "source": []
  },
  {
   "cell_type": "markdown",
   "id": "09fb477e-6c6f-4489-9e47-80def88bf8f3",
   "metadata": {},
   "source": [
    "### Operator Overloading and Special Methods:"
   ]
  },
  {
   "cell_type": "markdown",
   "id": "a5d85945-afe8-4dca-87cb-04c40038f0a1",
   "metadata": {},
   "source": [
    "In Python, operator overloading allows you to define how operators (such as +, -, *, /, etc.) work with your own custom classes. This is done by defining special methods in your class that correspond to the operator or built-in function you want to overload.\n",
    "\n",
    "These special methods are known as \"dunder\" methods, which stands for \"double underscore\" methods. They are also sometimes called \"magic\" methods because they allow you to perform operations that might seem like magic when you first encounter them.\n",
    "\n",
    "For example, if you define the special method __add__ in your class, you can use the \"+\" operator to add instances of your class together. Similarly, if you define __lt__, __le__, __gt__, and __ge__, you can use the \"<\", \"<=\", \">\", and \">=\" operators to compare instances of your class.\n",
    "\n",
    "Here is a list of some common dunder methods and their corresponding operators or built-in functions:\n",
    "\n",
    "- `__add__(self, other):` \"+\"\n",
    "- `__sub__(self, other):` \"-\"\n",
    "- `__mul__(self, other):` \"*\"\n",
    "- `__truediv__(self, other):` \"/\"\n",
    "- `__floordiv__(self, other):` \"//\"\n",
    "- `__mod__(self, other):` \"%\"\n",
    "- `__pow__(self, other[, modulo]):` \"**\"\n",
    "- `__and__(self, other):` \"&\"\n",
    "- `__or__(self, other):` \"|\"\n",
    "- `__xor__(self, other):` \"^\"\n",
    "- `__lshift__(self, other):` \"<<\"\n",
    "- `__rshift__(self, other):` \">>\"\n",
    "- `__eq__(self, other):` \"==\"\n",
    "- `__ne__(self, other):` \"!=\"\n",
    "- `__lt__(self, other):` \"<\"\n",
    "- `__le__(self, other):` \"<=\"\n",
    "- `__gt__(self, other):` \">\"\n",
    "- `__ge__(self, other):` \">=\"\n",
    "- `__len__(self):` \"len()\"\n",
    "- `__str__(self):` \"str()\"\n",
    "- `__repr__(self):` \"repr()\"\n",
    "\n",
    "It's important to note that when overloading operators or built-in functions, you should always strive to maintain the expected behavior of the operator or function. For example, if you overload the \"+\" operator to concatenate strings in your class, you should still be able to use the \"+\" operator to add numbers together in other parts of your code."
   ]
  },
  {
   "cell_type": "code",
   "execution_count": 41,
   "id": "c1ca62d3-f1b3-4c6e-b7cc-b2393afa1ac9",
   "metadata": {},
   "outputs": [
    {
     "name": "stdout",
     "output_type": "stream",
     "text": [
      "MyClass object with value 15\n"
     ]
    }
   ],
   "source": [
    "class MyClass:\n",
    "    def __init__(self, value):\n",
    "        self.value = value\n",
    "        \n",
    "    def __add__(self, other):\n",
    "        return MyClass(self.value + other.value)\n",
    "        \n",
    "    def __str__(self):\n",
    "        return f\"MyClass object with value {self.value}\"\n",
    "        \n",
    "obj1 = MyClass(5)\n",
    "obj2 = MyClass(10)\n",
    "result = obj1 + obj2\n",
    "print(result)  # Output: MyClass object with value 15\n"
   ]
  },
  {
   "cell_type": "markdown",
   "id": "7173b2c8-358a-41fb-9928-36d242332943",
   "metadata": {},
   "source": [
    "Exercises:\n",
    "\n",
    "- Implement the `__eq__` method for a class that checks if two objects are equal."
   ]
  },
  {
   "cell_type": "code",
   "execution_count": 42,
   "id": "9e0b8360-26a0-4771-9f41-8c941caffe38",
   "metadata": {},
   "outputs": [],
   "source": [
    "class ThisClass:\n",
    "    def __init__(self, value):\n",
    "        self.value = value\n",
    "        \n",
    "    def __eq__(self, other):\n",
    "        if isinstance(other, ThisClass):\n",
    "            return self.value == other.value\n",
    "        return False"
   ]
  },
  {
   "cell_type": "code",
   "execution_count": 43,
   "id": "186480b5-41d8-401a-a770-4091aef12b3b",
   "metadata": {},
   "outputs": [
    {
     "name": "stdout",
     "output_type": "stream",
     "text": [
      "False\n",
      "True\n"
     ]
    }
   ],
   "source": [
    "this_thing = ThisClass(22)\n",
    "print(this_thing == 33) # Output: False\n",
    "print(this_thing == ThisClass(22)) # Output: True"
   ]
  },
  {
   "cell_type": "markdown",
   "id": "a5b5ddb1-1e9a-4810-be9d-766a25a212e8",
   "metadata": {},
   "source": [
    "- Implement the `__lt__` method for a class that checks if one object is less than another object."
   ]
  },
  {
   "cell_type": "markdown",
   "id": "56d2e017-d2a3-44d5-9f9b-2d01323994ac",
   "metadata": {},
   "source": [
    "- Implement the `__len__` method for a class that returns the length of an object."
   ]
  },
  {
   "cell_type": "markdown",
   "id": "1c32c886-658c-4db8-a2d0-5f59953f53ea",
   "metadata": {},
   "source": [
    "- Implement the `__getitem__` method for a class that allows you to access elements of an object using index notation."
   ]
  },
  {
   "cell_type": "markdown",
   "id": "6a8640f4-64a2-4d51-8ef7-1c736a6e176f",
   "metadata": {},
   "source": [
    "- Implement the `__setitem__` method for a class that allows you to set the value of an element in an object using index notation."
   ]
  },
  {
   "cell_type": "code",
   "execution_count": 44,
   "id": "e1b08d78-ec75-47a5-beaf-a2c3a87b41da",
   "metadata": {},
   "outputs": [],
   "source": [
    "class NewClassToEval:\n",
    "    def __init__(self, my_value):\n",
    "        self.value = my_value\n",
    "        \n",
    "    def __lt__(self, other):\n",
    "        if (isinstance(other, NewClassToEval)) and (self.value < other.value):\n",
    "            return f\"{self.value} is smaller than {other.value}\"\n",
    "        else:\n",
    "            return False\n",
    "        \n",
    "    def __len__(self, other):\n",
    "        i = 0\n",
    "        for item in other:\n",
    "            i += 1\n",
    "        return i\n",
    "    \n",
    "    def __getitem__(self, other):\n",
    "        print (type(other), other)\n",
    "        "
   ]
  },
  {
   "cell_type": "code",
   "execution_count": 45,
   "id": "e9c65a66-0dea-464b-9329-cf30774f6e13",
   "metadata": {},
   "outputs": [
    {
     "name": "stdout",
     "output_type": "stream",
     "text": [
      "66 is smaller than 302\n",
      "False\n"
     ]
    }
   ],
   "source": [
    "running_out_of_names = NewClassToEval(66)\n",
    "print(running_out_of_names < NewClassToEval(302))\n",
    "print(running_out_of_names < NewClassToEval(34))"
   ]
  },
  {
   "cell_type": "code",
   "execution_count": null,
   "id": "114729e5-6a86-47b1-a6c4-4cb9f484e555",
   "metadata": {},
   "outputs": [],
   "source": []
  },
  {
   "cell_type": "code",
   "execution_count": null,
   "id": "5563adb4-5d80-46cb-9630-4fe09300eb80",
   "metadata": {},
   "outputs": [],
   "source": []
  },
  {
   "cell_type": "code",
   "execution_count": null,
   "id": "22bec683-8fa9-4743-b736-ee381fb390a4",
   "metadata": {},
   "outputs": [],
   "source": []
  },
  {
   "cell_type": "markdown",
   "id": "07f1f5c3-8b72-4922-aa5f-8e4289751cc5",
   "metadata": {},
   "source": [
    "- Implement the `__delitem__` method for a class that allows you to delete an element from an object using index notation."
   ]
  },
  {
   "cell_type": "code",
   "execution_count": null,
   "id": "2ff62378-da3c-41cc-a268-cf136398890c",
   "metadata": {},
   "outputs": [],
   "source": []
  },
  {
   "cell_type": "markdown",
   "id": "43a4f785-a6c8-4bb6-818e-7d03171faff6",
   "metadata": {},
   "source": [
    "- Implement the `__contains__` method for a class that checks if a value is in an object."
   ]
  },
  {
   "cell_type": "code",
   "execution_count": null,
   "id": "970df098-9116-4c6c-924b-2ce2b4eba13a",
   "metadata": {},
   "outputs": [],
   "source": []
  },
  {
   "cell_type": "markdown",
   "id": "ef48c479-c36e-4b95-8b57-9acd1185bd84",
   "metadata": {},
   "source": [
    "- Implement the `__repr__` method for a class that returns a string representation of an object."
   ]
  },
  {
   "cell_type": "code",
   "execution_count": null,
   "id": "bbfb5c0e-4478-4954-86db-7a12ea011b0b",
   "metadata": {},
   "outputs": [],
   "source": []
  },
  {
   "cell_type": "markdown",
   "id": "d82646dd-7714-4676-a76f-210b043eb437",
   "metadata": {},
   "source": [
    "- Implement the `__str__` method for a class that returns a human-readable string representation of an object."
   ]
  },
  {
   "cell_type": "code",
   "execution_count": null,
   "id": "2282628c-280c-41ae-9e5a-f09cde211cbe",
   "metadata": {},
   "outputs": [],
   "source": []
  },
  {
   "cell_type": "markdown",
   "id": "0863ddff-2a9d-4202-a9cf-e879111cb540",
   "metadata": {},
   "source": [
    "- Implement the `__call__` method for a class that allows you to call an object"
   ]
  },
  {
   "cell_type": "code",
   "execution_count": null,
   "id": "ba82a5cd-9352-4e41-8eb9-24de557ebaf1",
   "metadata": {},
   "outputs": [],
   "source": []
  },
  {
   "cell_type": "markdown",
   "id": "819df7d7-dc22-4a03-a9d1-5732c44a42fb",
   "metadata": {},
   "source": [
    "Here is a brief overview of each topic:\n",
    "\n",
    "Operator overloading and special methods: In Python, you can redefine the behavior of built-in operators or create new operators for your classes by using special methods. These special methods have double underscores before and after their names (e.g., `__add__` for addition). By defining these special methods, you can customize how your objects behave when used with operators."
   ]
  },
  {
   "cell_type": "markdown",
   "id": "265af91b-4de6-4af3-802c-b17599b7d494",
   "metadata": {},
   "source": [
    "Operator overloading and special methods exercises:\n",
    "\n",
    "- Create a class representing a complex number, and define the `__add__` method to add two complex numbers together."
   ]
  },
  {
   "cell_type": "markdown",
   "id": "0595ced9-4e09-4de8-bd04-aa358d80a617",
   "metadata": {},
   "source": [
    "- Create a class representing a matrix, and define the `__mul__` method to multiply two matrices together."
   ]
  },
  {
   "cell_type": "markdown",
   "id": "7b27fba6-9fb4-477f-a889-67b00efca179",
   "metadata": {},
   "source": [
    "- Create a class representing a date, and define the `__lt__` method to compare two dates."
   ]
  },
  {
   "cell_type": "markdown",
   "id": "67d9e976-eeef-46c7-923b-c64fa71c10a6",
   "metadata": {},
   "source": [
    "- Create a class representing a vector, and define the `__sub__` method to subtract one vector from another."
   ]
  },
  {
   "cell_type": "markdown",
   "id": "f135c3a0-4cf3-4335-81aa-15f763c0fd91",
   "metadata": {},
   "source": [
    "- Create a class representing a fraction, and define the `__div__` method to divide one fraction by another."
   ]
  },
  {
   "cell_type": "markdown",
   "id": "06d5b685-1edc-41b7-a0cc-532d14c57007",
   "metadata": {},
   "source": [
    "#### Property decorators: \n",
    "Description: In Python, properties are a way to encapsulate attributes and provide access to them using getters and setters. The `@property` decorator is used to define a getter for an attribute, while the `@<attribute>.setter` decorator is used to define a setter. This allows you to control access to attributes and perform additional checks or operations when getting or setting a value."
   ]
  },
  {
   "cell_type": "code",
   "execution_count": 46,
   "id": "4bda823e-3717-47d8-a95c-4001b2b99974",
   "metadata": {},
   "outputs": [],
   "source": [
    "class Rectangle:\n",
    "    def __init__(self, width, height):\n",
    "        self._width = width\n",
    "        self._height = height\n",
    "\n",
    "    @property\n",
    "    def width(self):\n",
    "        return self._width\n",
    "\n",
    "    @width.setter\n",
    "    def width(self, value):\n",
    "        if value <= 0:\n",
    "            raise ValueError(\"Width must be positive\")\n",
    "        self._width = value\n",
    "\n",
    "    @property\n",
    "    def height(self):\n",
    "        return self._height\n",
    "\n",
    "    @height.setter\n",
    "    def height(self, value):\n",
    "        if value <= 0:\n",
    "            raise ValueError(\"Height must be positive\")\n",
    "        self._height = value\n",
    "\n",
    "    @property\n",
    "    def area(self):\n",
    "        return self.width * self.height\n",
    "\n",
    "    @property\n",
    "    def perimeter(self):\n",
    "        return 2 * (self.width + self.height)\n"
   ]
  },
  {
   "cell_type": "markdown",
   "id": "993fb0db-1028-4cb9-9087-320ebb2d53f1",
   "metadata": {},
   "source": [
    "In this example, we have a `Rectangle` class with `width` and `height` attributes. We use the `@property` decorator to define area and perimeter methods that calculate and return the area and perimeter of the rectangle, respectively.\n",
    "\n",
    "We also use the `@<attribute>.setter` decorator to define `width` and `height` methods that validate the input and set the corresponding attributes. In this case, we check that the input value is positive before setting the attribute. We use the underscore prefix (`_width` and `_height`) to indicate that these attributes are meant to be private, and should not be accessed directly from outside the class.\n",
    "\n",
    "Here's an example of how to use the `Rectangle` class:"
   ]
  },
  {
   "cell_type": "code",
   "execution_count": 47,
   "id": "01e94f96-fbb9-4b25-9729-0401c074008b",
   "metadata": {},
   "outputs": [
    {
     "data": {
      "text/plain": [
       "5"
      ]
     },
     "execution_count": 47,
     "metadata": {},
     "output_type": "execute_result"
    }
   ],
   "source": [
    "r = Rectangle(5, 10)\n",
    "r.width"
   ]
  },
  {
   "cell_type": "code",
   "execution_count": 48,
   "id": "1be0fc90-babe-47bb-9b04-44fc0a1ee2ce",
   "metadata": {},
   "outputs": [
    {
     "data": {
      "text/plain": [
       "10"
      ]
     },
     "execution_count": 48,
     "metadata": {},
     "output_type": "execute_result"
    }
   ],
   "source": [
    "r.height"
   ]
  },
  {
   "cell_type": "code",
   "execution_count": 49,
   "id": "fcb1b32d-88d4-48ba-82c4-b4f0762df5ac",
   "metadata": {},
   "outputs": [
    {
     "data": {
      "text/plain": [
       "50"
      ]
     },
     "execution_count": 49,
     "metadata": {},
     "output_type": "execute_result"
    }
   ],
   "source": [
    "r.area"
   ]
  },
  {
   "cell_type": "code",
   "execution_count": 50,
   "id": "642c9664-06fb-41de-9b19-c077ed7fba78",
   "metadata": {},
   "outputs": [
    {
     "data": {
      "text/plain": [
       "30"
      ]
     },
     "execution_count": 50,
     "metadata": {},
     "output_type": "execute_result"
    }
   ],
   "source": [
    "r.perimeter"
   ]
  },
  {
   "cell_type": "code",
   "execution_count": 51,
   "id": "717966ea-5ec2-49e9-85cf-fc1669bc09e3",
   "metadata": {},
   "outputs": [],
   "source": [
    "r.width = 3"
   ]
  },
  {
   "cell_type": "code",
   "execution_count": 52,
   "id": "756bf108-a615-4572-9ff8-5b08d1c5488d",
   "metadata": {},
   "outputs": [],
   "source": [
    "r.height = 7"
   ]
  },
  {
   "cell_type": "code",
   "execution_count": 53,
   "id": "500a3f6f-c472-4a07-ad74-e5c99d5a9080",
   "metadata": {},
   "outputs": [
    {
     "data": {
      "text/plain": [
       "21"
      ]
     },
     "execution_count": 53,
     "metadata": {},
     "output_type": "execute_result"
    }
   ],
   "source": [
    "r.area"
   ]
  },
  {
   "cell_type": "code",
   "execution_count": 54,
   "id": "87d220b0-cab9-4d5e-8ea4-fa1ce06ef182",
   "metadata": {},
   "outputs": [
    {
     "name": "stdout",
     "output_type": "stream",
     "text": [
      "ValueError: Width must be positive.\n"
     ]
    }
   ],
   "source": [
    "try:\n",
    "    r.width = -2\n",
    "except ValueError:\n",
    "    print(\"ValueError: Width must be positive.\")"
   ]
  },
  {
   "cell_type": "markdown",
   "id": "f73f74b1-0f6e-4a1e-aaa7-6c5f31fe6bba",
   "metadata": {},
   "source": [
    "Property decorator exercises:\n",
    "\n",
    "- Create a class representing a person, with attributes for their name, age, and height. Use the `@property` decorator to define a getter for their age, and a `@<attribute>.setter` decorator to define a setter for their height."
   ]
  },
  {
   "cell_type": "code",
   "execution_count": null,
   "id": "b10023b2-6c06-491f-886f-7505c2def46e",
   "metadata": {},
   "outputs": [],
   "source": []
  },
  {
   "cell_type": "markdown",
   "id": "cf43bc52-d4f4-40d6-b3a5-8051ffba8610",
   "metadata": {},
   "source": [
    "- Create a class representing a bank account, with attributes for the account balance and interest rate. Use the `@property` decorator to define a getter for the balance, and a `@<attribute>.setter` decorator to define a setter for the interest rate."
   ]
  },
  {
   "cell_type": "code",
   "execution_count": null,
   "id": "dcea2739-ebc7-49e3-bd32-b454264aaa73",
   "metadata": {},
   "outputs": [],
   "source": []
  },
  {
   "cell_type": "markdown",
   "id": "f448e483-e03f-4d7a-8951-3529e469b479",
   "metadata": {},
   "source": [
    "- Create a class representing a car, with attributes for the make, model, and year. Use the `@property` decorator to define getters for the make, model, and year."
   ]
  },
  {
   "cell_type": "code",
   "execution_count": null,
   "id": "1c02b4cb-55c9-4a77-867e-e005cade8fb3",
   "metadata": {},
   "outputs": [],
   "source": []
  },
  {
   "cell_type": "markdown",
   "id": "2838807d-225a-49ec-9421-a1d7b48436e0",
   "metadata": {},
   "source": [
    "- Create a class representing a book, with attributes for the title, author, and number of pages. Use the `@property` decorator to define getters for the title and author."
   ]
  },
  {
   "cell_type": "code",
   "execution_count": null,
   "id": "76e17b28-db82-4e06-a973-9c0948e7dec7",
   "metadata": {},
   "outputs": [],
   "source": []
  },
  {
   "cell_type": "markdown",
   "id": "638bbfef-3df7-4704-a91c-1d839a7651c0",
   "metadata": {},
   "source": [
    "- Create a class representing a movie, with attributes for the title, director, and runtime. Use the `@property` decorator to define getters for the title and director."
   ]
  },
  {
   "cell_type": "code",
   "execution_count": null,
   "id": "68df8d5c-6284-4081-8991-9fa9ada5b10f",
   "metadata": {},
   "outputs": [],
   "source": []
  },
  {
   "cell_type": "markdown",
   "id": "2eac4df1-90ea-4191-b460-35a3f8408861",
   "metadata": {
    "tags": []
   },
   "source": [
    "#### Composition and aggregation:\n",
    "Description: Composition and aggregation are two ways of creating complex objects from simpler ones. Composition is when one object is made up of other objects (e.g., a car is composed of an engine, wheels, and other parts), while aggregation is when an object contains other objects as attributes (e.g., a school contains classrooms, teachers, and students). These concepts are important in OOP because they allow you to build complex systems by combining smaller, more manageable components."
   ]
  },
  {
   "cell_type": "markdown",
   "id": "3c7d91a1-b8ea-418d-a937-80cdfebeb16d",
   "metadata": {},
   "source": [
    "##### Composition example:\n",
    "\n",
    "In the context of a rocket, composition refers to the concept of building more complex objects by combining smaller objects together. For example, a rocket can be composed of various parts like engines, fuel tanks, and avionics. Each of these parts can be objects themselves with their own attributes and methods.\n",
    "\n",
    "Let's consider an example where we have a Rocket object composed of Engine and FuelTank "
   ]
  },
  {
   "cell_type": "code",
   "execution_count": 55,
   "id": "fdd1531d-662b-43ef-bb1c-be47b45e0bb3",
   "metadata": {},
   "outputs": [],
   "source": [
    "class Engine:\n",
    "    def __init__(self, fuel_type):\n",
    "        self.fuel_type = fuel_type\n",
    "        self.thrust = 0\n",
    "\n",
    "    def start(self):\n",
    "        self.thrust = 100\n",
    "\n",
    "    def stop(self):\n",
    "        self.thrust = 0\n",
    "\n",
    "\n",
    "class FuelTank:\n",
    "    def __init__(self, capacity):\n",
    "        self.capacity = capacity\n",
    "        self.fuel_level = 0\n",
    "\n",
    "    def fill(self, amount):\n",
    "        self.fuel_level = min(self.fuel_level + amount, self.capacity)\n",
    "\n",
    "    def drain(self, amount):\n",
    "        self.fuel_level = max(self.fuel_level - amount, 0)\n",
    "\n",
    "\n",
    "class Rocket:\n",
    "    def __init__(self):\n",
    "        self.engines = [Engine(\"liquid fuel\") for i in range(3)]\n",
    "        self.fuel_tank = FuelTank(1000)\n",
    "\n",
    "    def start_engines(self):\n",
    "        for engine in self.engines:\n",
    "            engine.start()\n",
    "\n",
    "    def stop_engines(self):\n",
    "        for engine in self.engines:\n",
    "            engine.stop()\n",
    "\n",
    "    def fill_fuel_tank(self, amount):\n",
    "        self.fuel_tank.fill(amount)\n",
    "\n",
    "    def drain_fuel_tank(self, amount):\n",
    "        self.fuel_tank.drain(amount)\n"
   ]
  },
  {
   "cell_type": "markdown",
   "id": "d6e34742-749e-4326-9c13-3e96b6be35ef",
   "metadata": {},
   "source": [
    "In this example, the Rocket object is composed of Engine and FuelTank objects. The Rocket object has methods to control the engines and the fuel tank by calling methods on the Engine and FuelTank objects respectively."
   ]
  },
  {
   "cell_type": "markdown",
   "id": "d1feb28f-46fc-433b-8329-ff8a793833df",
   "metadata": {},
   "source": [
    "##### Aggregation example:\n",
    "\n",
    "In the context of a rocket, aggregation refers to the concept of objects being composed of other objects, but without owning those objects. For example, a Rocket object can have a list of Engine objects, but those engines can also be used in other rockets.\n",
    "\n",
    "Let's consider an example where we have a Fleet object that aggregates Rocket objects:"
   ]
  },
  {
   "cell_type": "code",
   "execution_count": 56,
   "id": "5b2b34c0-3b9d-47ae-81e2-8c2e179836ef",
   "metadata": {},
   "outputs": [],
   "source": [
    "class Engine:\n",
    "    def __init__(self, fuel_type):\n",
    "        self.fuel_type = fuel_type\n",
    "        self.thrust = 0\n",
    "\n",
    "    def start(self):\n",
    "        self.thrust = 100\n",
    "\n",
    "    def stop(self):\n",
    "        self.thrust = 0\n",
    "\n",
    "\n",
    "class Rocket:\n",
    "    def __init__(self, engines):\n",
    "        self.engines = engines\n",
    "\n",
    "    def start_engines(self):\n",
    "        for engine in self.engines:\n",
    "            engine.start()\n",
    "\n",
    "    def stop_engines(self):\n",
    "        for engine in self.engines:\n",
    "            engine.stop()\n",
    "\n",
    "\n",
    "class Fleet:\n",
    "    def __init__(self):\n",
    "        self.rockets = []\n",
    "\n",
    "    def add_rocket(self, rocket):\n",
    "        self.rockets.append(rocket)\n",
    "\n",
    "    def remove_rocket(self, rocket):\n",
    "        self.rockets.remove(rocket)\n",
    "\n",
    "    def start_engines(self):\n",
    "        for rocket in self.rockets:\n",
    "            rocket.start_engines()\n",
    "\n",
    "    def stop_engines(self):\n",
    "        for rocket in self.rockets:\n",
    "            rocket.stop_engines()\n"
   ]
  },
  {
   "cell_type": "markdown",
   "id": "2b26ce10-ffa8-4625-84b1-7f6eccc0c474",
   "metadata": {},
   "source": [
    "In this example, the Fleet object aggregates Rocket objects. Each Rocket object is initialized with a list of Engine objects, but those Engine objects are not owned by the Rocket object. Instead, the same Engine objects can be used in other Rocket objects as well. The Fleet object has methods to start and stop the engines of all the Rockets in the fleet, but it does not own the Engines themselves.\n",
    "\n",
    "This is an example of aggregation because the Rocket object contains a reference to a list of Engine objects, but does not own or control those Engine objects. The Rocket object simply uses the Engine objects to perform its functions, such as starting and stopping the engines.\n",
    "\n",
    "Aggregation is useful for creating digital twins because it allows you to model complex systems with multiple components. By creating objects that reference other objects, you can create a network of interconnected objects that can be used to simulate the behavior of real-world systems."
   ]
  },
  {
   "cell_type": "markdown",
   "id": "1f2b7916-01ee-4cfe-8914-7e5384dc5b7e",
   "metadata": {},
   "source": [
    "Exercises for composition and aggregation:"
   ]
  },
  {
   "cell_type": "markdown",
   "id": "8ae96e51-0383-4f65-8f81-64df96960bf7",
   "metadata": {},
   "source": [
    "- Create a Car object using composition with Wheel objects as components."
   ]
  },
  {
   "cell_type": "code",
   "execution_count": 57,
   "id": "55db6c78-691d-4f80-999b-2757de1407c2",
   "metadata": {},
   "outputs": [],
   "source": [
    "class Wheels:\n",
    "    def __init__(self, size, material, pressure):\n",
    "        self.size = size\n",
    "        self.size = material\n",
    "        self.pressure = pressure\n",
    "        \n",
    "    def puncture(self, sharp_thingy):\n",
    "        self.sharp_thingy = sharp_thingy\n",
    "        self.pressure = 0\n",
    "        print(f\"A {sharp_thingy} has caused tire pressure to go to: {self.pressure}\")\n",
    "        \n",
    "class Carmobile:\n",
    "    def __init__(self, hp):\n",
    "        self.hp = hp\n",
    "        self.tires = [Wheels(\"240T\", \"rubber\", 32.0) for i in range(4)] #Could break this out to identify each tire individually\n",
    "        \n",
    "    def get_a_flat(self, sharp_object):\n",
    "        for tire in self.tires:\n",
    "            tire.puncture(sharp_object)\n",
    "        "
   ]
  },
  {
   "cell_type": "code",
   "execution_count": 58,
   "id": "2cf1d3aa-754b-498d-91c3-67f41ac787bb",
   "metadata": {},
   "outputs": [],
   "source": [
    "zoom_zoom = Carmobile(220)"
   ]
  },
  {
   "cell_type": "code",
   "execution_count": 59,
   "id": "f5f45c75-3e96-43c2-8a34-9ebc68b7d0d3",
   "metadata": {},
   "outputs": [
    {
     "name": "stdout",
     "output_type": "stream",
     "text": [
      "A nail has caused tire pressure to go to: 0\n",
      "A nail has caused tire pressure to go to: 0\n",
      "A nail has caused tire pressure to go to: 0\n",
      "A nail has caused tire pressure to go to: 0\n"
     ]
    }
   ],
   "source": [
    "zoom_zoom.get_a_flat(\"nail\")"
   ]
  },
  {
   "cell_type": "markdown",
   "id": "1516c2f3-a445-4a51-8258-1656ff073919",
   "metadata": {},
   "source": [
    "- Create a House object using composition with Room objects as components."
   ]
  },
  {
   "cell_type": "code",
   "execution_count": 60,
   "id": "d199dbbe-8f75-4c1e-87f2-7c505102f799",
   "metadata": {},
   "outputs": [],
   "source": [
    "class Kitchen:\n",
    "    def __init__(self, size):\n",
    "        self.size = size\n",
    "    \n",
    "class DinningRoom:\n",
    "    def __init__(self, size):\n",
    "        self.size = size\n",
    "        \n",
    "class Bedroom:\n",
    "    def __init__(self, size):\n",
    "        self.size = size\n",
    "        \n",
    "class Single_Family_Home:\n",
    "    def __init__(self):\n",
    "        self.kitchen = Kitchen(200)\n",
    "        self.dinning_rm = DinningRoom(250)\n",
    "        self.bdrm = Bedroom(150)\n",
    "        self.sqft = self.kitchen.size + self.dinning_rm.size + self.bdrm.size"
   ]
  },
  {
   "cell_type": "code",
   "execution_count": 61,
   "id": "6b6e422e-7869-41bd-bc73-119398a34792",
   "metadata": {},
   "outputs": [],
   "source": [
    "my_house = Single_Family_Home()"
   ]
  },
  {
   "cell_type": "code",
   "execution_count": 62,
   "id": "e364cb3a-aad4-4ae5-85ea-ca345e0cd599",
   "metadata": {},
   "outputs": [
    {
     "data": {
      "text/plain": [
       "600"
      ]
     },
     "execution_count": 62,
     "metadata": {},
     "output_type": "execute_result"
    }
   ],
   "source": [
    "my_house.sqft"
   ]
  },
  {
   "cell_type": "markdown",
   "id": "f01abeeb-c0fd-40d1-8a86-5caf0d04da94",
   "metadata": {},
   "source": [
    "- Create a Computer object using composition with CPU, Memory, and Storage objects as components."
   ]
  },
  {
   "cell_type": "code",
   "execution_count": 63,
   "id": "0e145476-7086-44e8-a2bd-ce3cfb94ca72",
   "metadata": {},
   "outputs": [],
   "source": [
    "class Memory:\n",
    "    def __init__(self, size, pwr_req, rw_speed, freq):\n",
    "        self.size = size\n",
    "        self.pwr_req = pwr_req\n",
    "        self.rw_speed = rw_speed\n",
    "        self.freq = freq\n",
    "        \n",
    "class Storage:\n",
    "    def __init__(self, size, pwr_req, rw_speed, connection_type):\n",
    "        self.size = size\n",
    "        self.pwr_req = pwr_req\n",
    "        self.rw_speed = rw_speed\n",
    "        self.connection_type = connection_type\n",
    "        \n",
    "class CPU:\n",
    "    def __init__(self, style, interface, speed, num_cores):\n",
    "        self.style = style\n",
    "        self.interface = interface\n",
    "        self.speed = speed\n",
    "        self.num_cores = num_cores\n",
    "        \n",
    "class Computer:\n",
    "    def __init__(self):\n",
    "        self.memory1 = Memory(32, 12.4, 250, 66.0)\n",
    "        self.memory2 = Memory(32, 12.4, 250, 66.0)\n",
    "        self.memory3 = Memory(32, 12.4, 250, 66.0)\n",
    "        self.memory4 = Memory(32, 12.4, 250, 66.0)\n",
    "        self.storage = Storage(500, 15, 250, \"USB\")\n",
    "        self.cpu = CPU(\"AMD\", \"Unknown\", \"Fast\", 18)\n",
    "        \n",
    "    def memory_size(self):\n",
    "        total_mem = self.memory1.size + self.memory2.size + self.memory3.size + self.memory4.size\n",
    "        print(f\"Total memory installed: {total_mem} GBs\")"
   ]
  },
  {
   "cell_type": "code",
   "execution_count": 64,
   "id": "16533dd9-8162-416c-b4f6-89c628a528c5",
   "metadata": {},
   "outputs": [
    {
     "data": {
      "text/plain": [
       "'AMD'"
      ]
     },
     "execution_count": 64,
     "metadata": {},
     "output_type": "execute_result"
    }
   ],
   "source": [
    "robot_brain = Computer()\n",
    "robot_brain.cpu.style"
   ]
  },
  {
   "cell_type": "code",
   "execution_count": 65,
   "id": "b396f1a7-2b00-49e6-9d64-34e4d2d94ec7",
   "metadata": {},
   "outputs": [
    {
     "name": "stdout",
     "output_type": "stream",
     "text": [
      "Total memory installed: 128 GBs\n"
     ]
    }
   ],
   "source": [
    "robot_brain.memory_size()"
   ]
  },
  {
   "cell_type": "code",
   "execution_count": null,
   "id": "1f3129c7-38e5-48fb-86a4-38f8928ac9d3",
   "metadata": {},
   "outputs": [],
   "source": []
  },
  {
   "cell_type": "markdown",
   "id": "2aa8d15f-f12b-48f8-8818-6d1dd09ff143",
   "metadata": {},
   "source": [
    "#### Design patterns and OOP best practices: \n",
    "\n",
    "Design patterns are solutions to common programming problems that have been tested and proven over time. They are reusable templates that help you solve common design problems in a consistent and efficient way. OOP best practices are guidelines that help you write code that is more maintainable, reusable, and extensible. Some examples of OOP best practices include encapsulation, inheritance, and polymorphism."
   ]
  },
  {
   "cell_type": "code",
   "execution_count": 102,
   "id": "92b1060e-4e2a-4cd5-bfb5-753a3be7df60",
   "metadata": {},
   "outputs": [],
   "source": [
    "class Lock:\n",
    "    def __init__(self, secret_combo):\n",
    "        self.__secret_combo = secret_combo\n",
    "\n",
    "    def unlock_lock(self, Skeleton_Key):\n",
    "        if self.__secret_combo == Skeleton_Key.check_combo():\n",
    "            print(\"Cha-chink. Lock is now unlocked.\")\n",
    "            \n",
    "class Skeleton_Key:\n",
    "    def __init__(self, secret_combo):\n",
    "        self.__secret_combo = secret_combo\n",
    "        \n",
    "    def check_combo(self):\n",
    "        return self.__secret_combo"
   ]
  },
  {
   "cell_type": "code",
   "execution_count": 103,
   "id": "71de658c-a0d9-48a3-9305-76ebb6eaa1d8",
   "metadata": {},
   "outputs": [],
   "source": [
    "strong_lock = Lock(8675309)"
   ]
  },
  {
   "cell_type": "code",
   "execution_count": 104,
   "id": "95a2eb65-2678-4c96-a196-174d802b7d84",
   "metadata": {},
   "outputs": [],
   "source": [
    "niffty_key = Skeleton_Key(8675309)"
   ]
  },
  {
   "cell_type": "code",
   "execution_count": 105,
   "id": "be83f7da-fbb9-44e5-8e7f-1cc165ec275b",
   "metadata": {},
   "outputs": [
    {
     "name": "stdout",
     "output_type": "stream",
     "text": [
      "Cha-chink. Lock is now unlocked.\n"
     ]
    }
   ],
   "source": [
    "strong_lock.unlock_lock(niffty_key)"
   ]
  },
  {
   "cell_type": "code",
   "execution_count": 101,
   "id": "dc12c4e6-9170-42f3-9fb6-c7b267229f5d",
   "metadata": {},
   "outputs": [
    {
     "data": {
      "text/plain": [
       "__main__.Skeleton_Key"
      ]
     },
     "execution_count": 101,
     "metadata": {},
     "output_type": "execute_result"
    }
   ],
   "source": [
    "type(niffty_key)"
   ]
  },
  {
   "cell_type": "code",
   "execution_count": 106,
   "id": "489a88ad-0760-4858-8675-02bc47580621",
   "metadata": {},
   "outputs": [
    {
     "name": "stdout",
     "output_type": "stream",
     "text": [
      "8675309\n"
     ]
    }
   ],
   "source": [
    "print(niffty_key.check_combo())"
   ]
  },
  {
   "cell_type": "code",
   "execution_count": null,
   "id": "7375b6a3-0e1e-46a5-b545-4a3fdb7241f5",
   "metadata": {},
   "outputs": [],
   "source": []
  }
 ],
 "metadata": {
  "kernelspec": {
   "display_name": "Python 3 (ipykernel)",
   "language": "python",
   "name": "python3"
  },
  "language_info": {
   "codemirror_mode": {
    "name": "ipython",
    "version": 3
   },
   "file_extension": ".py",
   "mimetype": "text/x-python",
   "name": "python",
   "nbconvert_exporter": "python",
   "pygments_lexer": "ipython3",
   "version": "3.10.9"
  }
 },
 "nbformat": 4,
 "nbformat_minor": 5
}
