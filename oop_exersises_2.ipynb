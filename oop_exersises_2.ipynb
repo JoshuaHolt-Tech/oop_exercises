{
 "cells": [
  {
   "cell_type": "markdown",
   "id": "8aac3875-6578-4eab-8c70-370f454feccc",
   "metadata": {},
   "source": [
    "### Encapsulation and information hiding:\n",
    "\n",
    "Encapsulation is the practice of hiding the internal workings of an object from the outside world, while information hiding is the principle of restricting access to certain parts of an object.\n",
    "\n",
    "Example:"
   ]
  },
  {
   "cell_type": "code",
   "execution_count": 1,
   "id": "7f381dc3-45d9-46ad-9271-0d2f493a9525",
   "metadata": {},
   "outputs": [],
   "source": [
    "class BankAccount:\n",
    "    def __init__(self, account_number, balance):\n",
    "        self.__account_number = account_number\n",
    "        self.__balance = balance\n",
    "\n",
    "    def deposit(self, amount):\n",
    "        self.__balance += amount\n",
    "\n",
    "    def withdraw(self, amount):\n",
    "        if amount > self.__balance:\n",
    "            raise ValueError(\"Insufficient balance\")\n",
    "        self.__balance -= amount\n",
    "\n",
    "    def get_balance(self):\n",
    "        return self.__balance\n"
   ]
  },
  {
   "cell_type": "markdown",
   "id": "9831e52e-c679-40f0-9e47-8609f423330a",
   "metadata": {},
   "source": [
    "#### Exercises:\n",
    "\n",
    "- Create a class that encapsulates a person's name and age information and provides methods to update and retrieve that information."
   ]
  },
  {
   "cell_type": "code",
   "execution_count": 2,
   "id": "49d40760-99b5-411c-9222-4dc2898e6f10",
   "metadata": {},
   "outputs": [],
   "source": [
    "class Human:\n",
    "    def __init__(self, name, age):\n",
    "        self.__name = name\n",
    "        self.__age = age\n",
    "    \n",
    "    def update_name(self, new_name):\n",
    "        self.__name = new_name\n",
    "        return f\"Human name updated to: {self.__name}\"\n",
    "        \n",
    "    def update_age(self, new_age):\n",
    "        self.__age = new_age\n",
    "        return f\"{self.__name} is {self.__age} years old.\""
   ]
  },
  {
   "cell_type": "code",
   "execution_count": 3,
   "id": "5c0e81eb-2c94-4688-a50c-c597417bce4b",
   "metadata": {},
   "outputs": [],
   "source": [
    "jimmy_john = Human(\"Jimmy John\", 22)"
   ]
  },
  {
   "cell_type": "code",
   "execution_count": 4,
   "id": "1e7001bd-1bb0-44d3-9d64-9bac37503674",
   "metadata": {},
   "outputs": [
    {
     "data": {
      "text/plain": [
       "'Jimmy John is 23 years old.'"
      ]
     },
     "execution_count": 4,
     "metadata": {},
     "output_type": "execute_result"
    }
   ],
   "source": [
    "jimmy_john.update_age(23)"
   ]
  },
  {
   "cell_type": "code",
   "execution_count": 5,
   "id": "41403869-c05a-4048-8fc2-42d9c582f69d",
   "metadata": {},
   "outputs": [
    {
     "data": {
      "text/plain": [
       "__main__.Human"
      ]
     },
     "execution_count": 5,
     "metadata": {},
     "output_type": "execute_result"
    }
   ],
   "source": [
    "type(jimmy_john)"
   ]
  },
  {
   "cell_type": "markdown",
   "id": "339517d7-5090-40cc-bac7-f77d5528f189",
   "metadata": {},
   "source": [
    "- Implement a class that represents a car and encapsulates its make, model, and year information."
   ]
  },
  {
   "cell_type": "code",
   "execution_count": 6,
   "id": "4781ea2d-35a3-461b-a20c-9fcacc88d58a",
   "metadata": {},
   "outputs": [],
   "source": [
    "class Car:\n",
    "    def __init__(self, make, model, year):\n",
    "        self.__make = make\n",
    "        self.__model = model\n",
    "        self.__year = year"
   ]
  },
  {
   "cell_type": "markdown",
   "id": "9590c6f5-5012-4769-8358-f3031c04ed93",
   "metadata": {},
   "source": [
    "- Create a class that represents a phone and hides its IMEI number from the outside world."
   ]
  },
  {
   "cell_type": "code",
   "execution_count": 7,
   "id": "f46932e5-6959-4f02-a4c0-6978b1fc9675",
   "metadata": {},
   "outputs": [],
   "source": [
    "class CellularPhone:\n",
    "    def __init__(self, owner, number, imei):\n",
    "        self.owner = owner\n",
    "        self._number = number\n",
    "        self.__imei = imei"
   ]
  },
  {
   "cell_type": "code",
   "execution_count": 8,
   "id": "4c06398b-d45b-444a-ba61-f012096d54cf",
   "metadata": {},
   "outputs": [],
   "source": [
    "darleens_phone = CellularPhone(\"Darleen\",\"8675309\", 8791138)"
   ]
  },
  {
   "cell_type": "code",
   "execution_count": 9,
   "id": "603dac5c-13fc-4ce0-835e-fe46c3c2f65a",
   "metadata": {},
   "outputs": [
    {
     "data": {
      "text/plain": [
       "'Darleen'"
      ]
     },
     "execution_count": 9,
     "metadata": {},
     "output_type": "execute_result"
    }
   ],
   "source": [
    "darleens_phone.owner"
   ]
  },
  {
   "cell_type": "code",
   "execution_count": 10,
   "id": "8fd84b97-5063-41d7-9a42-14d438578731",
   "metadata": {},
   "outputs": [
    {
     "data": {
      "text/plain": [
       "['_CellularPhone__imei',\n",
       " '__class__',\n",
       " '__delattr__',\n",
       " '__dict__',\n",
       " '__dir__',\n",
       " '__doc__',\n",
       " '__eq__',\n",
       " '__format__',\n",
       " '__ge__',\n",
       " '__getattribute__',\n",
       " '__gt__',\n",
       " '__hash__',\n",
       " '__init__',\n",
       " '__init_subclass__',\n",
       " '__le__',\n",
       " '__lt__',\n",
       " '__module__',\n",
       " '__ne__',\n",
       " '__new__',\n",
       " '__reduce__',\n",
       " '__reduce_ex__',\n",
       " '__repr__',\n",
       " '__setattr__',\n",
       " '__sizeof__',\n",
       " '__str__',\n",
       " '__subclasshook__',\n",
       " '__weakref__',\n",
       " '_number',\n",
       " 'owner']"
      ]
     },
     "execution_count": 10,
     "metadata": {},
     "output_type": "execute_result"
    }
   ],
   "source": [
    "dir(darleens_phone) #Shows that a private object exists."
   ]
  },
  {
   "cell_type": "markdown",
   "id": "7c182c50-5da8-4fac-878d-0101876c2d3f",
   "metadata": {},
   "source": [
    "### Access modifiers: public, protected, and private:\n",
    "\n",
    "Access modifiers determine the level of visibility of an object's attributes and methods.\n",
    "\n",
    "Eaxample:"
   ]
  },
  {
   "cell_type": "code",
   "execution_count": 11,
   "id": "832a16e1-588c-4340-b49d-da51ac3a26c3",
   "metadata": {},
   "outputs": [],
   "source": [
    "class Animal:\n",
    "    def __init__(self, name, age):\n",
    "        self.name = name\n",
    "        self._age = age\n",
    "        self.__weight = 0\n",
    "\n",
    "    def eat(self, food):\n",
    "        self.__weight += food.weight\n",
    "\n",
    "class Cat(Animal):\n",
    "    def play(self, toy):\n",
    "        print(f\"{self.name} is playing with {toy}\")\n"
   ]
  },
  {
   "cell_type": "markdown",
   "id": "f7126f44-8f20-4558-ac2a-18e6944bf8e5",
   "metadata": {},
   "source": [
    "In this example, the Animal class has a public attribute 'name', a protected attribute '_age', and a private attribute '__weight'. \n",
    "\n",
    "The Cat class inherits from the Animal class and can access the protected and public attributes."
   ]
  },
  {
   "cell_type": "markdown",
   "id": "1ede2e46-08c2-4675-8f88-8be9637193ce",
   "metadata": {
    "tags": []
   },
   "source": [
    "#### Exercises:\n",
    "\n",
    "- Create a class that has a private attribute and a public method to retrieve that attribute."
   ]
  },
  {
   "cell_type": "code",
   "execution_count": 12,
   "id": "e707fdbc-b29e-42f9-b89a-44154fb47db0",
   "metadata": {},
   "outputs": [],
   "source": [
    "class Dog:\n",
    "    def __init__(self, name, age, weight):\n",
    "        self.name = name\n",
    "        self.age = age\n",
    "        self.__weight = weight\n",
    "        \n",
    "    def eat(self, food):\n",
    "        self.__weight += food.weight\n",
    "        \n",
    "    def drool(self, food):\n",
    "        print(f\"{self.name} is drooling.\")"
   ]
  },
  {
   "cell_type": "code",
   "execution_count": 13,
   "id": "7f51a812-c61d-4457-90da-3aa8cbb1acf6",
   "metadata": {},
   "outputs": [],
   "source": [
    "bruno = Dog(\"Bruno da Dog\", 3, 155)"
   ]
  },
  {
   "cell_type": "code",
   "execution_count": 14,
   "id": "ce42fc1d-b956-43e4-8864-c4871d03c1dd",
   "metadata": {},
   "outputs": [
    {
     "name": "stdout",
     "output_type": "stream",
     "text": [
      "Bruno da Dog is drooling.\n"
     ]
    }
   ],
   "source": [
    "bruno.drool(\"Pizza\")"
   ]
  },
  {
   "cell_type": "markdown",
   "id": "949472c9-0b23-4acc-b691-e811707f805b",
   "metadata": {},
   "source": [
    "- Implement a class hierarchy that uses access modifiers to control access to attributes and methods."
   ]
  },
  {
   "cell_type": "code",
   "execution_count": 15,
   "id": "5fea80ac-eb9d-47cc-b658-e3c592ab76cc",
   "metadata": {},
   "outputs": [],
   "source": [
    "class Coffee:\n",
    "    def __(self, roast, grind, bean, secrets):\n",
    "        self.roast = roast\n",
    "        self._grind = grind\n",
    "        self.__bean = bean\n",
    "        self.__secrets = secrets\n",
    "        \n",
    "    def add_secrets(self, more_secrets):\n",
    "        self.__secrets += more_secrets\n",
    "        \n",
    "    def change_grind(self, new_grind):\n",
    "        self._grind = new_grind"
   ]
  },
  {
   "cell_type": "markdown",
   "id": "194511e4-e4d9-4069-ab4d-7594e6ef4ddf",
   "metadata": {},
   "source": [
    "- Create a class that has a protected attribute and a public method to update that attribute"
   ]
  },
  {
   "cell_type": "code",
   "execution_count": 16,
   "id": "56ec1f6c-3a83-4447-933b-ba4206ca584f",
   "metadata": {},
   "outputs": [],
   "source": [
    "class Coffee:\n",
    "    def __(self, roast, grind, bean, secrets):\n",
    "        self.roast = roast\n",
    "        self._grind = grind\n",
    "        self.__bean = bean\n",
    "        self.__secrets = secrets\n",
    "        \n",
    "    def add_secrets(self, more_secrets):\n",
    "        self.__secrets += more_secrets\n",
    "        \n",
    "    def __change_grind(self, new_grind):\n",
    "        self._grind = new_grind"
   ]
  },
  {
   "cell_type": "code",
   "execution_count": null,
   "id": "5a3e51a8-37b5-4295-b714-5f9bd29d0b47",
   "metadata": {},
   "outputs": [],
   "source": []
  },
  {
   "cell_type": "markdown",
   "id": "ab4afe04-1450-430a-a501-31710d05c2ac",
   "metadata": {},
   "source": [
    "### Using getters and setters to access attributes:\n",
    "\n",
    "Getters and setters are public methods that retrieve or update the values of private attributes.\n",
    "\n",
    "Example:"
   ]
  },
  {
   "cell_type": "code",
   "execution_count": 17,
   "id": "0df26009-bcb4-4d20-bde3-b0a78f1a34e0",
   "metadata": {},
   "outputs": [],
   "source": [
    "class Person:\n",
    "    def __init__(self, name, age):\n",
    "        self.__name = name\n",
    "        self.__age = age\n",
    "\n",
    "    def get_name(self):\n",
    "        return self.__name\n",
    "\n",
    "    def set_name(self, name):\n",
    "        self.__name = name\n",
    "\n",
    "    def get_age(self):\n",
    "        return self.__age\n",
    "\n",
    "    def set_age(self, age):\n",
    "        self.__age = age\n"
   ]
  },
  {
   "cell_type": "markdown",
   "id": "33ca9f0b-33a3-4ec0-b03f-3e2ce1309692",
   "metadata": {},
   "source": [
    "In this example, the Person class encapsulates name and age information using private attributes, and provides getter and setter methods to access and update them."
   ]
  },
  {
   "cell_type": "markdown",
   "id": "3c944c25-30b4-4b0a-bfa7-7639b2a98e97",
   "metadata": {},
   "source": [
    "#### Exercises:\n",
    "\n",
    "- Create a class that encapsulates a person's address information using private attributes and getter/setter methods."
   ]
  },
  {
   "cell_type": "code",
   "execution_count": null,
   "id": "6abe8745-857f-45d4-a968-cbadabfd6426",
   "metadata": {},
   "outputs": [],
   "source": []
  },
  {
   "cell_type": "markdown",
   "id": "e4df90cf-6483-40b4-8137-c6367cf8677f",
   "metadata": {},
   "source": [
    "- Implement a class that represents a product and encapsulates its price information using a private attribute and getter/setter methods."
   ]
  },
  {
   "cell_type": "code",
   "execution_count": null,
   "id": "a5ab4097-f525-4cf7-9788-bacfe72798f6",
   "metadata": {},
   "outputs": [],
   "source": []
  },
  {
   "cell_type": "markdown",
   "id": "7dd2bb60-0ac1-4a00-b314-85ff5215a475",
   "metadata": {},
   "source": [
    "- Create a class that represents a student and encapsulates their grade information using private attributes and getter/setter methods."
   ]
  },
  {
   "cell_type": "code",
   "execution_count": null,
   "id": "b2af3fcb-b783-4b56-af7c-ba362b0711ce",
   "metadata": {},
   "outputs": [],
   "source": []
  },
  {
   "cell_type": "markdown",
   "id": "fc3e067d-9000-4157-a4d6-42ec3a41a7a5",
   "metadata": {},
   "source": [
    "### Abstraction and abstract classes:\n",
    "\n",
    "Abstraction is the process of simplifying complex systems by modeling them at a higher level of abstraction. Abstract classes define a set of methods that must be implemented by any concrete subclass.\n",
    "\n",
    "Example:"
   ]
  },
  {
   "cell_type": "code",
   "execution_count": 18,
   "id": "ca4a68a4-aae6-4662-81fd-84f9f7171ad0",
   "metadata": {},
   "outputs": [
    {
     "ename": "TypeError",
     "evalue": "Can't instantiate abstract class Cow with abstract method speak",
     "output_type": "error",
     "traceback": [
      "\u001b[0;31m---------------------------------------------------------------------------\u001b[0m",
      "\u001b[0;31mTypeError\u001b[0m                                 Traceback (most recent call last)",
      "\u001b[0;32m/var/folders/sg/9h_lqlfd6bgb63_prv2nr4mm0000gn/T/ipykernel_4634/669328408.py\u001b[0m in \u001b[0;36m<module>\u001b[0;34m\u001b[0m\n\u001b[1;32m     22\u001b[0m \u001b[0mcat\u001b[0m \u001b[0;34m=\u001b[0m \u001b[0mCat\u001b[0m\u001b[0;34m(\u001b[0m\u001b[0;34m)\u001b[0m\u001b[0;34m\u001b[0m\u001b[0;34m\u001b[0m\u001b[0m\n\u001b[1;32m     23\u001b[0m \u001b[0mdog\u001b[0m \u001b[0;34m=\u001b[0m \u001b[0mDog\u001b[0m\u001b[0;34m(\u001b[0m\u001b[0;34m)\u001b[0m\u001b[0;34m\u001b[0m\u001b[0;34m\u001b[0m\u001b[0m\n\u001b[0;32m---> 24\u001b[0;31m \u001b[0mcow\u001b[0m \u001b[0;34m=\u001b[0m \u001b[0mCow\u001b[0m\u001b[0;34m(\u001b[0m\u001b[0;34m)\u001b[0m\u001b[0;34m\u001b[0m\u001b[0;34m\u001b[0m\u001b[0m\n\u001b[0m\u001b[1;32m     25\u001b[0m \u001b[0;34m\u001b[0m\u001b[0m\n\u001b[1;32m     26\u001b[0m \u001b[0mmake_animal_speak\u001b[0m\u001b[0;34m(\u001b[0m\u001b[0mcat\u001b[0m\u001b[0;34m)\u001b[0m  \u001b[0;31m# Output: Meow\u001b[0m\u001b[0;34m\u001b[0m\u001b[0;34m\u001b[0m\u001b[0m\n",
      "\u001b[0;31mTypeError\u001b[0m: Can't instantiate abstract class Cow with abstract method speak"
     ]
    }
   ],
   "source": [
    "from abc import ABC, abstractmethod\n",
    "\n",
    "class Animal(ABC):\n",
    "    @abstractmethod\n",
    "    def speak(self):\n",
    "        pass\n",
    "\n",
    "class Cat(Animal):\n",
    "    def speak(self):\n",
    "        print(\"Meow\")\n",
    "\n",
    "class Dog(Animal):\n",
    "    def speak(self):\n",
    "        print(\"Woof\")\n",
    "\n",
    "class Cow(Animal):\n",
    "    pass\n",
    "\n",
    "def make_animal_speak(animal):\n",
    "    animal.speak()\n",
    "\n",
    "cat = Cat()\n",
    "dog = Dog()\n",
    "cow = Cow()\n",
    "\n",
    "make_animal_speak(cat)  # Output: Meow\n",
    "make_animal_speak(dog)  # Output: Woof\n",
    "make_animal_speak(cow)  # TypeError: Can't instantiate abstract class Cow with abstract methods speak"
   ]
  },
  {
   "cell_type": "markdown",
   "id": "04d6c777-db09-4aad-a5dd-5d3b6c0b8335",
   "metadata": {},
   "source": [
    "In this example, the Animal class is an abstract class that defines a single abstract method 'speak'. The Cat and Dog classes are concrete subclasses of the Animal class that implement the 'speak' method. The Cow class is also a subclass of Animal but does not implement the 'speak' method and thus cannot be instantiated. The make_animal_speak function takes an Animal object and calls its 'speak' method, regardless of the specific subclass."
   ]
  },
  {
   "cell_type": "markdown",
   "id": "d5de4f00-90ad-4cb5-a547-1d6ce8409a3b",
   "metadata": {},
   "source": [
    "#### Exercises:\n",
    "\n",
    "- Create an abstract class that defines a set of methods that must be implemented by any concrete subclass."
   ]
  },
  {
   "cell_type": "code",
   "execution_count": null,
   "id": "e6b1ce0a-94c5-49f5-bb5b-738ab87f230d",
   "metadata": {},
   "outputs": [],
   "source": []
  },
  {
   "cell_type": "markdown",
   "id": "720c583f-acf4-4c5f-81ac-0c3865a075c9",
   "metadata": {},
   "source": [
    "- Implement a concrete subclass of an abstract class and override its abstract methods."
   ]
  },
  {
   "cell_type": "code",
   "execution_count": null,
   "id": "2cdfa9c8-2fd0-40a5-b3ca-f48216a54930",
   "metadata": {},
   "outputs": [],
   "source": []
  },
  {
   "cell_type": "markdown",
   "id": "1f504aff-c120-40c9-b35d-c7a72bf56d6c",
   "metadata": {},
   "source": [
    "- Write a function that takes an object of an abstract class and calls its abstract methods."
   ]
  },
  {
   "cell_type": "code",
   "execution_count": null,
   "id": "24f8859a-4366-4e8a-9a35-d82ea2675ab3",
   "metadata": {},
   "outputs": [],
   "source": []
  },
  {
   "cell_type": "markdown",
   "id": "732eb476-94e3-41e3-8a78-d2be92ad90c5",
   "metadata": {},
   "source": [
    "### Class Methods and Static Methods:"
   ]
  },
  {
   "cell_type": "markdown",
   "id": "e96b4f08-5a63-421d-a9a1-3cc20af886f2",
   "metadata": {},
   "source": [
    "Class methods and static methods are special types of methods in Python that allow you to define behavior that is associated with a class rather than an instance of that class."
   ]
  },
  {
   "cell_type": "markdown",
   "id": "13699671-d429-4262-affd-3c9c6a18d022",
   "metadata": {},
   "source": [
    "A class method is a method that is bound to the class and not the instance of the class. You can use the @classmethod decorator to define a class method."
   ]
  },
  {
   "cell_type": "markdown",
   "id": "7857d8ea-ebac-4e1f-8768-a8a142a04da8",
   "metadata": {},
   "source": [
    "A static method is a method that does not depend on the state of the object or the class. You can use the @staticmethod decorator to define a static method."
   ]
  },
  {
   "cell_type": "code",
   "execution_count": 19,
   "id": "6fe26e61-8b95-4348-947d-cffa3a8708c9",
   "metadata": {},
   "outputs": [
    {
     "name": "stdout",
     "output_type": "stream",
     "text": [
      "Meow\n",
      "Woof\n"
     ]
    }
   ],
   "source": [
    "class MyClass:\n",
    "    class_variable = \"Hello\"\n",
    "    \n",
    "    @classmethod\n",
    "    def class_method(cls):\n",
    "        print(cls.class_variable)\n",
    "        \n",
    "    @staticmethod\n",
    "    def static_method():\n",
    "        print(\"This is a static method\")\n",
    "\n"
   ]
  },
  {
   "cell_type": "markdown",
   "id": "c7c9da67-d25c-4634-85b5-363058c832b0",
   "metadata": {},
   "source": []
  },
  {
   "cell_type": "markdown",
   "id": "ddbeaa79-2ea0-4693-aad3-2695bebef1fa",
   "metadata": {},
   "source": [
    "#### Exercises:\n",
    "\n",
    "- Create a class method that returns the number of instances of a class.\n",
    "\n",
    "- Create a static method that generates a random number.\n",
    "\n",
    "- Create a class method that returns the name of the class.\n",
    "\n",
    "- Create a static method that checks if a given string is a palindrome.\n",
    "\n",
    "- Create a class method that takes a string as input and returns the string in reverse order.\n",
    "\n",
    "- Create a static method that converts a given temperature in Celsius to Fahrenheit.\n",
    "\n",
    "- Create a class method that takes a list of integers and returns the sum of all the integers.\n",
    "\n",
    "- Create a static method that checks if a given number is prime.\n",
    "\n",
    "- Create a class method that takes a list of strings and returns the concatenation of all the strings.\n",
    "\n",
    "- Create a static method that calculates the area of a circle given the radius."
   ]
  },
  {
   "cell_type": "markdown",
   "id": "09fb477e-6c6f-4489-9e47-80def88bf8f3",
   "metadata": {},
   "source": [
    "### Operator Overloading and Special Methods:\n",
    "\n",
    "In Python, you can define special methods that allow you to define the behavior of operators and built-in functions for your own classes."
   ]
  },
  {
   "cell_type": "code",
   "execution_count": null,
   "id": "fd855dc3-141e-47dc-9824-48bc5232e514",
   "metadata": {},
   "outputs": [],
   "source": []
  },
  {
   "cell_type": "code",
   "execution_count": null,
   "id": "c1ca62d3-f1b3-4c6e-b7cc-b2393afa1ac9",
   "metadata": {},
   "outputs": [],
   "source": [
    "class MyClass:\n",
    "    def __init__(self, value):\n",
    "        self.value = value\n",
    "        \n",
    "    def __add__(self, other):\n",
    "        return MyClass(self.value + other.value)\n",
    "        \n",
    "    def __str__(self):\n",
    "        return f\"MyClass object with value {self.value}\"\n",
    "        \n",
    "obj1 = MyClass(5)\n",
    "obj2 = MyClass(10)\n",
    "result = obj1 + obj2\n",
    "print(result)  # Output: MyClass object with value 15\n"
   ]
  },
  {
   "cell_type": "markdown",
   "id": "74702355-8edb-4882-bfbb-4563cc9ae773",
   "metadata": {},
   "source": [
    "Exercises:\n",
    "\n",
    "- Implement the __eq__ method for a class that checks if two objects are equal.\n",
    "- Implement the __lt__ method for a class that checks if one object is less than another object.\n",
    "- Implement the __len__ method for a class that returns the length of an object.\n",
    "- Implement the __getitem__ method for a class that allows you to access elements of an object using index notation.\n",
    "- Implement the __setitem__ method for a class that allows you to set the value of an element in an object using index notation.\n",
    "- Implement the __delitem__ method for a class that allows you to delete an element from an object using index notation.\n",
    "- Implement the __contains__ method for a class that checks if a value is in an object.\n",
    "- Implement the __repr__ method for a class that returns a string representation of an object.\n",
    "- Implement the __str__ method for a class that returns a human-readable string representation of an object.\n",
    "- Implement the __call__ method for a class that allows you to call an object"
   ]
  },
  {
   "cell_type": "markdown",
   "id": "5ff484bd-e033-4c65-9d9c-97d5f9cd8d6a",
   "metadata": {},
   "source": [
    "Here is a brief overview of each topic:\n",
    "\n",
    "Operator overloading and special methods: In Python, you can redefine the behavior of built-in operators or create new operators for your classes by using special methods. These special methods have double underscores before and after their names (e.g., __add__ for addition). By defining these special methods, you can customize how your objects behave when used with operators.\n",
    "\n",
    "Property decorators: In Python, properties are a way to encapsulate attributes and provide access to them using getters and setters. The @property decorator is used to define a getter for an attribute, while the @<attribute>.setter decorator is used to define a setter. This allows you to control access to attributes and perform additional checks or operations when getting or setting a value.\n",
    "\n",
    "Composition and aggregation: Composition and aggregation are two ways of creating complex objects from simpler ones. Composition is when one object is made up of other objects (e.g., a car is composed of an engine, wheels, and other parts), while aggregation is when an object contains other objects as attributes (e.g., a school contains classrooms, teachers, and students). These concepts are important in OOP because they allow you to build complex systems by combining smaller, more manageable components.\n",
    "\n",
    "Design patterns and OOP best practices: Design patterns are solutions to common programming problems that have been tested and proven over time. They are reusable templates that help you solve common design problems in a consistent and efficient way. OOP best practices are guidelines that help you write code that is more maintainable, reusable, and extensible. Some examples of OOP best practices include encapsulation, inheritance, and polymorphism.\n",
    "\n",
    "Here are some examples of exercises you could use to practice these concepts:\n",
    "\n",
    "Operator overloading and special methods:\n",
    "\n",
    "Create a class representing a complex number, and define the __add__ method to add two complex numbers together.\n",
    "Create a class representing a matrix, and define the __mul__ method to multiply two matrices together.\n",
    "Create a class representing a date, and define the __lt__ method to compare two dates.\n",
    "Create a class representing a vector, and define the __sub__ method to subtract one vector from another.\n",
    "Create a class representing a fraction, and define the __div__ method to divide one fraction by another.\n",
    "Property decorators:\n",
    "\n",
    "Create a class representing a person, with attributes for their name, age, and height. Use the @property decorator to define a getter for their age, and a @<attribute>.setter decorator to define a setter for their height.\n",
    "Create a class representing a bank account, with attributes for the account balance and interest rate. Use the @property decorator to define a getter for the balance, and a @<attribute>.setter decorator to define a setter for the interest rate.\n",
    "Create a class representing a car, with attributes for the make, model, and year. Use the @property decorator to define getters for the make, model, and year.\n",
    "Create a class representing a book, with attributes for the title, author, and number of pages. Use the @property decorator to define getters for the title and author.\n",
    "Create a class representing a movie, with attributes for the title, director, and runtime. Use the @property decorator to define getters for the title and director.\n",
    "Composition and aggregation:\n",
    "\n",
    "Create a class representing a car, with attributes for the engine, wheels, and other parts."
   ]
  }
 ],
 "metadata": {
  "kernelspec": {
   "display_name": "Python 3 (ipykernel)",
   "language": "python",
   "name": "python3"
  },
  "language_info": {
   "codemirror_mode": {
    "name": "ipython",
    "version": 3
   },
   "file_extension": ".py",
   "mimetype": "text/x-python",
   "name": "python",
   "nbconvert_exporter": "python",
   "pygments_lexer": "ipython3",
   "version": "3.9.15"
  }
 },
 "nbformat": 4,
 "nbformat_minor": 5
}
