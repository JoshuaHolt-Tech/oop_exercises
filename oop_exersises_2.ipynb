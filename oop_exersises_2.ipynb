{
 "cells": [
  {
   "cell_type": "markdown",
   "id": "8aac3875-6578-4eab-8c70-370f454feccc",
   "metadata": {},
   "source": [
    "### Encapsulation and information hiding:\n",
    "\n",
    "Encapsulation is the practice of hiding the internal workings of an object from the outside world, while information hiding is the principle of restricting access to certain parts of an object.\n",
    "\n",
    "Example:"
   ]
  },
  {
   "cell_type": "code",
   "execution_count": 1,
   "id": "7f381dc3-45d9-46ad-9271-0d2f493a9525",
   "metadata": {},
   "outputs": [],
   "source": [
    "class BankAccount:\n",
    "    def __init__(self, account_number, balance):\n",
    "        self.__account_number = account_number\n",
    "        self.__balance = balance\n",
    "\n",
    "    def deposit(self, amount):\n",
    "        self.__balance += amount\n",
    "\n",
    "    def withdraw(self, amount):\n",
    "        if amount > self.__balance:\n",
    "            raise ValueError(\"Insufficient balance\")\n",
    "        self.__balance -= amount\n",
    "\n",
    "    def get_balance(self):\n",
    "        return self.__balance\n"
   ]
  },
  {
   "cell_type": "markdown",
   "id": "9831e52e-c679-40f0-9e47-8609f423330a",
   "metadata": {},
   "source": [
    "#### Exercises:\n",
    "\n",
    "- Create a class that encapsulates a person's name and age information and provides methods to update and retrieve that information."
   ]
  },
  {
   "cell_type": "code",
   "execution_count": 15,
   "id": "49d40760-99b5-411c-9222-4dc2898e6f10",
   "metadata": {},
   "outputs": [],
   "source": [
    "class Human:\n",
    "    def __init__(self, name, age):\n",
    "        self.__name = name\n",
    "        self.__age = age\n",
    "    \n",
    "    def update_name(self, new_name):\n",
    "        self.__name = new_name\n",
    "        return f\"Human name updated to: {self.__name}\"\n",
    "        \n",
    "    def update__age(self, new_age):\n",
    "        self.__age = new_age\n",
    "        return f\"{self.__name} is {self.__age} years old.\""
   ]
  },
  {
   "cell_type": "code",
   "execution_count": 7,
   "id": "5c0e81eb-2c94-4688-a50c-c597417bce4b",
   "metadata": {},
   "outputs": [],
   "source": [
    "jimmy_john = Human(\"Jimmy John\", 22)"
   ]
  },
  {
   "cell_type": "code",
   "execution_count": 8,
   "id": "1e7001bd-1bb0-44d3-9d64-9bac37503674",
   "metadata": {},
   "outputs": [
    {
     "data": {
      "text/plain": [
       "'Jimmy John is 23 years old.'"
      ]
     },
     "execution_count": 8,
     "metadata": {},
     "output_type": "execute_result"
    }
   ],
   "source": [
    "jimmy_john.update_age(23)"
   ]
  },
  {
   "cell_type": "code",
   "execution_count": 23,
   "id": "41403869-c05a-4048-8fc2-42d9c582f69d",
   "metadata": {},
   "outputs": [
    {
     "data": {
      "text/plain": [
       "__main__.Human"
      ]
     },
     "execution_count": 23,
     "metadata": {},
     "output_type": "execute_result"
    }
   ],
   "source": [
    "type(jimmy_john)"
   ]
  },
  {
   "cell_type": "markdown",
   "id": "339517d7-5090-40cc-bac7-f77d5528f189",
   "metadata": {},
   "source": [
    "- Implement a class that represents a car and encapsulates its make, model, and year information."
   ]
  },
  {
   "cell_type": "code",
   "execution_count": 24,
   "id": "4781ea2d-35a3-461b-a20c-9fcacc88d58a",
   "metadata": {},
   "outputs": [],
   "source": [
    "class Car:\n",
    "    def __init__(self, make, model, year):\n",
    "        self.__make = make\n",
    "        self.__model = model\n",
    "        self.__year = year"
   ]
  },
  {
   "cell_type": "markdown",
   "id": "9590c6f5-5012-4769-8358-f3031c04ed93",
   "metadata": {},
   "source": [
    "- Create a class that represents a phone and hides its IMEI number from the outside world."
   ]
  },
  {
   "cell_type": "code",
   "execution_count": 26,
   "id": "f46932e5-6959-4f02-a4c0-6978b1fc9675",
   "metadata": {},
   "outputs": [],
   "source": [
    "class CellularPhone:\n",
    "    def __init__(self, owner, number, imei):\n",
    "        self.owner = owner\n",
    "        self._number = number\n",
    "        self.__imei = imei"
   ]
  },
  {
   "cell_type": "code",
   "execution_count": 27,
   "id": "4c06398b-d45b-444a-ba61-f012096d54cf",
   "metadata": {},
   "outputs": [],
   "source": [
    "darleens_phone = CellularPhone(\"Darleen\",\"8675309\", 8791138)"
   ]
  },
  {
   "cell_type": "code",
   "execution_count": 28,
   "id": "603dac5c-13fc-4ce0-835e-fe46c3c2f65a",
   "metadata": {},
   "outputs": [
    {
     "data": {
      "text/plain": [
       "'Darleen'"
      ]
     },
     "execution_count": 28,
     "metadata": {},
     "output_type": "execute_result"
    }
   ],
   "source": [
    "darleens_phone.owner"
   ]
  },
  {
   "cell_type": "code",
   "execution_count": 30,
   "id": "8fd84b97-5063-41d7-9a42-14d438578731",
   "metadata": {},
   "outputs": [
    {
     "data": {
      "text/plain": [
       "['_CellularPhone__imei',\n",
       " '__class__',\n",
       " '__delattr__',\n",
       " '__dict__',\n",
       " '__dir__',\n",
       " '__doc__',\n",
       " '__eq__',\n",
       " '__format__',\n",
       " '__ge__',\n",
       " '__getattribute__',\n",
       " '__gt__',\n",
       " '__hash__',\n",
       " '__init__',\n",
       " '__init_subclass__',\n",
       " '__le__',\n",
       " '__lt__',\n",
       " '__module__',\n",
       " '__ne__',\n",
       " '__new__',\n",
       " '__reduce__',\n",
       " '__reduce_ex__',\n",
       " '__repr__',\n",
       " '__setattr__',\n",
       " '__sizeof__',\n",
       " '__str__',\n",
       " '__subclasshook__',\n",
       " '__weakref__',\n",
       " '_number',\n",
       " 'owner']"
      ]
     },
     "execution_count": 30,
     "metadata": {},
     "output_type": "execute_result"
    }
   ],
   "source": [
    "dir(darleens_phone) #Shows that a private object exists."
   ]
  },
  {
   "cell_type": "markdown",
   "id": "7c182c50-5da8-4fac-878d-0101876c2d3f",
   "metadata": {},
   "source": [
    "### Access modifiers: public, protected, and private:\n",
    "\n",
    "Access modifiers determine the level of visibility of an object's attributes and methods.\n",
    "\n",
    "Eaxample:"
   ]
  },
  {
   "cell_type": "code",
   "execution_count": 3,
   "id": "832a16e1-588c-4340-b49d-da51ac3a26c3",
   "metadata": {},
   "outputs": [],
   "source": [
    "class Animal:\n",
    "    def __init__(self, name, age):\n",
    "        self.name = name\n",
    "        self._age = age\n",
    "        self.__weight = 0\n",
    "\n",
    "    def eat(self, food):\n",
    "        self.__weight += food.weight\n",
    "\n",
    "class Cat(Animal):\n",
    "    def play(self, toy):\n",
    "        print(f\"{self.name} is playing with {toy}\")\n"
   ]
  },
  {
   "cell_type": "markdown",
   "id": "f7126f44-8f20-4558-ac2a-18e6944bf8e5",
   "metadata": {},
   "source": [
    "In this example, the Animal class has a public attribute 'name', a protected attribute '_age', and a private attribute '__weight'. \n",
    "\n",
    "The Cat class inherits from the Animal class and can access the protected and public attributes."
   ]
  },
  {
   "cell_type": "markdown",
   "id": "1ede2e46-08c2-4675-8f88-8be9637193ce",
   "metadata": {
    "tags": []
   },
   "source": [
    "#### Exercises:\n",
    "\n",
    "- Create a class that has a private attribute and a public method to retrieve that attribute."
   ]
  },
  {
   "cell_type": "code",
   "execution_count": 31,
   "id": "e707fdbc-b29e-42f9-b89a-44154fb47db0",
   "metadata": {},
   "outputs": [],
   "source": [
    "class Dog:\n",
    "    def __init__(self, name, age, weight):\n",
    "        self.name = name\n",
    "        self.age = age\n",
    "        self.__weight = weight\n",
    "        \n",
    "    def eat(self, food):\n",
    "        self.__weight += food.weight\n",
    "        \n",
    "    def drool(self, food):\n",
    "        print(f\"{self.name} is drooling.\")"
   ]
  },
  {
   "cell_type": "code",
   "execution_count": 32,
   "id": "7f51a812-c61d-4457-90da-3aa8cbb1acf6",
   "metadata": {},
   "outputs": [],
   "source": [
    "bruno = Dog(\"Bruno da Dog\", 3, 155)"
   ]
  },
  {
   "cell_type": "code",
   "execution_count": 35,
   "id": "ce42fc1d-b956-43e4-8864-c4871d03c1dd",
   "metadata": {},
   "outputs": [
    {
     "name": "stdout",
     "output_type": "stream",
     "text": [
      "Bruno da Dog is drooling.\n"
     ]
    }
   ],
   "source": [
    "bruno.drool(\"Pizza\")"
   ]
  },
  {
   "cell_type": "markdown",
   "id": "949472c9-0b23-4acc-b691-e811707f805b",
   "metadata": {},
   "source": [
    "- Implement a class hierarchy that uses access modifiers to control access to attributes and methods."
   ]
  },
  {
   "cell_type": "code",
   "execution_count": 1,
   "id": "5fea80ac-eb9d-47cc-b658-e3c592ab76cc",
   "metadata": {},
   "outputs": [],
   "source": [
    "class Coffee:\n",
    "    def __(self, roast, grind, bean, secrets):\n",
    "        self.roast = roast\n",
    "        self._grind = grind\n",
    "        self.__bean = bean\n",
    "        self.__secrets = secrets\n",
    "        \n",
    "    def add_secrets(self, more_secrets):\n",
    "        self.__secrets += more_secrets\n",
    "        \n",
    "    def change_grind(self, new_grind):\n",
    "        self._grind = new_grind"
   ]
  },
  {
   "cell_type": "markdown",
   "id": "194511e4-e4d9-4069-ab4d-7594e6ef4ddf",
   "metadata": {},
   "source": [
    "- Create a class that has a protected attribute and a public method to update that attribute"
   ]
  },
  {
   "cell_type": "code",
   "execution_count": null,
   "id": "5a3e51a8-37b5-4295-b714-5f9bd29d0b47",
   "metadata": {},
   "outputs": [],
   "source": []
  },
  {
   "cell_type": "markdown",
   "id": "ab4afe04-1450-430a-a501-31710d05c2ac",
   "metadata": {},
   "source": [
    "### Using getters and setters to access attributes:\n",
    "\n",
    "Getters and setters are public methods that retrieve or update the values of private attributes.\n",
    "\n",
    "Example:"
   ]
  },
  {
   "cell_type": "code",
   "execution_count": 4,
   "id": "0df26009-bcb4-4d20-bde3-b0a78f1a34e0",
   "metadata": {},
   "outputs": [],
   "source": [
    "class Person:\n",
    "    def __init__(self, name, age):\n",
    "        self.__name = name\n",
    "        self.__age = age\n",
    "\n",
    "    def get_name(self):\n",
    "        return self.__name\n",
    "\n",
    "    def set_name(self, name):\n",
    "        self.__name = name\n",
    "\n",
    "    def get_age(self):\n",
    "        return self.__age\n",
    "\n",
    "    def set_age(self, age):\n",
    "        self.__age = age\n"
   ]
  },
  {
   "cell_type": "markdown",
   "id": "33ca9f0b-33a3-4ec0-b03f-3e2ce1309692",
   "metadata": {},
   "source": [
    "In this example, the Person class encapsulates name and age information using private attributes, and provides getter and setter methods to access and update them."
   ]
  },
  {
   "cell_type": "markdown",
   "id": "3c944c25-30b4-4b0a-bfa7-7639b2a98e97",
   "metadata": {},
   "source": [
    "#### Exercises:\n",
    "\n",
    "- Create a class that encapsulates a person's address information using private attributes and getter/setter methods."
   ]
  },
  {
   "cell_type": "code",
   "execution_count": null,
   "id": "6abe8745-857f-45d4-a968-cbadabfd6426",
   "metadata": {},
   "outputs": [],
   "source": []
  },
  {
   "cell_type": "markdown",
   "id": "e4df90cf-6483-40b4-8137-c6367cf8677f",
   "metadata": {},
   "source": [
    "- Implement a class that represents a product and encapsulates its price information using a private attribute and getter/setter methods."
   ]
  },
  {
   "cell_type": "code",
   "execution_count": null,
   "id": "a5ab4097-f525-4cf7-9788-bacfe72798f6",
   "metadata": {},
   "outputs": [],
   "source": []
  },
  {
   "cell_type": "markdown",
   "id": "7dd2bb60-0ac1-4a00-b314-85ff5215a475",
   "metadata": {},
   "source": [
    "- Create a class that represents a student and encapsulates their grade information using private attributes and getter/setter methods."
   ]
  },
  {
   "cell_type": "code",
   "execution_count": null,
   "id": "b2af3fcb-b783-4b56-af7c-ba362b0711ce",
   "metadata": {},
   "outputs": [],
   "source": []
  },
  {
   "cell_type": "markdown",
   "id": "fc3e067d-9000-4157-a4d6-42ec3a41a7a5",
   "metadata": {},
   "source": [
    "### Abstraction and abstract classes:\n",
    "\n",
    "Abstraction is the process of simplifying complex systems by modeling them at a higher level of abstraction. Abstract classes define a set of methods that must be implemented by any concrete subclass.\n",
    "\n",
    "Example:"
   ]
  },
  {
   "cell_type": "code",
   "execution_count": 5,
   "id": "ca4a68a4-aae6-4662-81fd-84f9f7171ad0",
   "metadata": {},
   "outputs": [
    {
     "ename": "TypeError",
     "evalue": "Can't instantiate abstract class Cow with abstract method speak",
     "output_type": "error",
     "traceback": [
      "\u001b[1;31m---------------------------------------------------------------------------\u001b[0m",
      "\u001b[1;31mTypeError\u001b[0m                                 Traceback (most recent call last)",
      "Cell \u001b[1;32mIn[5], line 24\u001b[0m\n\u001b[0;32m     22\u001b[0m cat \u001b[38;5;241m=\u001b[39m Cat()\n\u001b[0;32m     23\u001b[0m dog \u001b[38;5;241m=\u001b[39m Dog()\n\u001b[1;32m---> 24\u001b[0m cow \u001b[38;5;241m=\u001b[39m \u001b[43mCow\u001b[49m\u001b[43m(\u001b[49m\u001b[43m)\u001b[49m\n\u001b[0;32m     26\u001b[0m make_animal_speak(cat)  \u001b[38;5;66;03m# Output: Meow\u001b[39;00m\n\u001b[0;32m     27\u001b[0m make_animal_speak(dog)  \u001b[38;5;66;03m# Output: Woof\u001b[39;00m\n",
      "\u001b[1;31mTypeError\u001b[0m: Can't instantiate abstract class Cow with abstract method speak"
     ]
    }
   ],
   "source": [
    "from abc import ABC, abstractmethod\n",
    "\n",
    "class Animal(ABC):\n",
    "    @abstractmethod\n",
    "    def speak(self):\n",
    "        pass\n",
    "\n",
    "class Cat(Animal):\n",
    "    def speak(self):\n",
    "        print(\"Meow\")\n",
    "\n",
    "class Dog(Animal):\n",
    "    def speak(self):\n",
    "        print(\"Woof\")\n",
    "\n",
    "class Cow(Animal):\n",
    "    pass\n",
    "\n",
    "def make_animal_speak(animal):\n",
    "    animal.speak()\n",
    "\n",
    "cat = Cat()\n",
    "dog = Dog()\n",
    "cow = Cow()\n",
    "\n",
    "make_animal_speak(cat)  # Output: Meow\n",
    "make_animal_speak(dog)  # Output: Woof\n",
    "make_animal_speak(cow)  # TypeError: Can't instantiate abstract class Cow with abstract methods speak"
   ]
  },
  {
   "cell_type": "markdown",
   "id": "04d6c777-db09-4aad-a5dd-5d3b6c0b8335",
   "metadata": {},
   "source": [
    "In this example, the Animal class is an abstract class that defines a single abstract method 'speak'. The Cat and Dog classes are concrete subclasses of the Animal class that implement the 'speak' method. The Cow class is also a subclass of Animal but does not implement the 'speak' method and thus cannot be instantiated. The make_animal_speak function takes an Animal object and calls its 'speak' method, regardless of the specific subclass."
   ]
  },
  {
   "cell_type": "markdown",
   "id": "d5de4f00-90ad-4cb5-a547-1d6ce8409a3b",
   "metadata": {},
   "source": [
    "#### Exercises:\n",
    "\n",
    "- Create an abstract class that defines a set of methods that must be implemented by any concrete subclass."
   ]
  },
  {
   "cell_type": "code",
   "execution_count": null,
   "id": "e6b1ce0a-94c5-49f5-bb5b-738ab87f230d",
   "metadata": {},
   "outputs": [],
   "source": []
  },
  {
   "cell_type": "markdown",
   "id": "720c583f-acf4-4c5f-81ac-0c3865a075c9",
   "metadata": {},
   "source": [
    "- Implement a concrete subclass of an abstract class and override its abstract methods."
   ]
  },
  {
   "cell_type": "code",
   "execution_count": null,
   "id": "2cdfa9c8-2fd0-40a5-b3ca-f48216a54930",
   "metadata": {},
   "outputs": [],
   "source": []
  },
  {
   "cell_type": "markdown",
   "id": "1f504aff-c120-40c9-b35d-c7a72bf56d6c",
   "metadata": {},
   "source": [
    "- Write a function that takes an object of an abstract class and calls its abstract methods."
   ]
  },
  {
   "cell_type": "code",
   "execution_count": null,
   "id": "24f8859a-4366-4e8a-9a35-d82ea2675ab3",
   "metadata": {},
   "outputs": [],
   "source": []
  },
  {
   "cell_type": "markdown",
   "id": "732eb476-94e3-41e3-8a78-d2be92ad90c5",
   "metadata": {},
   "source": [
    "### Polymorphism and inheritance:"
   ]
  },
  {
   "cell_type": "markdown",
   "id": "e96b4f08-5a63-421d-a9a1-3cc20af886f2",
   "metadata": {},
   "source": [
    "Polymorphism is the ability of objects of different classes to be used interchangeably. Inheritance is the process of creating a new class by deriving it from an existing one."
   ]
  },
  {
   "cell_type": "code",
   "execution_count": 6,
   "id": "6fe26e61-8b95-4348-947d-cffa3a8708c9",
   "metadata": {},
   "outputs": [
    {
     "name": "stdout",
     "output_type": "stream",
     "text": [
      "Meow\n",
      "Woof\n"
     ]
    }
   ],
   "source": [
    "class Animal:\n",
    "    def speak(self):\n",
    "        pass\n",
    "\n",
    "class Cat(Animal):\n",
    "    def speak(self):\n",
    "        print(\"Meow\")\n",
    "\n",
    "class Dog(Animal):\n",
    "    def speak(self):\n",
    "        print(\"Woof\")\n",
    "\n",
    "def make_animal_speak(animal):\n",
    "    animal.speak()\n",
    "\n",
    "cat = Cat()\n",
    "dog = Dog()\n",
    "\n",
    "make_animal_speak(cat)  # Output: Meow\n",
    "make_animal_speak(dog)  # Output: Woof\n"
   ]
  },
  {
   "cell_type": "markdown",
   "id": "c7c9da67-d25c-4634-85b5-363058c832b0",
   "metadata": {},
   "source": [
    "In this example, the Cat and Dog classes inherit from the Animal class and override its 'speak' method. The make_animal_speak function takes an Animal object and calls its 'speak' method, which can be either the Cat or Dog implementation."
   ]
  },
  {
   "cell_type": "markdown",
   "id": "a83be848-2768-4a74-a538-d0a8901ea648",
   "metadata": {},
   "source": [
    "#### Exercises:\n",
    "\n",
    "- Create a class hierarchy that demonstrates inheritance and polymorphism."
   ]
  },
  {
   "cell_type": "code",
   "execution_count": null,
   "id": "bae604ad-31bc-4187-a63e-95d65d28269e",
   "metadata": {},
   "outputs": [],
   "source": []
  },
  {
   "cell_type": "markdown",
   "id": "19dae91d-e37e-492a-a809-bb086f9305ec",
   "metadata": {},
   "source": [
    "- Implement a function that takes a list of objects of different classes and calls a method on each object."
   ]
  },
  {
   "cell_type": "code",
   "execution_count": null,
   "id": "c00da60f-40da-47ed-b53a-5fd451aee1c4",
   "metadata": {},
   "outputs": [],
   "source": []
  },
  {
   "cell_type": "markdown",
   "id": "01e8448a-c6d2-4464-b28e-7139575f33fa",
   "metadata": {},
   "source": [
    "- Write a class that inherits from a built-in Python class and overrides one of its methods."
   ]
  },
  {
   "cell_type": "code",
   "execution_count": null,
   "id": "fd855dc3-141e-47dc-9824-48bc5232e514",
   "metadata": {},
   "outputs": [],
   "source": []
  }
 ],
 "metadata": {
  "kernelspec": {
   "display_name": "Python 3 (ipykernel)",
   "language": "python",
   "name": "python3"
  },
  "language_info": {
   "codemirror_mode": {
    "name": "ipython",
    "version": 3
   },
   "file_extension": ".py",
   "mimetype": "text/x-python",
   "name": "python",
   "nbconvert_exporter": "python",
   "pygments_lexer": "ipython3",
   "version": "3.9.15"
  }
 },
 "nbformat": 4,
 "nbformat_minor": 5
}
