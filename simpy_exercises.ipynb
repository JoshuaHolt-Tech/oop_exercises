{
 "cells": [
  {
   "cell_type": "markdown",
   "id": "b3932681-f1b6-4dd4-828f-f62b98d83e20",
   "metadata": {},
   "source": [
    "# Introduction to SimPy:"
   ]
  },
  {
   "cell_type": "markdown",
   "id": "4c2a3d07-2e77-48b4-b7fa-5c17d6bcdc37",
   "metadata": {},
   "source": [
    "SimPy is a discrete-event simulation library used to simulate complex systems that involve interactions between components or entities. It is particularly useful in simulating real-world problems that require complex scheduling, resource allocation, and event handling.\n",
    "\n",
    "Some of the key features of SimPy include:\n",
    "\n",
    "- Processes and events are discrete, meaning they happen at specific points in time.\n",
    "    - https://simpy.readthedocs.io/en/latest/topical_guides/events.html\n",
    "- Resources can be defined and allocated to processes, and released when no longer needed.\n",
    "    - https://simpy.readthedocs.io/en/latest/topical_guides/resources.html#the-basic-concept-of-resources\n",
    "- Multiple processes can run concurrently and interact with each other.\n",
    "    - https://simpy.readthedocs.io/en/latest/topical_guides/process_interaction.html\n",
    "- Simulation results can be easily analyzed and visualized.\n",
    "- SimPy can be used to model and simulate a wide range of systems, including traffic flow, manufacturing processes, supply chains, and more."
   ]
  },
  {
   "cell_type": "markdown",
   "id": "4caee1f0-cf35-46ca-8fb0-e2f3308d1d21",
   "metadata": {},
   "source": [
    "#### Example 1: Rocket Launch Simulation"
   ]
  },
  {
   "cell_type": "markdown",
   "id": "88d53b3d-198e-4e48-bf32-87c713afcb13",
   "metadata": {},
   "source": [
    "Suppose we want to simulate the launch of a rocket. We can model the rocket as a process, and the launch sequence as a series of events. We can also model the fuel as a resource, which is allocated to the rocket process until it is depleted. Here's an example code:"
   ]
  },
  {
   "cell_type": "code",
   "execution_count": 1,
   "id": "1cfbcfbd-6f92-4fe9-ab28-0f189d91fec4",
   "metadata": {},
   "outputs": [
    {
     "name": "stdout",
     "output_type": "stream",
     "text": [
      "Rocket engine firing at time 0\n",
      "Rocket has 900 units of fuel at time 0\n",
      "Rocket engine firing at time 1\n",
      "Rocket has 800 units of fuel at time 1\n",
      "Rocket engine firing at time 2\n",
      "Rocket has 700 units of fuel at time 2\n",
      "Rocket engine firing at time 3\n",
      "Rocket has 600 units of fuel at time 3\n",
      "Rocket engine firing at time 4\n",
      "Rocket has 500 units of fuel at time 4\n",
      "Rocket engine firing at time 5\n",
      "Rocket has 400 units of fuel at time 5\n",
      "Rocket engine firing at time 6\n",
      "Rocket has 300 units of fuel at time 6\n",
      "Rocket engine firing at time 7\n",
      "Rocket has 200 units of fuel at time 7\n",
      "Rocket engine firing at time 8\n",
      "Rocket has 100 units of fuel at time 8\n",
      "Rocket engine firing at time 9\n",
      "Rocket has 0 units of fuel at time 9\n",
      "Rocket ran out of fuel at time 10\n"
     ]
    }
   ],
   "source": [
    "import simpy\n",
    "\n",
    "def rocket(env, fuel, burn_rate):\n",
    "    while fuel.level > 0:\n",
    "        print(f\"Rocket engine firing at time {env.now}\")\n",
    "        yield fuel.get(burn_rate)  # Burn fuel at the specified rate\n",
    "        print(f\"Rocket has {fuel.level} units of fuel at time {env.now}\")\n",
    "        env.timeout(1)  # Wait for one time unit\n",
    "        env.step()\n",
    "\n",
    "    print(f\"Rocket ran out of fuel at time {env.now}\")\n",
    "\n",
    "#Creates the Environment scheduler\n",
    "env = simpy.Environment()\n",
    "#Creates the resource object\n",
    "fuel = simpy.Container(env, init=1000, capacity=1000)  # Initialize 1000 units of fuel\n",
    "#Creates a process to be executed when env.run() is passed\n",
    "env.process(rocket(env, fuel, 100))  # Launch the rocket with a burn rate of 100 units per second\n",
    "#Runs simulation\n",
    "env.run(until=15)  # Run the simulation for 100 time units"
   ]
  },
  {
   "cell_type": "markdown",
   "id": "5a78534c-2f46-481b-abb3-3c04aa407d95",
   "metadata": {},
   "source": [
    "This simulation launches the rocket and then repeatedly burns fuel at a specified rate (100 units per second in this case) until the fuel runs out. The `timeout` function is used to wait for one time unit between each fuel burn. The simulation runs for 100 time units, after which the simulation terminates."
   ]
  },
  {
   "cell_type": "markdown",
   "id": "7e69ebd3-8b81-4036-b738-6615b65297b4",
   "metadata": {},
   "source": [
    "#### Example 2: Robot Navigation Simulation"
   ]
  },
  {
   "cell_type": "markdown",
   "id": "b11b183b-7b77-4737-8311-c13c730706f6",
   "metadata": {},
   "source": [
    "Suppose we want to simulate the navigation of a robot through a space station. We can model the robot as a process that moves through the station, and the station as a resource that the robot can occupy. Here's an example code:"
   ]
  },
  {
   "cell_type": "code",
   "execution_count": 2,
   "id": "5d9c4576-54fd-4244-acc1-93216e08ce2f",
   "metadata": {},
   "outputs": [
    {
     "name": "stdout",
     "output_type": "stream",
     "text": [
      "Starting exploration\n",
      "Found a rock\n",
      "Analyzing rock\n",
      "Continuing exploration\n",
      "Found another rock\n",
      "Analyzing rock\n",
      "Exploration complete\n"
     ]
    }
   ],
   "source": [
    "import simpy\n",
    "\n",
    "class Robot:\n",
    "    def __init__(self, env):\n",
    "        self.env = env\n",
    "        self.action = env.process(self.explore())\n",
    "\n",
    "    def explore(self):\n",
    "        print('Starting exploration')\n",
    "        yield self.env.timeout(5)\n",
    "        print('Found a rock')\n",
    "        yield self.env.timeout(2)\n",
    "        print('Analyzing rock')\n",
    "        yield self.env.timeout(3)\n",
    "        print('Continuing exploration')\n",
    "        yield self.env.timeout(10)\n",
    "        print('Found another rock')\n",
    "        yield self.env.timeout(2)\n",
    "        print('Analyzing rock')\n",
    "        yield self.env.timeout(3)\n",
    "        print('Exploration complete')\n",
    "\n",
    "env = simpy.Environment()\n",
    "robot = Robot(env)\n",
    "env.run(until=30)\n"
   ]
  },
  {
   "cell_type": "markdown",
   "id": "996146a8-07c2-4f3e-b61f-44ad2956ced3",
   "metadata": {},
   "source": [
    "In this example, we define a `Robot` class with a method called `explore` that represents the robot's movements and actions on the planet. We use the `yield env.timeout()` statement to simulate time passing, and then print out messages at different stages of the exploration. Finally, we create an environment object, create a `Robot` object, and run the simulation for a total of 30 time units."
   ]
  },
  {
   "cell_type": "markdown",
   "id": "2aa38f58-8d28-4051-8980-6af4705d6eb5",
   "metadata": {},
   "source": [
    "#### Exercise 1:\n",
    "\n",
    "Create a horse race."
   ]
  },
  {
   "cell_type": "code",
   "execution_count": 3,
   "id": "6568fe6e-aca7-4175-947b-1bddcf56e0d4",
   "metadata": {},
   "outputs": [],
   "source": [
    "class RaceHorse:\n",
    "    def __init__(self, env):\n",
    "        self.env = env\n",
    "        self.action = env.process(self.sprint())\n",
    "        \n",
    "    #def sprint(self, ):\n",
    "        "
   ]
  },
  {
   "cell_type": "markdown",
   "id": "1694fa6f-aee0-4e6a-84b6-d6174a3c3d15",
   "metadata": {},
   "source": [
    "#### Exercise 2:\n",
    "\n",
    "Implement Euler's method in Python to simulate the behavior of a simple harmonic oscillator. Define a digital twin for the oscillator and run the simulation for a given number of iterations. Visualize the results using Matplotlib and compare the simulated behavior to the expected behavior of the system."
   ]
  },
  {
   "cell_type": "code",
   "execution_count": null,
   "id": "6c1c0346-5aa4-4029-9a06-f2dc6645b2a9",
   "metadata": {},
   "outputs": [],
   "source": []
  },
  {
   "cell_type": "markdown",
   "id": "3aa16c31-c993-494d-b263-1105ec3b0a6f",
   "metadata": {},
   "source": [
    "#### Exercise 3:\n",
    "\n",
    "Create a digital twin for a heat exchanger system. Use SciPy to implement a simulation algorithm for the twin, and run the simulation with various input parameters to study the behavior of the system under different conditions. Use the results of the simulation to optimize the digital twin model by adjusting its parameters."
   ]
  },
  {
   "cell_type": "code",
   "execution_count": null,
   "id": "20ed2d2b-783a-4652-bcfc-56270a85e547",
   "metadata": {},
   "outputs": [],
   "source": []
  }
 ],
 "metadata": {
  "kernelspec": {
   "display_name": "Python 3 (ipykernel)",
   "language": "python",
   "name": "python3"
  },
  "language_info": {
   "codemirror_mode": {
    "name": "ipython",
    "version": 3
   },
   "file_extension": ".py",
   "mimetype": "text/x-python",
   "name": "python",
   "nbconvert_exporter": "python",
   "pygments_lexer": "ipython3",
   "version": "3.10.9"
  }
 },
 "nbformat": 4,
 "nbformat_minor": 5
}
