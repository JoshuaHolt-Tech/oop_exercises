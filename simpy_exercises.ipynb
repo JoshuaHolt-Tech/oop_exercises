{
 "cells": [
  {
   "cell_type": "markdown",
   "id": "b3932681-f1b6-4dd4-828f-f62b98d83e20",
   "metadata": {},
   "source": [
    "# Introduction to SimPy:"
   ]
  },
  {
   "cell_type": "markdown",
   "id": "4c2a3d07-2e77-48b4-b7fa-5c17d6bcdc37",
   "metadata": {},
   "source": [
    "SimPy is a discrete-event simulation library used to simulate complex systems that involve interactions between components or entities. It is particularly useful in simulating real-world problems that require complex scheduling, resource allocation, and event handling.\n",
    "\n",
    "Some of the key features of SimPy include:\n",
    "\n",
    "- Processes and events are discrete, meaning they happen at specific points in time.\n",
    "    - https://simpy.readthedocs.io/en/latest/topical_guides/events.html\n",
    "- Resources can be defined and allocated to processes, and released when no longer needed.\n",
    "    - https://simpy.readthedocs.io/en/latest/topical_guides/resources.html#the-basic-concept-of-resources\n",
    "- Multiple processes can run concurrently and interact with each other.\n",
    "    - https://simpy.readthedocs.io/en/latest/topical_guides/process_interaction.html\n",
    "- Simulation results can be easily analyzed and visualized.\n",
    "- SimPy can be used to model and simulate a wide range of systems, including traffic flow, manufacturing processes, supply chains, and more."
   ]
  },
  {
   "cell_type": "markdown",
   "id": "4caee1f0-cf35-46ca-8fb0-e2f3308d1d21",
   "metadata": {},
   "source": [
    "#### Example 1: Rocket Launch Simulation"
   ]
  },
  {
   "cell_type": "markdown",
   "id": "88d53b3d-198e-4e48-bf32-87c713afcb13",
   "metadata": {},
   "source": [
    "Suppose we want to simulate the launch of a rocket. We can model the rocket as a process, and the launch sequence as a series of events. We can also model the fuel as a resource, which is allocated to the rocket process until it is depleted. Here's an example code:"
   ]
  },
  {
   "cell_type": "code",
   "execution_count": 1,
   "id": "1cfbcfbd-6f92-4fe9-ab28-0f189d91fec4",
   "metadata": {},
   "outputs": [
    {
     "name": "stdout",
     "output_type": "stream",
     "text": [
      "Rocket launched at time 0\n",
      "Rocket is running on 900 units of fuel at time 0\n",
      "Rocket launched at time 1\n",
      "Rocket is running on 800 units of fuel at time 1\n",
      "Rocket launched at time 2\n",
      "Rocket is running on 700 units of fuel at time 2\n",
      "Rocket launched at time 3\n",
      "Rocket is running on 600 units of fuel at time 3\n",
      "Rocket launched at time 4\n",
      "Rocket is running on 500 units of fuel at time 4\n",
      "Rocket launched at time 5\n",
      "Rocket is running on 400 units of fuel at time 5\n",
      "Rocket launched at time 6\n",
      "Rocket is running on 300 units of fuel at time 6\n",
      "Rocket launched at time 7\n",
      "Rocket is running on 200 units of fuel at time 7\n",
      "Rocket launched at time 8\n",
      "Rocket is running on 100 units of fuel at time 8\n",
      "Rocket launched at time 9\n",
      "Rocket is running on 0 units of fuel at time 9\n",
      "Rocket ran out of fuel and crashed at time 9\n"
     ]
    }
   ],
   "source": [
    "import simpy\n",
    "\n",
    "class Rocket:\n",
    "    def __init__(self, env, fuel, altitude, velocity, burn_time=20):\n",
    "        self.env = env\n",
    "        self.fuel = fuel\n",
    "        self.altitude = altitude\n",
    "        self.velocity = velocity\n",
    "        self.time_units = time_units\n",
    "\n",
    "    def launch(self):\n",
    "        for i in range(self.burn_time):\n",
    "            print(f\"Rocket launched at time {i}\")\n",
    "            try:\n",
    "                yield self.fuel.get(100)  # Allocate 100 units of fuel to the rocket\n",
    "                \n",
    "                print(f\"Rocket is running on {self.fuel.level} units of fuel at time {i}\")\n",
    "                \n",
    "            except simpy.Interrupt:  # The rocket has been aborted\n",
    "                print(f\"Rocket aborted at time {i}\")\n",
    "                return\n",
    "            if self.fuel.level == 0:  # The fuel has been depleted\n",
    "                print(f\"Rocket ran out of fuel and crashed at time {i}\")\n",
    "                return\n",
    "\n",
    "\"\"\"\n",
    "def abort(env, rocket):\n",
    "    if rocket.triggered == False:\n",
    "        yield env.timeout(5)  # Abort the rocket after 5 time units\n",
    "    if rocket.is_alive:\n",
    "        rocket.interrupt()\n",
    "\"\"\"\n",
    "\n",
    "burn_time = 20\n",
    "env = simpy.Environment()\n",
    "fuel = simpy.Container(env, init=1000, capacity=1000)  # Initialize 1000 units of fuel\n",
    "rocket = Rocket(env, fuel, burn_time)\n",
    "rocket_process = env.process(rocket.run())\n",
    "#env.process(abort(env, rocket_process))\n",
    "env.run(until=burn_time)  # Run the simulation for 20 time units\n"
   ]
  },
  {
   "cell_type": "code",
   "execution_count": 2,
   "id": "4b290a60-7ac3-45e4-9524-bbaefee14322",
   "metadata": {},
   "outputs": [
    {
     "name": "stdout",
     "output_type": "stream",
     "text": [
      "0\n"
     ]
    }
   ],
   "source": [
    "print(rocket.fuel.level)"
   ]
  },
  {
   "cell_type": "markdown",
   "id": "5a78534c-2f46-481b-abb3-3c04aa407d95",
   "metadata": {},
   "source": [
    "In this example, the rocket process runs continuously until either the fuel is depleted or it is interrupted by the abort process. The abort process waits for 5 time units before interrupting the rocket process."
   ]
  },
  {
   "cell_type": "markdown",
   "id": "7e69ebd3-8b81-4036-b738-6615b65297b4",
   "metadata": {},
   "source": [
    "#### Example 2: Robot Navigation Simulation"
   ]
  },
  {
   "cell_type": "markdown",
   "id": "b11b183b-7b77-4737-8311-c13c730706f6",
   "metadata": {},
   "source": [
    "Suppose we want to simulate the navigation of a robot through a space station. We can model the robot as a process that moves through the station, and the station as a resource that the robot can occupy. Here's an example code:"
   ]
  },
  {
   "cell_type": "code",
   "execution_count": 3,
   "id": "5d9c4576-54fd-4244-acc1-93216e08ce2f",
   "metadata": {},
   "outputs": [
    {
     "name": "stdout",
     "output_type": "stream",
     "text": [
      "Starting exploration\n",
      "Found a rock\n",
      "Analyzing rock\n",
      "Continuing exploration\n",
      "Found another rock\n",
      "Analyzing rock\n",
      "Exploration complete\n"
     ]
    }
   ],
   "source": [
    "import simpy\n",
    "\n",
    "class Robot:\n",
    "    def __init__(self, env):\n",
    "        self.env = env\n",
    "        self.action = env.process(self.explore())\n",
    "\n",
    "    def explore(self):\n",
    "        print('Starting exploration')\n",
    "        yield self.env.timeout(5)\n",
    "        print('Found a rock')\n",
    "        yield self.env.timeout(2)\n",
    "        print('Analyzing rock')\n",
    "        yield self.env.timeout(3)\n",
    "        print('Continuing exploration')\n",
    "        yield self.env.timeout(10)\n",
    "        print('Found another rock')\n",
    "        yield self.env.timeout(2)\n",
    "        print('Analyzing rock')\n",
    "        yield self.env.timeout(3)\n",
    "        print('Exploration complete')\n",
    "\n",
    "env = simpy.Environment()\n",
    "robot = Robot(env)\n",
    "env.run(until=30)\n"
   ]
  },
  {
   "cell_type": "markdown",
   "id": "996146a8-07c2-4f3e-b61f-44ad2956ced3",
   "metadata": {},
   "source": [
    "In this example, we define a `Robot` class with a method called `explore` that represents the robot's movements and actions on the planet. We use the `yield env.timeout()` statement to simulate time passing, and then print out messages at different stages of the exploration. Finally, we create an environment object, create a `Robot` object, and run the simulation for a total of 30 time units."
   ]
  },
  {
   "cell_type": "markdown",
   "id": "2aa38f58-8d28-4051-8980-6af4705d6eb5",
   "metadata": {},
   "source": [
    "#### Exercise 1:\n",
    "\n",
    "Use the SimPy library to create a simulation of a traffic intersection. Define a digital twin for the intersection that can receive data from sensors and control the traffic lights. Run the simulation for a given amount of time and analyze the results to see how well the twin is able to manage traffic flow."
   ]
  },
  {
   "cell_type": "markdown",
   "id": "1694fa6f-aee0-4e6a-84b6-d6174a3c3d15",
   "metadata": {},
   "source": [
    "#### Exercise 2:\n",
    "\n",
    "Implement Euler's method in Python to simulate the behavior of a simple harmonic oscillator. Define a digital twin for the oscillator and run the simulation for a given number of iterations. Visualize the results using Matplotlib and compare the simulated behavior to the expected behavior of the system."
   ]
  },
  {
   "cell_type": "markdown",
   "id": "3aa16c31-c993-494d-b263-1105ec3b0a6f",
   "metadata": {},
   "source": [
    "#### Exercise 3:\n",
    "\n",
    "Create a digital twin for a heat exchanger system. Use SciPy to implement a simulation algorithm for the twin, and run the simulation with various input parameters to study the behavior of the system under different conditions. Use the results of the simulation to optimize the digital twin model by adjusting its parameters."
   ]
  }
 ],
 "metadata": {
  "kernelspec": {
   "display_name": "Python 3 (ipykernel)",
   "language": "python",
   "name": "python3"
  },
  "language_info": {
   "codemirror_mode": {
    "name": "ipython",
    "version": 3
   },
   "file_extension": ".py",
   "mimetype": "text/x-python",
   "name": "python",
   "nbconvert_exporter": "python",
   "pygments_lexer": "ipython3",
   "version": "3.10.9"
  }
 },
 "nbformat": 4,
 "nbformat_minor": 5
}
