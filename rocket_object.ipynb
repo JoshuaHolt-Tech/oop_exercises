{
 "cells": [
  {
   "cell_type": "code",
   "execution_count": 1,
   "id": "83b841b7-0a2e-481c-8dc4-506ef0f2acf0",
   "metadata": {},
   "outputs": [],
   "source": [
    "import numpy as np\n",
    "import matplotlib.pyplot as plt"
   ]
  },
  {
   "cell_type": "code",
   "execution_count": 2,
   "id": "ad8bc66d-138e-499b-90aa-7209f44046c8",
   "metadata": {},
   "outputs": [],
   "source": [
    "#Initial conditions\n",
    "GRAVITY = -9.81"
   ]
  },
  {
   "cell_type": "code",
   "execution_count": 3,
   "id": "12d4f3e6-7a51-4cc7-a089-43b6b7b36f11",
   "metadata": {},
   "outputs": [],
   "source": [
    "\n",
    "class Rocket:\n",
    "    def __init__(self, init_position, init_velocity, init_mass, burn_time, delta_t = 1):\n",
    "        self.position = init_position\n",
    "        self.velocity = init_velocity\n",
    "        self.mass = init_mass #kg\n",
    "        self.burn_time = burn_time #seconds\n",
    "        self.dt = delta_t #seconds\n",
    "        \n",
    "    def update_vx(self, x_acceleration=0):\n",
    "        self.velocity[0] += x_acceleration\n",
    "        \n",
    "    def update_vy(self, y_acceleration=0):\n",
    "        self.velocity[1] += self.local_gravity() + y_acceleration\n",
    "\n",
    "    def update_vz(self, z_acceleration=0):\n",
    "        self.velocity[2] += z_acceleration\n",
    "        \n",
    "    # Thrust to position change formula is: change_in_position = thrust / mass * delta_t\n",
    "    def update_position(self):\n",
    "        self.position[0] += self.velocity[0]\n",
    "        self.position[1] += self.velocity[1]\n",
    "        self.position[2] += self.velocity[2]\n",
    "    \n",
    "    def update_mass(self, mass_change = 0):\n",
    "        self.mass += mass_change\n",
    "        return self.mass\n",
    "        \n",
    "    #This is for fututre development\n",
    "    def local_gravity(self):\n",
    "        return -9.81\n",
    "    \n",
    "    #Maybe this should be its own function.\n",
    "    def launch(self):\n",
    "        t = np.arange(0, self.burn_time, self.dt)\n",
    "        main_engine_thrust = 200 #Newtons\n",
    "        #Calc is wrong. Figure out why. seconds^2?\n",
    "        position_change = (main_engine_thrust + self.local_gravity() / (self.update_mass()))**1/2\n",
    "        for i in range(len(t)):\n",
    "            self.update_vy(position_change)\n",
    "            self.update_position()\n",
    "            print(f\"Position: {self.position}\")\n",
    "            print(f\"Velocity: {self.velocity}\")\n",
    "            print(\"-----------------------------\")\n",
    "\n",
    "        \n",
    "        \n",
    "            "
   ]
  },
  {
   "cell_type": "code",
   "execution_count": 4,
   "id": "7e8b319a-ee79-4b91-9a0f-de620de6636d",
   "metadata": {},
   "outputs": [],
   "source": [
    "\n",
    "sparky_mcsparks = Rocket([0,0,0],[0,0,0],1000,1)"
   ]
  },
  {
   "cell_type": "code",
   "execution_count": 5,
   "id": "c9408e0c-3f1b-40e7-883e-b5f08c5b1851",
   "metadata": {
    "tags": []
   },
   "outputs": [
    {
     "data": {
      "text/plain": [
       "'\\nsparky_mcsparks.launch()\\nwhile sparky_mcsparks.position[1] > 0:\\n    sparky_mcsparks.update_vx()\\n    sparky_mcsparks.update_vy()\\n    sparky_mcsparks.update_vz()\\n    sparky_mcsparks.update_position()\\n    print(f\"Position: {sparky_mcsparks.position}\")\\n    print(f\"Velocity: {sparky_mcsparks.velocity}\")\\n    print(\"-----------------------------\")\\n    '"
      ]
     },
     "execution_count": 5,
     "metadata": {},
     "output_type": "execute_result"
    }
   ],
   "source": [
    "\"\"\"\n",
    "sparky_mcsparks.launch()\n",
    "while sparky_mcsparks.position[1] > 0:\n",
    "    sparky_mcsparks.update_vx()\n",
    "    sparky_mcsparks.update_vy()\n",
    "    sparky_mcsparks.update_vz()\n",
    "    sparky_mcsparks.update_position()\n",
    "    print(f\"Position: {sparky_mcsparks.position}\")\n",
    "    print(f\"Velocity: {sparky_mcsparks.velocity}\")\n",
    "    print(\"-----------------------------\")\n",
    "    \"\"\""
   ]
  },
  {
   "cell_type": "markdown",
   "id": "5f9cd951-5a26-4412-abde-ad3d818367bb",
   "metadata": {},
   "source": [
    "Composition and aggregation are two techniques used in object-oriented programming to create complex objects from simpler ones.\n",
    "\n",
    "Composition involves creating an object by combining other objects. In this technique, the objects being combined are closely related, and the composed object is made up of the individual parts. In other words, the composed object cannot exist without its parts. This is often described as a \"has-a\" relationship, where an object \"has\" other objects as its components.\n",
    "\n",
    "Aggregation is similar to composition, but the objects being combined are not necessarily closely related. The aggregated object can exist independently of its parts. This is often described as a \"uses-a\" relationship, where an object \"uses\" other objects as its components.\n",
    "\n",
    "Here's an example of creating a Rocket object using composition and aggregation:"
   ]
  },
  {
   "cell_type": "code",
   "execution_count": 6,
   "id": "f69c1087-5c45-4b4a-83ce-7f57407cf96f",
   "metadata": {},
   "outputs": [
    {
     "name": "stdout",
     "output_type": "stream",
     "text": [
      "Rocket launched with payload: <__main__.Payload object at 0x0000014A82BDF760>\n"
     ]
    }
   ],
   "source": [
    "class Engine:\n",
    "    def __init__(self, fuel_type):\n",
    "        self.fuel_type = fuel_type\n",
    "\n",
    "class Rocket:\n",
    "    def __init__(self):\n",
    "        self.engines = [Engine(\"liquid fuel\") for i in range(3)]\n",
    "        self.payload = None\n",
    "\n",
    "    def add_payload(self, payload):\n",
    "        self.payload = payload\n",
    "\n",
    "    def launch(self):\n",
    "        if self.payload is None:\n",
    "            print(\"Cannot launch rocket without payload.\")\n",
    "        else:\n",
    "            print(\"Rocket launched with payload: {}\".format(self.payload))\n",
    "\n",
    "class Payload:\n",
    "    def __init__(self, name):\n",
    "        self.name = name\n",
    "\n",
    "# Create a rocket object\n",
    "rocket = Rocket()\n",
    "\n",
    "# Add payload\n",
    "payload = Payload(\"Satellite\")\n",
    "rocket.add_payload(payload)\n",
    "\n",
    "# Launch rocket\n",
    "rocket.launch()\n"
   ]
  },
  {
   "cell_type": "markdown",
   "id": "69b0d690-c9e7-4752-911f-c4202c275573",
   "metadata": {},
   "source": [
    "In this example, the Rocket object is created using composition, with its Engine components being closely related and required for the rocket to function. The Rocket object also uses aggregation, with the Payload component being independent and optional.\n",
    "\n",
    "The Rocket object has a method add_payload to add a payload component, and a method launch to launch the rocket with the payload. If the payload has not been added, the rocket cannot be launched."
   ]
  },
  {
   "cell_type": "markdown",
   "id": "98b95762-5ad1-474d-a983-6a24aaec32b7",
   "metadata": {},
   "source": [
    "Here are 10 easy exercises to practice/learn about composition and aggregation:\n",
    "\n",
    "Create a Car object using composition with Wheel objects as components.\n",
    "Create a House object using composition with Room objects as components.\n",
    "Create a Computer object using composition with CPU, Memory, and Storage objects as components.\n",
    "Create a School object using aggregation with Teacher and Student objects as components.\n",
    "Create a Library object using aggregation with Book objects as components.\n",
    "Create a Restaurant object using composition with Kitchen and DiningRoom objects as components.\n",
    "Create a University object using aggregation with Department and Professor objects as components.\n",
    "Create a Hospital object using composition with OperatingRoom and PatientRoom objects as components.\n",
    "Create a Bank object using aggregation with Account objects as components.\n",
    "Create a Zoo object using composition with Animal objects as components."
   ]
  },
  {
   "cell_type": "code",
   "execution_count": null,
   "id": "817d0400-9a8a-4832-8d56-dc752320a59a",
   "metadata": {},
   "outputs": [],
   "source": []
  }
 ],
 "metadata": {
  "kernelspec": {
   "display_name": "Python 3 (ipykernel)",
   "language": "python",
   "name": "python3"
  },
  "language_info": {
   "codemirror_mode": {
    "name": "ipython",
    "version": 3
   },
   "file_extension": ".py",
   "mimetype": "text/x-python",
   "name": "python",
   "nbconvert_exporter": "python",
   "pygments_lexer": "ipython3",
   "version": "3.10.9"
  }
 },
 "nbformat": 4,
 "nbformat_minor": 5
}
