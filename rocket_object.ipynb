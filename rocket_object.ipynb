{
 "cells": [
  {
   "cell_type": "code",
   "execution_count": 1,
   "id": "83b841b7-0a2e-481c-8dc4-506ef0f2acf0",
   "metadata": {},
   "outputs": [],
   "source": [
    "import numpy as np\n",
    "import matplotlib.pyplot as plt"
   ]
  },
  {
   "cell_type": "code",
   "execution_count": 2,
   "id": "ad8bc66d-138e-499b-90aa-7209f44046c8",
   "metadata": {},
   "outputs": [],
   "source": [
    "#Initial conditions\n",
    "GRAVITY = -9.81"
   ]
  },
  {
   "cell_type": "code",
   "execution_count": 3,
   "id": "12d4f3e6-7a51-4cc7-a089-43b6b7b36f11",
   "metadata": {},
   "outputs": [],
   "source": [
    "\n",
    "class Rocket:\n",
    "    def __init__(self, init_position, init_velocity, init_mass, burn_time, delta_t = 1):\n",
    "        self.position = init_position\n",
    "        self.velocity = init_velocity\n",
    "        self.mass = init_mass #kg\n",
    "        self.burn_time = burn_time #seconds\n",
    "        self.dt = delta_t #seconds\n",
    "        \n",
    "    def update_vx(self, x_acceleration=0):\n",
    "        self.velocity[0] += x_acceleration\n",
    "        \n",
    "    def update_vy(self, y_acceleration=0):\n",
    "        self.velocity[1] += self.local_gravity() + y_acceleration\n",
    "\n",
    "    def update_vz(self, z_acceleration=0):\n",
    "        self.velocity[2] += z_acceleration\n",
    "        \n",
    "    # Thrust to position change formula is: change_in_position = thrust / mass * delta_t\n",
    "    def update_position(self):\n",
    "        self.position[0] += self.velocity[0]\n",
    "        self.position[1] += self.velocity[1]\n",
    "        self.position[2] += self.velocity[2]\n",
    "    \n",
    "    def update_mass(self, mass_change = 0):\n",
    "        self.mass += mass_change\n",
    "        return self.mass\n",
    "        \n",
    "    #This is for fututre development\n",
    "    def local_gravity(self):\n",
    "        return -9.81\n",
    "    \n",
    "    #Maybe this should be its own function.\n",
    "    def launch(self):\n",
    "        t = np.arange(0, self.burn_time, self.dt)\n",
    "        main_engine_thrust = 200 #Newtons\n",
    "        #Calc is wrong. Figure out why. seconds^2?\n",
    "        position_change = (main_engine_thrust + self.local_gravity() / (self.update_mass()))**1/2\n",
    "        for i in range(len(t)):\n",
    "            self.update_vy(position_change)\n",
    "            self.update_position()\n",
    "            print(f\"Position: {self.position}\")\n",
    "            print(f\"Velocity: {self.velocity}\")\n",
    "            print(\"-----------------------------\")\n",
    "\n",
    "        \n",
    "        \n",
    "            "
   ]
  },
  {
   "cell_type": "code",
   "execution_count": 4,
   "id": "7e8b319a-ee79-4b91-9a0f-de620de6636d",
   "metadata": {},
   "outputs": [],
   "source": [
    "\n",
    "sparky_mcsparks = Rocket([0,0,0],[0,0,0],1000,1)"
   ]
  },
  {
   "cell_type": "code",
   "execution_count": 5,
   "id": "c9408e0c-3f1b-40e7-883e-b5f08c5b1851",
   "metadata": {
    "tags": []
   },
   "outputs": [
    {
     "data": {
      "text/plain": [
       "'\\nsparky_mcsparks.launch()\\nwhile sparky_mcsparks.position[1] > 0:\\n    sparky_mcsparks.update_vx()\\n    sparky_mcsparks.update_vy()\\n    sparky_mcsparks.update_vz()\\n    sparky_mcsparks.update_position()\\n    print(f\"Position: {sparky_mcsparks.position}\")\\n    print(f\"Velocity: {sparky_mcsparks.velocity}\")\\n    print(\"-----------------------------\")\\n    '"
      ]
     },
     "execution_count": 5,
     "metadata": {},
     "output_type": "execute_result"
    }
   ],
   "source": [
    "\"\"\"\n",
    "sparky_mcsparks.launch()\n",
    "while sparky_mcsparks.position[1] > 0:\n",
    "    sparky_mcsparks.update_vx()\n",
    "    sparky_mcsparks.update_vy()\n",
    "    sparky_mcsparks.update_vz()\n",
    "    sparky_mcsparks.update_position()\n",
    "    print(f\"Position: {sparky_mcsparks.position}\")\n",
    "    print(f\"Velocity: {sparky_mcsparks.velocity}\")\n",
    "    print(\"-----------------------------\")\n",
    "    \"\"\""
   ]
  },
  {
   "cell_type": "markdown",
   "id": "5f9cd951-5a26-4412-abde-ad3d818367bb",
   "metadata": {},
   "source": [
    "Composition and aggregation are two techniques used in object-oriented programming to create complex objects from simpler ones.\n",
    "\n",
    "Composition involves creating an object by combining other objects. In this technique, the objects being combined are closely related, and the composed object is made up of the individual parts. In other words, the composed object cannot exist without its parts. This is often described as a \"has-a\" relationship, where an object \"has\" other objects as its components.\n",
    "\n",
    "Aggregation is similar to composition, but the objects being combined are not necessarily closely related. The aggregated object can exist independently of its parts. This is often described as a \"uses-a\" relationship, where an object \"uses\" other objects as its components.\n",
    "\n",
    "Here's an example of creating a Rocket object using composition and aggregation:"
   ]
  },
  {
   "cell_type": "code",
   "execution_count": 6,
   "id": "f69c1087-5c45-4b4a-83ce-7f57407cf96f",
   "metadata": {},
   "outputs": [
    {
     "name": "stdout",
     "output_type": "stream",
     "text": [
      "Rocket launched with payload: <__main__.Payload object at 0x0000014DEF763BE0>\n"
     ]
    }
   ],
   "source": [
    "class Engine:\n",
    "    def __init__(self, fuel_type):\n",
    "        self.fuel_type = fuel_type\n",
    "\n",
    "class Rocket:\n",
    "    def __init__(self):\n",
    "        self.engines = [Engine(\"liquid fuel\") for i in range(3)]\n",
    "        self.payload = None\n",
    "\n",
    "    def add_payload(self, payload):\n",
    "        self.payload = payload\n",
    "\n",
    "    def launch(self):\n",
    "        if self.payload is None:\n",
    "            print(\"Cannot launch rocket without payload.\")\n",
    "        else:\n",
    "            print(\"Rocket launched with payload: {}\".format(self.payload))\n",
    "\n",
    "class Payload:\n",
    "    def __init__(self, name):\n",
    "        self.name = name\n",
    "\n",
    "# Create a rocket object\n",
    "rocket = Rocket()\n",
    "\n",
    "# Add payload\n",
    "payload = Payload(\"Satellite\")\n",
    "rocket.add_payload(payload)\n",
    "\n",
    "# Launch rocket\n",
    "rocket.launch()\n"
   ]
  },
  {
   "cell_type": "markdown",
   "id": "69b0d690-c9e7-4752-911f-c4202c275573",
   "metadata": {},
   "source": [
    "In this example, the Rocket object is created using composition, with its Engine components being closely related and required for the rocket to function. The Rocket object also uses aggregation, with the Payload component being independent and optional.\n",
    "\n",
    "The Rocket object has a method add_payload to add a payload component, and a method launch to launch the rocket with the payload. If the payload has not been added, the rocket cannot be launched."
   ]
  },
  {
   "cell_type": "markdown",
   "id": "bfc23271-b201-4bea-87b6-d0a0b5caee90",
   "metadata": {},
   "source": [
    "### Composition example:\n",
    "\n",
    "In the context of a rocket, composition refers to the concept of building more complex objects by combining smaller objects together. For example, a rocket can be composed of various parts like engines, fuel tanks, and avionics. Each of these parts can be objects themselves with their own attributes and methods.\n",
    "\n",
    "Let's consider an example where we have a Rocket object composed of Engine and FuelTank objects. The Rocket object can have methods that control the engines and the fuel tanks:"
   ]
  },
  {
   "cell_type": "code",
   "execution_count": null,
   "id": "c9ca80d4-2f72-4579-8c93-6d00f20a00f9",
   "metadata": {},
   "outputs": [],
   "source": [
    "class Engine:\n",
    "    def __init__(self, fuel_type):\n",
    "        self.fuel_type = fuel_type\n",
    "        self.thrust = 0\n",
    "\n",
    "    def start(self):\n",
    "        self.thrust = 100\n",
    "\n",
    "    def stop(self):\n",
    "        self.thrust = 0\n",
    "\n",
    "\n",
    "class FuelTank:\n",
    "    def __init__(self, capacity):\n",
    "        self.capacity = capacity\n",
    "        self.fuel_level = 0\n",
    "\n",
    "    def fill(self, amount):\n",
    "        self.fuel_level = min(self.fuel_level + amount, self.capacity)\n",
    "\n",
    "    def drain(self, amount):\n",
    "        self.fuel_level = max(self.fuel_level - amount, 0)\n",
    "\n",
    "\n",
    "class Rocket:\n",
    "    def __init__(self):\n",
    "        self.engines = [Engine(\"liquid fuel\") for i in range(3)]\n",
    "        self.fuel_tank = FuelTank(1000)\n",
    "\n",
    "    def start_engines(self):\n",
    "        for engine in self.engines:\n",
    "            engine.start()\n",
    "\n",
    "    def stop_engines(self):\n",
    "        for engine in self.engines:\n",
    "            engine.stop()\n",
    "\n",
    "    def fill_fuel_tank(self, amount):\n",
    "        self.fuel_tank.fill(amount)\n",
    "\n",
    "    def drain_fuel_tank(self, amount):\n",
    "        self.fuel_tank.drain(amount)\n"
   ]
  },
  {
   "cell_type": "markdown",
   "id": "1caac7f0-a583-47b8-a9a7-787824b199f0",
   "metadata": {},
   "source": [
    "In this example, the Rocket object is composed of Engine and FuelTank objects. The Rocket object has methods to control the engines and the fuel tank by calling methods on the Engine and FuelTank objects respectively."
   ]
  },
  {
   "cell_type": "markdown",
   "id": "95729b57-fece-4c95-8d05-4b86f25e917f",
   "metadata": {},
   "source": [
    "### Aggregation example:\n",
    "\n",
    "In the context of a rocket, aggregation refers to the concept of objects being composed of other objects, but without owning those objects. For example, a Rocket object can have a list of Engine objects, but those engines can also be used in other rockets.\n",
    "\n",
    "Let's consider an example where we have a Fleet object that aggregates Rocket objects:"
   ]
  },
  {
   "cell_type": "code",
   "execution_count": null,
   "id": "3d1c7135-8b02-4edd-acab-f78044f37b98",
   "metadata": {},
   "outputs": [],
   "source": [
    "class Engine:\n",
    "    def __init__(self, fuel_type):\n",
    "        self.fuel_type = fuel_type\n",
    "        self.thrust = 0\n",
    "\n",
    "    def start(self):\n",
    "        self.thrust = 100\n",
    "\n",
    "    def stop(self):\n",
    "        self.thrust = 0\n",
    "\n",
    "\n",
    "class Rocket:\n",
    "    def __init__(self, engines):\n",
    "        self.engines = engines\n",
    "\n",
    "    def start_engines(self):\n",
    "        for engine in self.engines:\n",
    "            engine.start()\n",
    "\n",
    "    def stop_engines(self):\n",
    "        for engine in self.engines:\n",
    "            engine.stop()\n",
    "\n",
    "\n",
    "class Fleet:\n",
    "    def __init__(self):\n",
    "        self.rockets = []\n",
    "\n",
    "    def add_rocket(self, rocket):\n",
    "        self.rockets.append(rocket)\n",
    "\n",
    "    def remove_rocket(self, rocket):\n",
    "        self.rockets.remove(rocket)\n",
    "\n",
    "    def start_engines(self):\n",
    "        for rocket in self.rockets:\n",
    "            rocket.start_engines()\n",
    "\n",
    "    def stop_engines(self):\n",
    "        for rocket in self.rockets:\n",
    "            rocket.stop_engines()\n"
   ]
  },
  {
   "cell_type": "markdown",
   "id": "bdfefac3-05ae-42cd-8dd2-258b5718429d",
   "metadata": {},
   "source": [
    "In this example, the Fleet object aggregates Rocket objects. Each Rocket object is initialized with a list of Engine objects, but those Engine objects are not owned by the Rocket object. Instead, the same Engine objects can be used in other Rocket objects as well. The Fleet object has methods to start and stop the engines of all the Rockets in the fleet, but it does not own the Engines themselves.\n",
    "\n",
    "This is an example of aggregation because the Rocket object contains a reference to a list of Engine objects, but does not own or control those Engine objects. The Rocket object simply uses the Engine objects to perform its functions, such as starting and stopping the engines.\n",
    "\n",
    "Aggregation is useful for creating digital twins because it allows you to model complex systems with multiple components. By creating objects that reference other objects, you can create a network of interconnected objects that can be used to simulate the behavior of real-world systems."
   ]
  },
  {
   "cell_type": "markdown",
   "id": "b7bf830a-b677-4fb1-b654-06e56f9fa4b0",
   "metadata": {},
   "source": [
    "Exercises for composition and aggregation:"
   ]
  },
  {
   "cell_type": "code",
   "execution_count": null,
   "id": "d5844c68-ec9f-4aa3-80fc-6690985778a0",
   "metadata": {},
   "outputs": [],
   "source": []
  },
  {
   "cell_type": "markdown",
   "id": "4ce02f95-0c11-4438-bd04-d13b0cd2dc3d",
   "metadata": {},
   "source": [
    "- Create a Car object using composition with Wheel objects as components."
   ]
  },
  {
   "cell_type": "code",
   "execution_count": null,
   "id": "97ccd6e4-5310-4e4e-a9f3-81f559338eb2",
   "metadata": {},
   "outputs": [],
   "source": []
  },
  {
   "cell_type": "markdown",
   "id": "4cd4dc56-e34d-410e-ab3a-20a5740afc52",
   "metadata": {},
   "source": [
    "- Create a House object using composition with Room objects as components."
   ]
  },
  {
   "cell_type": "code",
   "execution_count": null,
   "id": "e160bb53-ccf8-41b5-91dd-3294dffbd71e",
   "metadata": {},
   "outputs": [],
   "source": []
  },
  {
   "cell_type": "markdown",
   "id": "a71bc80f-428b-41a4-858c-5172d25c839d",
   "metadata": {},
   "source": [
    "- Create a Computer object using composition with CPU, Memory, and Storage objects as components."
   ]
  },
  {
   "cell_type": "code",
   "execution_count": null,
   "id": "c5910c7a-73b9-44aa-b0bf-59c436e668ad",
   "metadata": {},
   "outputs": [],
   "source": []
  },
  {
   "cell_type": "markdown",
   "id": "71ea313b-1928-4edf-9981-a53094c56631",
   "metadata": {},
   "source": [
    "- Create a School object using aggregation with Teacher and Student objects as components."
   ]
  },
  {
   "cell_type": "code",
   "execution_count": null,
   "id": "7e5ce1dc-9f6c-448f-a1ea-c1493bea2569",
   "metadata": {},
   "outputs": [],
   "source": []
  },
  {
   "cell_type": "markdown",
   "id": "f7b62ab9-1153-482f-8df2-1cf2ebc50951",
   "metadata": {},
   "source": [
    "- Create a Library object using aggregation with Book objects as components."
   ]
  },
  {
   "cell_type": "code",
   "execution_count": null,
   "id": "be7253df-6981-449c-9bfa-38afb7e6dd90",
   "metadata": {},
   "outputs": [],
   "source": []
  },
  {
   "cell_type": "markdown",
   "id": "7ba0f8c0-502e-4fb8-8b67-be4fd9fc8c27",
   "metadata": {},
   "source": [
    "- Create a Restaurant object using composition with Kitchen and DiningRoom objects as components."
   ]
  },
  {
   "cell_type": "code",
   "execution_count": null,
   "id": "610fa6b0-ba18-4246-a798-ba1bb201e4dd",
   "metadata": {},
   "outputs": [],
   "source": []
  },
  {
   "cell_type": "markdown",
   "id": "1f057a10-f1e0-403a-a2db-ab7f8398bcde",
   "metadata": {},
   "source": [
    "- Create a University object using aggregation with Department and Professor objects as components."
   ]
  },
  {
   "cell_type": "code",
   "execution_count": null,
   "id": "d5c696e2-917e-4fe8-bf60-993ef038d486",
   "metadata": {},
   "outputs": [],
   "source": []
  },
  {
   "cell_type": "markdown",
   "id": "4e13518c-1e7e-4d67-a633-cf9180e9d283",
   "metadata": {},
   "source": [
    "- Create a Hospital object using composition with OperatingRoom and PatientRoom objects as components."
   ]
  },
  {
   "cell_type": "code",
   "execution_count": null,
   "id": "ec410814-2bce-4531-8d5f-d875194e62f7",
   "metadata": {},
   "outputs": [],
   "source": []
  },
  {
   "cell_type": "markdown",
   "id": "b19ff24d-6af2-4657-aaf1-337ac56196f4",
   "metadata": {},
   "source": [
    "- Create a Bank object using aggregation with Account objects as components."
   ]
  },
  {
   "cell_type": "code",
   "execution_count": null,
   "id": "2480e9f4-3ca1-4cce-87d5-b49b8ea6fd1b",
   "metadata": {},
   "outputs": [],
   "source": []
  },
  {
   "cell_type": "markdown",
   "id": "dd9ebf33-7321-425f-bd99-6c2429433489",
   "metadata": {},
   "source": [
    "- Create a Zoo object using composition with Animal objects as components."
   ]
  },
  {
   "cell_type": "code",
   "execution_count": null,
   "id": "817d0400-9a8a-4832-8d56-dc752320a59a",
   "metadata": {},
   "outputs": [],
   "source": []
  }
 ],
 "metadata": {
  "kernelspec": {
   "display_name": "Python 3 (ipykernel)",
   "language": "python",
   "name": "python3"
  },
  "language_info": {
   "codemirror_mode": {
    "name": "ipython",
    "version": 3
   },
   "file_extension": ".py",
   "mimetype": "text/x-python",
   "name": "python",
   "nbconvert_exporter": "python",
   "pygments_lexer": "ipython3",
   "version": "3.10.9"
  }
 },
 "nbformat": 4,
 "nbformat_minor": 5
}
