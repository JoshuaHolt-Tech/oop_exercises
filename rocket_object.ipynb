{
 "cells": [
  {
   "cell_type": "code",
   "execution_count": 1,
   "id": "83b841b7-0a2e-481c-8dc4-506ef0f2acf0",
   "metadata": {},
   "outputs": [],
   "source": [
    "import numpy as np\n",
    "import matplotlib.pyplot as plt"
   ]
  },
  {
   "cell_type": "code",
   "execution_count": 2,
   "id": "ad8bc66d-138e-499b-90aa-7209f44046c8",
   "metadata": {},
   "outputs": [],
   "source": [
    "#Initial conditions\n",
    "GRAVITY = -9.81"
   ]
  },
  {
   "cell_type": "code",
   "execution_count": 3,
   "id": "01ae11ed-961c-4425-8fbc-092dbacd3089",
   "metadata": {},
   "outputs": [],
   "source": [
    "class Rocket:\n",
    "    def __init__(self, init_position, init_velocity, init_mass, burn_time, delta_t = 1):\n",
    "        self.position = init_position\n",
    "        self.velocity = init_velocity\n",
    "        self.mass = init_mass #kg\n",
    "        self.burn_time = burn_time #seconds\n",
    "        self.dt = delta_t #seconds\n",
    "        \n",
    "    def update_vx(self, x_acceleration=0):\n",
    "        self.velocity[0] += x_acceleration\n",
    "        \n",
    "    def update_vy(self, y_acceleration=0):\n",
    "        self.velocity[1] += self.local_gravity() + y_acceleration\n",
    "\n",
    "    def update_vz(self, z_acceleration=0):\n",
    "        self.velocity[2] += z_acceleration\n",
    "        \n",
    "    # Thrust to position change formula is: change_in_position = thrust / mass * delta_t\n",
    "    def update_position(self):\n",
    "        self.position[0] += self.velocity[0]\n",
    "        self.position[1] += self.velocity[1]\n",
    "        self.position[2] += self.velocity[2]\n",
    "    \n",
    "    def update_mass(self, mass_change = 0):\n",
    "        self.mass += mass_change\n",
    "        return self.mass\n",
    "        \n",
    "    #This is for fututre development\n",
    "    def local_gravity(self):\n",
    "        return -9.81\n",
    "    \n",
    "    #Maybe this should be its own function.\n",
    "    def launch(self):\n",
    "        t = np.arange(0, self.burn_time, self.dt)\n",
    "        main_engine_thrust = 200 #Newtons\n",
    "        #Calc is wrong. Figure out why. seconds^2?\n",
    "        position_change = (main_engine_thrust + self.local_gravity() / (self.update_mass()))**1/2\n",
    "        for i in range(len(t)):\n",
    "            self.update_vy(position_change)\n",
    "            self.update_position()\n",
    "            print(f\"Position: {self.position}\")\n",
    "            print(f\"Velocity: {self.velocity}\")\n",
    "            print(\"-----------------------------\")\n",
    "\n",
    "        \n",
    "        \n",
    "            "
   ]
  },
  {
   "cell_type": "code",
   "execution_count": 4,
   "id": "7e8b319a-ee79-4b91-9a0f-de620de6636d",
   "metadata": {},
   "outputs": [],
   "source": [
    "\n",
    "sparky_mcsparks = Rocket([0,0,0],[0,0,0],1000,1)"
   ]
  },
  {
   "cell_type": "code",
   "execution_count": 5,
   "id": "c9408e0c-3f1b-40e7-883e-b5f08c5b1851",
   "metadata": {},
   "outputs": [
    {
     "name": "stdout",
     "output_type": "stream",
     "text": [
      "Position: [0, 90.185095, 0]\n",
      "Velocity: [0, 90.185095, 0]\n",
      "-----------------------------\n",
      "Position: [0, 170.56019, 0]\n",
      "Velocity: [0, 80.375095, 0]\n",
      "-----------------------------\n",
      "Position: [0, 241.12528500000002, 0]\n",
      "Velocity: [0, 70.565095, 0]\n",
      "-----------------------------\n",
      "Position: [0, 301.88038, 0]\n",
      "Velocity: [0, 60.755095, 0]\n",
      "-----------------------------\n",
      "Position: [0, 352.825475, 0]\n",
      "Velocity: [0, 50.945094999999995, 0]\n",
      "-----------------------------\n",
      "Position: [0, 393.96056999999996, 0]\n",
      "Velocity: [0, 41.13509499999999, 0]\n",
      "-----------------------------\n",
      "Position: [0, 425.28566499999994, 0]\n",
      "Velocity: [0, 31.32509499999999, 0]\n",
      "-----------------------------\n",
      "Position: [0, 446.8007599999999, 0]\n",
      "Velocity: [0, 21.515094999999988, 0]\n",
      "-----------------------------\n",
      "Position: [0, 458.5058549999999, 0]\n",
      "Velocity: [0, 11.705094999999988, 0]\n",
      "-----------------------------\n",
      "Position: [0, 460.40094999999985, 0]\n",
      "Velocity: [0, 1.895094999999987, 0]\n",
      "-----------------------------\n",
      "Position: [0, 452.4860449999998, 0]\n",
      "Velocity: [0, -7.914905000000013, 0]\n",
      "-----------------------------\n",
      "Position: [0, 434.7611399999998, 0]\n",
      "Velocity: [0, -17.724905000000014, 0]\n",
      "-----------------------------\n",
      "Position: [0, 407.22623499999975, 0]\n",
      "Velocity: [0, -27.534905000000016, 0]\n",
      "-----------------------------\n",
      "Position: [0, 369.8813299999997, 0]\n",
      "Velocity: [0, -37.34490500000002, 0]\n",
      "-----------------------------\n",
      "Position: [0, 322.72642499999967, 0]\n",
      "Velocity: [0, -47.15490500000002, 0]\n",
      "-----------------------------\n",
      "Position: [0, 265.7615199999996, 0]\n",
      "Velocity: [0, -56.96490500000002, 0]\n",
      "-----------------------------\n",
      "Position: [0, 198.9866149999996, 0]\n",
      "Velocity: [0, -66.77490500000002, 0]\n",
      "-----------------------------\n",
      "Position: [0, 122.40170999999958, 0]\n",
      "Velocity: [0, -76.58490500000002, 0]\n",
      "-----------------------------\n",
      "Position: [0, 36.00680499999956, 0]\n",
      "Velocity: [0, -86.39490500000002, 0]\n",
      "-----------------------------\n",
      "Position: [0, -60.198100000000466, 0]\n",
      "Velocity: [0, -96.20490500000002, 0]\n",
      "-----------------------------\n"
     ]
    }
   ],
   "source": [
    "\n",
    "sparky_mcsparks.launch()\n",
    "while sparky_mcsparks.position[1] > 0:\n",
    "    sparky_mcsparks.update_vx()\n",
    "    sparky_mcsparks.update_vy()\n",
    "    sparky_mcsparks.update_vz()\n",
    "    sparky_mcsparks.update_position()\n",
    "    print(f\"Position: {sparky_mcsparks.position}\")\n",
    "    print(f\"Velocity: {sparky_mcsparks.velocity}\")\n",
    "    print(\"-----------------------------\")"
   ]
  },
  {
   "cell_type": "code",
   "execution_count": null,
   "id": "615fc130-359a-4a7c-a3ed-2556fc1c46c8",
   "metadata": {},
   "outputs": [],
   "source": []
  }
 ],
 "metadata": {
  "kernelspec": {
   "display_name": "Python 3 (ipykernel)",
   "language": "python",
   "name": "python3"
  },
  "language_info": {
   "codemirror_mode": {
    "name": "ipython",
    "version": 3
   },
   "file_extension": ".py",
   "mimetype": "text/x-python",
   "name": "python",
   "nbconvert_exporter": "python",
   "pygments_lexer": "ipython3",
   "version": "3.10.9"
  }
 },
 "nbformat": 4,
 "nbformat_minor": 5
}
